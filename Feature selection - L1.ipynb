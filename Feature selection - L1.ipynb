{
 "cells": [
  {
   "cell_type": "code",
   "execution_count": 1,
   "metadata": {
    "collapsed": true
   },
   "outputs": [],
   "source": [
    "from sklearn.datasets import fetch_mldata\n",
    "from sklearn.datasets import fetch_20newsgroups\n",
    "from sklearn.linear_model import LogisticRegression\n",
    "from sklearn.tree import DecisionTreeClassifier\n",
    "from sklearn.feature_extraction.text import CountVectorizer\n",
    "from sklearn.feature_extraction.text import TfidfTransformer\n",
    "import matplotlib.pyplot as plt\n",
    "import numpy as np\n",
    "import pandas as pd\n",
    "import csv\n",
    "from sklearn.utils import shuffle\n",
    "%matplotlib inline"
   ]
  },
  {
   "cell_type": "code",
   "execution_count": 2,
   "metadata": {},
   "outputs": [
    {
     "name": "stderr",
     "output_type": "stream",
     "text": [
      "/Users/sasankauppu/anaconda2/lib/python2.7/site-packages/sklearn/feature_extraction/text.py:1089: FutureWarning: Conversion of the second argument of issubdtype from `float` to `np.floating` is deprecated. In future, it will be treated as `np.float64 == np.dtype(float).type`.\n",
      "  if hasattr(X, 'dtype') and np.issubdtype(X.dtype, np.float):\n"
     ]
    }
   ],
   "source": [
    "ng = fetch_20newsgroups(subset='all')\n",
    "\n",
    "ng_X = ng.data\n",
    "ng_y = ng.target\n",
    "\n",
    "count_vect = CountVectorizer(stop_words=\"english\",min_df=3,max_df=0.5)\n",
    "ng_X = count_vect.fit_transform(ng_X)\n",
    "\n",
    "tfidf_transformer = TfidfTransformer(use_idf=True)\n",
    "ng_X = tfidf_transformer.fit_transform(ng_X)\n",
    "\n",
    "ng_X = np.asarray(ng_X.todense())"
   ]
  },
  {
   "cell_type": "code",
   "execution_count": 3,
   "metadata": {
    "collapsed": true
   },
   "outputs": [],
   "source": [
    "idx = np.random.permutation(len(ng_X))\n",
    "ng_X,ng_y = ng_X[idx], ng_y[idx]\n",
    "\n",
    "split = int(len(ng_X)*0.75)\n",
    "\n",
    "ng_X_train = ng_X[:split]\n",
    "ng_y_train = ng_y[:split]\n",
    "ng_X_test = ng_X[split:]\n",
    "ng_y_test = ng_y[split:]\n",
    "\n",
    "del(ng)\n",
    "del(ng_X)\n",
    "del(ng_y)"
   ]
  },
  {
   "cell_type": "code",
   "execution_count": 4,
   "metadata": {},
   "outputs": [
    {
     "name": "stdout",
     "output_type": "stream",
     "text": [
      "[LibLinear]Training accuracy:  0.8809961794254988\n",
      "Testing accuracy:  0.83276740237691\n"
     ]
    }
   ],
   "source": [
    "logmodel = LogisticRegression(penalty='l1',verbose=1,solver = 'liblinear',max_iter=300)\n",
    "logmodel.fit(ng_X_train, ng_y_train)\n",
    "\n",
    "print \"Training accuracy: \",logmodel.score(ng_X_train,ng_y_train)\n",
    "print \"Testing accuracy: \",logmodel.score(ng_X_test,ng_y_test)"
   ]
  },
  {
   "cell_type": "code",
   "execution_count": null,
   "metadata": {
    "collapsed": true
   },
   "outputs": [],
   "source": []
  },
  {
   "cell_type": "code",
   "execution_count": 5,
   "metadata": {},
   "outputs": [
    {
     "name": "stdout",
     "output_type": "stream",
     "text": [
      "(14134, 52290) (14134,)\n"
     ]
    }
   ],
   "source": [
    "print ng_X_train.shape,ng_y_train.shape"
   ]
  },
  {
   "cell_type": "code",
   "execution_count": 6,
   "metadata": {
    "collapsed": true
   },
   "outputs": [],
   "source": [
    "new_features = np.argsort(np.sum(np.absolute(logmodel.coef_),axis=0))[-200:]\n",
    "ng_X_train = ng_X_train[:,new_features]\n",
    "ng_X_test = ng_X_test[:,new_features]"
   ]
  },
  {
   "cell_type": "code",
   "execution_count": 10,
   "metadata": {},
   "outputs": [
    {
     "name": "stdout",
     "output_type": "stream",
     "text": [
      "(14134, 200) (4712, 200)\n"
     ]
    }
   ],
   "source": [
    "print ng_X_train.shape,ng_X_test.shape"
   ]
  },
  {
   "cell_type": "code",
   "execution_count": 8,
   "metadata": {},
   "outputs": [
    {
     "name": "stdout",
     "output_type": "stream",
     "text": [
      "Training accuracy:  0.7023489458044432\n",
      "Testing accuracy:  0.6827249575551783\n"
     ]
    },
    {
     "name": "stderr",
     "output_type": "stream",
     "text": [
      "[Parallel(n_jobs=1)]: Done  20 out of  20 | elapsed:    3.6s finished\n"
     ]
    }
   ],
   "source": [
    "logmodel = LogisticRegression(penalty='l2',verbose=1,solver = 'lbfgs',max_iter=100)\n",
    "logmodel.fit(ng_X_train, ng_y_train)\n",
    "\n",
    "print \"Training accuracy: \",logmodel.score(ng_X_train,ng_y_train)\n",
    "print \"Testing accuracy: \",logmodel.score(ng_X_test,ng_y_test)"
   ]
  },
  {
   "cell_type": "code",
   "execution_count": 9,
   "metadata": {},
   "outputs": [
    {
     "name": "stdout",
     "output_type": "stream",
     "text": [
      "Training accuracy:  0.9930663647941135\n",
      "Testing accuracy:  0.6148132427843803\n"
     ]
    }
   ],
   "source": [
    "dtmodel = DecisionTreeClassifier(min_samples_split=2,min_samples_leaf=1)\n",
    "dtmodel.fit(ng_X_train, ng_y_train)\n",
    "\n",
    "print \"Training accuracy: \",dtmodel.score(ng_X_train,ng_y_train)\n",
    "print \"Testing accuracy: \",dtmodel.score(ng_X_test,ng_y_test)"
   ]
  },
  {
   "cell_type": "code",
   "execution_count": null,
   "metadata": {
    "collapsed": true
   },
   "outputs": [],
   "source": []
  }
 ],
 "metadata": {
  "kernelspec": {
   "display_name": "Python 2",
   "language": "python",
   "name": "python2"
  },
  "language_info": {
   "codemirror_mode": {
    "name": "ipython",
    "version": 2
   },
   "file_extension": ".py",
   "mimetype": "text/x-python",
   "name": "python",
   "nbconvert_exporter": "python",
   "pygments_lexer": "ipython2",
   "version": "2.7.13"
  }
 },
 "nbformat": 4,
 "nbformat_minor": 2
}
