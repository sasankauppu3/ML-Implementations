{
 "cells": [
  {
   "cell_type": "code",
   "execution_count": 1,
   "metadata": {},
   "outputs": [],
   "source": [
    "from sklearn.datasets import fetch_mldata\n",
    "from sklearn.datasets import fetch_20newsgroups\n",
    "from sklearn.linear_model import LogisticRegression\n",
    "from sklearn.tree import DecisionTreeClassifier\n",
    "from sklearn.feature_extraction.text import CountVectorizer\n",
    "from sklearn.feature_extraction.text import TfidfTransformer\n",
    "import matplotlib.pyplot as plt\n",
    "import numpy as np\n",
    "import pandas as pd\n",
    "from collections import defaultdict\n",
    "import csv\n",
    "from sklearn.utils import shuffle\n",
    "from random import randint\n",
    "%matplotlib inline"
   ]
  },
  {
   "cell_type": "code",
   "execution_count": 2,
   "metadata": {
    "collapsed": true
   },
   "outputs": [],
   "source": [
    "def display_digit(digit):\n",
    "    \"\"\" \n",
    "    graphically displays a 784x1 vector, representing a digit\n",
    "    \"\"\"\n",
    "    image = digit\n",
    "    plt.figure()\n",
    "    fig = plt.imshow(image.reshape(28,28))\n",
    "    fig.set_cmap('gray_r')\n",
    "    fig.axes.get_xaxis().set_visible(False)\n",
    "    fig.axes.get_yaxis().set_visible(False)\n",
    "    "
   ]
  },
  {
   "cell_type": "markdown",
   "metadata": {},
   "source": [
    "# MNIST"
   ]
  },
  {
   "cell_type": "code",
   "execution_count": 4,
   "metadata": {},
   "outputs": [],
   "source": [
    "mnist = fetch_mldata('MNIST original', data_home=\"/Users/sasankauppu/Desktop/Data Mining CS6220/\")\n",
    "\n",
    "mn_X = mnist.data.reshape([70000,28,28])\n",
    "\n",
    "mn_y_train = mnist.target[:60000]\n",
    "mn_y_test = mnist.target[-10000:]\n",
    "\n",
    "del(mnist)"
   ]
  },
  {
   "cell_type": "code",
   "execution_count": 5,
   "metadata": {},
   "outputs": [],
   "source": [
    "def black_pixel_count(images):\n",
    "    bpcList=[]\n",
    "    for mat in images:\n",
    "        black_count={}\n",
    "\n",
    "        if(mat[0][0])>0:\n",
    "            black_count[\"0-0\"]=1\n",
    "        else:\n",
    "            black_count[\"0-0\"]=0\n",
    "\n",
    "        for i in range(1,mat.shape[0]):\n",
    "            if(mat[i][0])>0:\n",
    "                black_count[str(i)+\"-0\"]=black_count[str(i-1)+\"-0\"]+1\n",
    "            else:\n",
    "                black_count[str(i)+\"-0\"]=black_count[str(i-1)+\"-0\"]\n",
    "\n",
    "        for j in range(1,mat.shape[1]):\n",
    "            if(mat[0][j])>0:\n",
    "                black_count[\"0-\"+str(j)]=black_count[\"0-\"+str(j-1)]+1\n",
    "            else:\n",
    "                black_count[\"0-\"+str(j)]=black_count[\"0-\"+str(j-1)]\n",
    "\n",
    "\n",
    "        for i in range(1,mat.shape[0]):\n",
    "            for j in range(1,mat.shape[1]):\n",
    "                black_count[str(i)+\"-\"+str(j)]=black_count[str(i)+\"-\"+str(j-1)]+black_count[str(i-1)+\"-\"+str(j)]-black_count[str(i-1)+\"-\"+str(j-1)]\n",
    "                if(mat[i][j])>0:\n",
    "                    black_count[str(i)+\"-\"+str(j)]+=1\n",
    "        bpcList.append(black_count)\n",
    "    return bpcList"
   ]
  },
  {
   "cell_type": "code",
   "execution_count": 6,
   "metadata": {},
   "outputs": [],
   "source": [
    "bpcList=black_pixel_count(mn_X)"
   ]
  },
  {
   "cell_type": "code",
   "execution_count": 7,
   "metadata": {},
   "outputs": [],
   "source": [
    "def generate_rectangles():\n",
    "    rects=[]\n",
    "    for i in range(100):\n",
    "        x=0\n",
    "        y=0\n",
    "        l=0\n",
    "        b=0\n",
    "        while (True):\n",
    "            if(100<l*b<250 and (x+l<28 or x-l>0) and (y+b<28 or y-b>0)):\n",
    "                break\n",
    "            x=randint(0,27)\n",
    "            y=randint(0,27)\n",
    "            l=randint(5,20)\n",
    "            b=randint(5,20)\n",
    "        rects.append((x,y,l,b))\n",
    "    return rects"
   ]
  },
  {
   "cell_type": "code",
   "execution_count": 12,
   "metadata": {
    "collapsed": true
   },
   "outputs": [],
   "source": [
    "def get_features(bpcList):\n",
    "    mn_harr_X=[]\n",
    "    rects=generate_rectangles()\n",
    "    \n",
    "    for black_count in bpcList:\n",
    "        feature=[]\n",
    "        for x,y,l,b in rects:\n",
    "            if x+l<28 and y+b<28:\n",
    "                x1=x\n",
    "                x2=x+l\n",
    "                y1=y\n",
    "                y2=y+b\n",
    "            elif x+l<28 and y+b>28:\n",
    "                x1=x\n",
    "                x2=x+l\n",
    "                y1=y-b\n",
    "                y2=y\n",
    "            if x+l>28 and y+b<28:\n",
    "                x1=x-l\n",
    "                x2=x\n",
    "                y1=y\n",
    "                y2=y+b\n",
    "            if x+l>28 and y+b>28:\n",
    "                x1=x-l\n",
    "                x2=x\n",
    "                y1=y-b\n",
    "                y2=y\n",
    "                \n",
    "            hx=int((x1+x2)/2)\n",
    "            hy=int((y1+y2)/2)\n",
    "            \n",
    "            hf1=black_count[str(x2)+\"-\"+str(hy)]-black_count[str(x2)+\"-\"+str(y1)]-black_count[str(x1)+\"-\"+str(hy)]+black_count[str(x1)+\"-\"+str(y1)]\n",
    "            hf2=black_count[str(x2)+\"-\"+str(y2)]-black_count[str(x2)+\"-\"+str(hy)]-black_count[str(x1)+\"-\"+str(y2)]+black_count[str(x1)+\"-\"+str(hy)]\n",
    "            f1=hf1-hf2\n",
    "            \n",
    "            vf1=black_count[str(hx)+\"-\"+str(y2)]-black_count[str(hx)+\"-\"+str(y1)]-black_count[str(x1)+\"-\"+str(y2)]+black_count[str(x1)+\"-\"+str(y1)]\n",
    "            vf2=black_count[str(x2)+\"-\"+str(y2)]-black_count[str(x2)+\"-\"+str(y1)]-black_count[str(hx)+\"-\"+str(y2)]+black_count[str(hx)+\"-\"+str(y1)]\n",
    "            f2=vf1-vf2\n",
    "            \n",
    "            feature.append(f1)\n",
    "            feature.append(f2)\n",
    "        mn_harr_X.append(feature)\n",
    "        \n",
    "    return mn_harr_X"
   ]
  },
  {
   "cell_type": "code",
   "execution_count": 13,
   "metadata": {},
   "outputs": [],
   "source": [
    "mn_X=get_features(bpcList)"
   ]
  },
  {
   "cell_type": "code",
   "execution_count": 17,
   "metadata": {},
   "outputs": [
    {
     "name": "stdout",
     "output_type": "stream",
     "text": [
      "(60000, 200)\n",
      "(10000, 200)\n"
     ]
    }
   ],
   "source": [
    "mn_X_train=mn_X[:60000]\n",
    "mn_X_test=mn_X[-10000:]\n",
    "\n",
    "print np.asarray(mn_X_train).shape\n",
    "print np.asarray(mn_X_test).shape"
   ]
  },
  {
   "cell_type": "code",
   "execution_count": 18,
   "metadata": {},
   "outputs": [
    {
     "name": "stdout",
     "output_type": "stream",
     "text": [
      "Training accuracy:  0.89975\n",
      "Testing accuracy:  0.9065\n"
     ]
    },
    {
     "name": "stderr",
     "output_type": "stream",
     "text": [
      "[Parallel(n_jobs=1)]: Done  10 out of  10 | elapsed:   17.1s finished\n"
     ]
    }
   ],
   "source": [
    "logmodel = LogisticRegression(penalty='l2',verbose=1,solver = 'lbfgs')\n",
    "logmodel.fit(mn_X_train, mn_y_train)\n",
    "\n",
    "print \"Training accuracy: \",logmodel.score(mn_X_train,mn_y_train)\n",
    "print \"Testing accuracy: \",logmodel.score(mn_X_test,mn_y_test)"
   ]
  },
  {
   "cell_type": "code",
   "execution_count": null,
   "metadata": {},
   "outputs": [],
   "source": []
  },
  {
   "cell_type": "code",
   "execution_count": 19,
   "metadata": {},
   "outputs": [
    {
     "name": "stdout",
     "output_type": "stream",
     "text": [
      "Training accuracy:  0.92425\n",
      "Testing accuracy:  0.8825\n"
     ]
    }
   ],
   "source": [
    "dtmodel = DecisionTreeClassifier(max_depth=32,min_samples_split=20,min_samples_leaf=10)\n",
    "dtmodel.fit(mn_X_train,mn_y_train)\n",
    "\n",
    "print \"Training accuracy: \",dtmodel.score(mn_X_train,mn_y_train)\n",
    "print \"Testing accuracy: \",dtmodel.score(mn_X_test,mn_y_test)"
   ]
  },
  {
   "cell_type": "code",
   "execution_count": null,
   "metadata": {},
   "outputs": [],
   "source": []
  },
  {
   "cell_type": "code",
   "execution_count": null,
   "metadata": {
    "collapsed": true
   },
   "outputs": [],
   "source": [
    "mn_X_test=None\n",
    "mn_X_train=None\n",
    "mn_y_test=None\n",
    "mn_y_train=None"
   ]
  },
  {
   "cell_type": "code",
   "execution_count": null,
   "metadata": {
    "collapsed": true
   },
   "outputs": [],
   "source": []
  }
 ],
 "metadata": {
  "kernelspec": {
   "display_name": "Python 2",
   "language": "python",
   "name": "python2"
  },
  "language_info": {
   "codemirror_mode": {
    "name": "ipython",
    "version": 2
   },
   "file_extension": ".py",
   "mimetype": "text/x-python",
   "name": "python",
   "nbconvert_exporter": "python",
   "pygments_lexer": "ipython2",
   "version": "2.7.13"
  }
 },
 "nbformat": 4,
 "nbformat_minor": 2
}
