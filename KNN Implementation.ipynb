{
 "cells": [
  {
   "cell_type": "code",
   "execution_count": null,
   "metadata": {
    "collapsed": true
   },
   "outputs": [],
   "source": [
    "import utils as ut\n",
    "from collections import defaultdict\n",
    "from sklearn import preprocessing\n",
    "from sklearn.datasets import fetch_mldata\n",
    "import operator\n",
    "import hickle as hkl\n",
    "from sklearn.datasets import fetch_20newsgroups\n",
    "from sklearn.metrics import accuracy_score\n",
    "from scipy.sparse import csr_matrix\n",
    "import numpy as np\n",
    "from scipy.spatial import distance"
   ]
  },
  {
   "cell_type": "code",
   "execution_count": null,
   "metadata": {
    "collapsed": true
   },
   "outputs": [],
   "source": [
    "#Constants\n",
    "MNISTDS=\"MNIST\"\n",
    "NGDS=\"NG\""
   ]
  },
  {
   "cell_type": "code",
   "execution_count": null,
   "metadata": {
    "collapsed": true
   },
   "outputs": [],
   "source": [
    "## Function to print the k nearest neighbours\n",
    "def print_k_nearest_neighbours(idx , k, similarity_matrix, trainLabels, Dataset,  Asc):\n",
    "    if Dataset==MNISTDS:\n",
    "            indexes = ut.generateSqIndexes(70000,idx,len(trainLabels))\n",
    "            \n",
    "            simDict={}\n",
    "            for i in indexes:\n",
    "                simDict[i[0]]=similarity_matrix[i[1]]\n",
    "            simDict = sorted(simDict.items(), key=operator.itemgetter(1), reverse=not Asc)[:k]\n",
    "\n",
    "            print \"Indices:\"\n",
    "            for i in simDict:\n",
    "                print i[0]\n",
    "\n",
    "            print \"Categories:\"\n",
    "            catdict=defaultdict(int)\n",
    "            for i in simDict:\n",
    "                print trainLabels[i[0]]\n",
    "                catdict[trainLabels[i[0]]]+=1\n",
    "            catdict = sorted(catdict.items(), key=operator.itemgetter(1), reverse=True)\n",
    "            print \"Label:\", catdict[0][0]\n",
    "    \n",
    "    \n",
    "    elif Dataset==NGDS:\n",
    "            simListTemp = np.argsort(similarity_matrix.getrow(idx).toarray()[0])\n",
    "            if(not Asc):\n",
    "                simListTemp = simListTemp[::-1]\n",
    "            simList = []\n",
    "            for i in simListTemp:\n",
    "                if i<11314:\n",
    "                    simList.append(i)\n",
    "                if len(simList)==k:\n",
    "                    break\n",
    "\n",
    "            print \"Indices:\"\n",
    "            for i in simList:\n",
    "                print i\n",
    "\n",
    "            print \"Categories:\"\n",
    "            catdict=defaultdict(int)\n",
    "            for i in simList:\n",
    "                print trainLabels[i]\n",
    "                catdict[trainLabels[i]]+=1\n",
    "            catdict = sorted(catdict.items(), key=operator.itemgetter(1), reverse=True)\n",
    "            print \"Label:\", catdict[0][0]\n",
    "    \n",
    "    return\n",
    "\n",
    "# Function to predict the label based on KNN\n",
    "def pred_knn(idx , k, similarity_matrix, trainLabels,Dataset, Asc): \n",
    "    if Dataset==MNISTDS:\n",
    "        indexes = ut.generateSqIndexes(70000,idx,len(trainLabels))\n",
    "        simDict={}\n",
    "        for i in indexes:\n",
    "            simDict[i[0]]=similarity_matrix[i[1]]\n",
    "        simDict = sorted(simDict.items(), key=operator.itemgetter(1), reverse=not Asc)[:k]\n",
    "\n",
    "        catdict=defaultdict(int)\n",
    "        for i in simDict:\n",
    "            catdict[trainLabels[i[0]]]+=1\n",
    "        \n",
    "    elif Dataset==NGDS:\n",
    "        simListTemp = np.argsort(similarity_matrix.getrow(idx).toarray()[0])\n",
    "        if(not Asc):\n",
    "            simListTemp = simListTemp[::-1]\n",
    "\n",
    "        simList = []\n",
    "        for i in simListTemp:\n",
    "            if i<11314:\n",
    "                simList.append(i)\n",
    "            if len(simList)==k:\n",
    "                break\n",
    "\n",
    "        catdict=defaultdict(int)\n",
    "        for i in simList:\n",
    "            catdict[trainLabels[i]]+=1\n",
    "    \n",
    "    \n",
    "    catdict = sorted(catdict.items(), key=operator.itemgetter(1), reverse=True)\n",
    "    return catdict[0][0]"
   ]
  },
  {
   "cell_type": "code",
   "execution_count": null,
   "metadata": {
    "collapsed": true,
    "scrolled": true
   },
   "outputs": [],
   "source": [
    "# testRange is a tuple which is the range of elements in sim matrix that needs to be tested.\n",
    "# Asc is true for Euclidean and False for cosine ...\n",
    "def TestKnn(k,simMatrix,labels,testRange,Dataset,Asc=True):\n",
    "    predLabels = []\n",
    "    for i in range(testRange[0],testRange[1]):\n",
    "        if i%1000 ==0:\n",
    "            print \"Progress :\",i,\"/\",testRange[1]\n",
    "        predLabels.append(pred_knn(i,k,simMatrix,labels,Dataset,Asc))\n",
    "        \n",
    "    return predLabels"
   ]
  },
  {
   "cell_type": "markdown",
   "metadata": {},
   "source": [
    "# MNIST DATA"
   ]
  },
  {
   "cell_type": "code",
   "execution_count": null,
   "metadata": {
    "collapsed": true
   },
   "outputs": [],
   "source": [
    "mnist = fetch_mldata('MNIST original', data_home=\"/Users/sasankauppu/Desktop/Data Mining CS6220/\")\n",
    "mnistLabelsTrain = mnist.target[:60000]\n",
    "mnistLabelsTest = mnist.target[-10000:]\n",
    "mnist = None"
   ]
  },
  {
   "cell_type": "code",
   "execution_count": null,
   "metadata": {
    "collapsed": true
   },
   "outputs": [],
   "source": []
  },
  {
   "cell_type": "code",
   "execution_count": null,
   "metadata": {
    "collapsed": true
   },
   "outputs": [],
   "source": [
    "#KNN with cosine matrix\n",
    "mnistPairwiseC = hkl.load('mnistcosine.hkl')"
   ]
  },
  {
   "cell_type": "code",
   "execution_count": null,
   "metadata": {
    "collapsed": true
   },
   "outputs": [],
   "source": [
    "mnistPairwiseC = distance.squareform(mnistPairwiseC)\n",
    "mnistPairwiseC=csr_matrix(mnistPairwiseC)"
   ]
  },
  {
   "cell_type": "code",
   "execution_count": null,
   "metadata": {
    "collapsed": true,
    "scrolled": true
   },
   "outputs": [],
   "source": [
    "predLabels = TestKnn(3,mnistPairwiseC,mnistLabelsTrain,(60000,70000),MNISTDS,True)\n",
    "\n",
    "print accuracy_score(mnistLabelsTest,predLabels)"
   ]
  },
  {
   "cell_type": "code",
   "execution_count": null,
   "metadata": {
    "collapsed": true
   },
   "outputs": [],
   "source": [
    "mnistPairwiseC = None"
   ]
  },
  {
   "cell_type": "code",
   "execution_count": null,
   "metadata": {
    "collapsed": true
   },
   "outputs": [],
   "source": [
    "#KNN with eucledian matrix\n",
    "mnistPairwiseE = hkl.load('mnisteuclidean.hkl')"
   ]
  },
  {
   "cell_type": "code",
   "execution_count": null,
   "metadata": {
    "collapsed": true
   },
   "outputs": [],
   "source": [
    "predLabels = TestKnn(5,mnistPairwiseE,mnistLabelsTrain,(60000,70000),MNISTDS, True)\n",
    "\n",
    "print accuracy_score(mnistLabelsTest,predLabels)"
   ]
  },
  {
   "cell_type": "code",
   "execution_count": null,
   "metadata": {
    "collapsed": true
   },
   "outputs": [],
   "source": [
    "mnistPairwiseE = None"
   ]
  },
  {
   "cell_type": "markdown",
   "metadata": {
    "collapsed": true
   },
   "source": [
    "# NG DATA SET"
   ]
  },
  {
   "cell_type": "code",
   "execution_count": null,
   "metadata": {
    "collapsed": true
   },
   "outputs": [],
   "source": [
    "newsgroups_train = fetch_20newsgroups(subset='train')\n",
    "newsgroups_test = fetch_20newsgroups(subset='test')"
   ]
  },
  {
   "cell_type": "code",
   "execution_count": null,
   "metadata": {
    "collapsed": true
   },
   "outputs": [],
   "source": [
    "ngLabelsTrain = newsgroups_train.target\n",
    "ngLabelsTest = newsgroups_test.target\n",
    "print len(ngLabelsTest),len(ngLabelsTrain)"
   ]
  },
  {
   "cell_type": "code",
   "execution_count": null,
   "metadata": {
    "collapsed": true
   },
   "outputs": [],
   "source": []
  },
  {
   "cell_type": "code",
   "execution_count": null,
   "metadata": {
    "collapsed": true
   },
   "outputs": [],
   "source": [
    "#KNN with cosine matrix\n",
    "ngPairwiseC = hkl.load('ngcosineidf.hkl')"
   ]
  },
  {
   "cell_type": "code",
   "execution_count": null,
   "metadata": {
    "collapsed": true,
    "scrolled": false
   },
   "outputs": [],
   "source": [
    "predLabels = TestKnn(5,ngPairwiseC,ngLabelsTrain,(11314,18846),NGDS,False)\n",
    "\n",
    "print accuracy_score(ngLabelsTest,predLabels)"
   ]
  },
  {
   "cell_type": "code",
   "execution_count": null,
   "metadata": {
    "collapsed": true
   },
   "outputs": [],
   "source": [
    "ngPairwiseC = None"
   ]
  },
  {
   "cell_type": "code",
   "execution_count": null,
   "metadata": {
    "collapsed": true
   },
   "outputs": [],
   "source": [
    "#KNN with euclidean matrix\n",
    "ngPairwiseE = hkl.load('ngeuclideanidf.hkl')"
   ]
  },
  {
   "cell_type": "code",
   "execution_count": null,
   "metadata": {
    "collapsed": true,
    "scrolled": true
   },
   "outputs": [],
   "source": [
    "predLabels = TestKnn(5,csr_matrix(ngPairwiseE),ngLabelsTrain,(11314,18846),NGDS,True)\n",
    "\n",
    "print accuracy_score(ngLabelsTest,predLabels)"
   ]
  },
  {
   "cell_type": "code",
   "execution_count": null,
   "metadata": {
    "collapsed": true
   },
   "outputs": [],
   "source": [
    "ngPairwiseE = None"
   ]
  },
  {
   "cell_type": "code",
   "execution_count": null,
   "metadata": {
    "collapsed": true
   },
   "outputs": [],
   "source": []
  }
 ],
 "metadata": {
  "kernelspec": {
   "display_name": "Python 2",
   "language": "python",
   "name": "python2"
  },
  "language_info": {
   "codemirror_mode": {
    "name": "ipython",
    "version": 2
   },
   "file_extension": ".py",
   "mimetype": "text/x-python",
   "name": "python",
   "nbconvert_exporter": "python",
   "pygments_lexer": "ipython2",
   "version": "2.7.13"
  }
 },
 "nbformat": 4,
 "nbformat_minor": 2
}
