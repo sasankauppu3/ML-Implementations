{
 "cells": [
  {
   "cell_type": "code",
   "execution_count": 2,
   "metadata": {
    "collapsed": true
   },
   "outputs": [],
   "source": [
    "from sklearn.datasets import fetch_mldata\n",
    "from sklearn import preprocessing\n",
    "from sklearn.metrics import pairwise\n",
    "import numpy as np\n",
    "from scipy import sparse,spatial\n",
    "from sklearn.datasets import fetch_20newsgroups\n",
    "from sklearn.feature_extraction.text import CountVectorizer\n",
    "from sklearn.feature_extraction.text import TfidfTransformer\n",
    "import utils as ut\n",
    "import hickle as hkl"
   ]
  },
  {
   "cell_type": "markdown",
   "metadata": {},
   "source": [
    "# MNIST DATASET"
   ]
  },
  {
   "cell_type": "code",
   "execution_count": 3,
   "metadata": {},
   "outputs": [
    {
     "name": "stdout",
     "output_type": "stream",
     "text": [
      "(70000, 784)\n",
      "(70000,)\n"
     ]
    }
   ],
   "source": [
    "mnist = fetch_mldata('MNIST original', data_home=\"/Users/sasankauppu/Desktop/Data Mining CS6220/\")\n",
    "print mnist.data.shape\n",
    "print mnist.target.shape"
   ]
  },
  {
   "cell_type": "code",
   "execution_count": 4,
   "metadata": {},
   "outputs": [
    {
     "name": "stderr",
     "output_type": "stream",
     "text": [
      "/Users/sasankauppu/anaconda2/lib/python2.7/site-packages/sklearn/utils/validation.py:444: DataConversionWarning: Data with input dtype uint8 was converted to float64 by the scale function.\n",
      "  warnings.warn(msg, DataConversionWarning)\n"
     ]
    }
   ],
   "source": [
    "#mnistNorm = preprocessing.MinMaxScaler(feature_range=(0, 1), copy=True).fit(mnist.data).transform(mnist.data)\n",
    "#mnistNorm = sparse.csr_matrix(mnistNorm)\n",
    "mnistNormTrain = preprocessing.scale(mnist.data[:60000], with_mean=True, with_std=True, copy=True)\n",
    "mnistNormTest = preprocessing.scale(mnist.data[-10000:], axis=0, with_mean=True, with_std=True, copy=True)\n",
    "\n",
    "mnistNorm = np.concatenate((mnistNormTrain,mnistNormTest))\n",
    "\n",
    "mnistNormTrain = None\n",
    "mnistNormTest = None"
   ]
  },
  {
   "cell_type": "code",
   "execution_count": null,
   "metadata": {
    "collapsed": true
   },
   "outputs": [],
   "source": [
    "#mnistPairwise = pairwise.cosine_similarity(X=mnistNorm, Y=None, dense_output=False)\n",
    "mnistPairwise = spatial.distance.pdist(mnistNorm, metric='cosine')"
   ]
  },
  {
   "cell_type": "code",
   "execution_count": null,
   "metadata": {
    "collapsed": true
   },
   "outputs": [],
   "source": [
    "mnistPairwise = np.around(mnistPairwise,decimals=4)"
   ]
  },
  {
   "cell_type": "code",
   "execution_count": null,
   "metadata": {
    "collapsed": true
   },
   "outputs": [],
   "source": [
    "%time hkl.dump(mnistPairwise, 'mnistcosinescale.hkl', mode='w', compression='gzip')"
   ]
  },
  {
   "cell_type": "code",
   "execution_count": null,
   "metadata": {
    "collapsed": true
   },
   "outputs": [],
   "source": []
  },
  {
   "cell_type": "code",
   "execution_count": null,
   "metadata": {
    "collapsed": true
   },
   "outputs": [],
   "source": []
  },
  {
   "cell_type": "code",
   "execution_count": null,
   "metadata": {
    "collapsed": true
   },
   "outputs": [],
   "source": [
    "'''import tables\n",
    "h5file = tables.openFile('mnistcosine.h5', mode='w', title=\"Mnist\")\n",
    "root = h5file.root\n",
    "h5file.createArray(root, \"Mnist\", mnistPairwise)\n",
    "\n",
    "h5file.close()\n",
    "\n",
    "#ut.saveNumpyArray(data=mnistPairwise,fname='mnistcosine.h5')\n",
    "import h5py\n",
    "h5f = h5py.File('mnistcosine.h5', 'w')\n",
    "h5f.create_dataset('dataset1', mnistPairwise)\n",
    "h5f.close()\n",
    "\n",
    "mnistPairwise = None'''"
   ]
  },
  {
   "cell_type": "code",
   "execution_count": null,
   "metadata": {
    "collapsed": true
   },
   "outputs": [],
   "source": []
  },
  {
   "cell_type": "code",
   "execution_count": null,
   "metadata": {
    "collapsed": true
   },
   "outputs": [],
   "source": [
    "mnistPairwise = spatial.distance.pdist(mnistNorm, metric='euclidean')"
   ]
  },
  {
   "cell_type": "code",
   "execution_count": null,
   "metadata": {
    "collapsed": true
   },
   "outputs": [],
   "source": [
    "mnistPairwise = np.around(mnistPairwise,decimals=4)"
   ]
  },
  {
   "cell_type": "code",
   "execution_count": null,
   "metadata": {
    "collapsed": true
   },
   "outputs": [],
   "source": [
    "%time hkl.dump(mnistPairwise, 'mnisteuclidean.hkl', mode='w', compression='gzip')"
   ]
  },
  {
   "cell_type": "code",
   "execution_count": null,
   "metadata": {
    "collapsed": true
   },
   "outputs": [],
   "source": [
    "mnistPairwise = None"
   ]
  },
  {
   "cell_type": "code",
   "execution_count": null,
   "metadata": {
    "collapsed": true
   },
   "outputs": [],
   "source": []
  },
  {
   "cell_type": "markdown",
   "metadata": {
    "collapsed": true
   },
   "source": [
    "# NEWS GROUPS DATASET"
   ]
  },
  {
   "cell_type": "code",
   "execution_count": 3,
   "metadata": {},
   "outputs": [],
   "source": [
    "newsgroups_train = fetch_20newsgroups(subset='train')\n",
    "newsgroups_test = fetch_20newsgroups(subset='test')"
   ]
  },
  {
   "cell_type": "code",
   "execution_count": 4,
   "metadata": {
    "collapsed": true
   },
   "outputs": [],
   "source": [
    "newsgroupsData = np.concatenate((newsgroups_train.data,newsgroups_test.data))"
   ]
  },
  {
   "cell_type": "code",
   "execution_count": 5,
   "metadata": {},
   "outputs": [
    {
     "name": "stdout",
     "output_type": "stream",
     "text": [
      "7532\n",
      "11314\n",
      "(18846,)\n"
     ]
    }
   ],
   "source": [
    "print len(newsgroups_test.data)\n",
    "print len(newsgroups_train.data)\n",
    "print newsgroupsData.shape"
   ]
  },
  {
   "cell_type": "code",
   "execution_count": null,
   "metadata": {
    "collapsed": true
   },
   "outputs": [],
   "source": [
    "count_vect = CountVectorizer()\n",
    "newsgroupsData = count_vect.fit_transform(newsgroupsData)\n",
    "\n",
    "tfidf_transformer = TfidfTransformer(use_idf=True)\n",
    "newsgroupsData = tfidf_transformer.fit_transform(newsgroupsData)\n",
    "\n",
    "print newsgroupsData.shape"
   ]
  },
  {
   "cell_type": "code",
   "execution_count": null,
   "metadata": {
    "collapsed": true
   },
   "outputs": [],
   "source": [
    "ngPairwise = pairwise.cosine_similarity(X=newsgroupsData, Y=None, dense_output=False)\n",
    "#ngPairwise = spatial.distance.pdist(newsgroupsData.todense(), metric='cosine')"
   ]
  },
  {
   "cell_type": "code",
   "execution_count": null,
   "metadata": {
    "collapsed": true
   },
   "outputs": [],
   "source": [
    "ngPairwise = np.around(ngPairwise,decimals=4)"
   ]
  },
  {
   "cell_type": "code",
   "execution_count": null,
   "metadata": {
    "collapsed": true
   },
   "outputs": [],
   "source": [
    "%time hkl.dump(ngPairwise, 'ngcosineidf.hkl', mode='w', compression='gzip')"
   ]
  },
  {
   "cell_type": "code",
   "execution_count": null,
   "metadata": {
    "collapsed": true
   },
   "outputs": [],
   "source": []
  },
  {
   "cell_type": "code",
   "execution_count": null,
   "metadata": {
    "collapsed": true
   },
   "outputs": [],
   "source": [
    "ngPairwise = pairwise.euclidean_distances(X=newsgroupsData, Y=None)"
   ]
  },
  {
   "cell_type": "code",
   "execution_count": null,
   "metadata": {
    "collapsed": true
   },
   "outputs": [],
   "source": [
    "ngPairwise = np.around(ngPairwise,decimals=4)"
   ]
  },
  {
   "cell_type": "code",
   "execution_count": null,
   "metadata": {
    "collapsed": true
   },
   "outputs": [],
   "source": [
    "%time hkl.dump(ngPairwise, 'ngeuclideanidf.hkl', mode='w', compression='gzip')"
   ]
  },
  {
   "cell_type": "code",
   "execution_count": null,
   "metadata": {
    "collapsed": true
   },
   "outputs": [],
   "source": []
  }
 ],
 "metadata": {
  "kernelspec": {
   "display_name": "Python 2",
   "language": "python",
   "name": "python2"
  },
  "language_info": {
   "codemirror_mode": {
    "name": "ipython",
    "version": 2
   },
   "file_extension": ".py",
   "mimetype": "text/x-python",
   "name": "python",
   "nbconvert_exporter": "python",
   "pygments_lexer": "ipython2",
   "version": "2.7.13"
  }
 },
 "nbformat": 4,
 "nbformat_minor": 2
}
