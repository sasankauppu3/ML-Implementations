{
 "cells": [
  {
   "cell_type": "code",
   "execution_count": 1,
   "metadata": {
    "collapsed": true
   },
   "outputs": [],
   "source": [
    "import pandas as pd\n",
    "import numpy as np\n",
    "from collections import defaultdict\n",
    "import math\n",
    "import matplotlib.pyplot as plt\n",
    "import numpy as np\n",
    "import operator"
   ]
  },
  {
   "cell_type": "code",
   "execution_count": 2,
   "metadata": {
    "collapsed": true,
    "scrolled": true
   },
   "outputs": [],
   "source": [
    "#index ---- index id of this paper\n",
    "#* ---- paper title\n",
    "#@ ---- authors (separated by semicolons)\n",
    "#t ---- year\n",
    "#c ---- publication venue\n",
    "#% ---- the id of references of this paper (there are multiple lines, with each indicating a reference)\n",
    "#! ---- abstract\n",
    "\n",
    "filePath = \"/Users/sasankauppu/Desktop/Data Mining CS6220/DataMining/AP_train.txt\"\n",
    "\n",
    "def LoadAminerData(filePath):\n",
    "    papersDS = []\n",
    "    tempPaper = {'index': '', 'title': '', 'authors': [], 'year': '', 'venue': '', 'references': [], 'abstract': ''}\n",
    "\n",
    "    with open(filePath, 'r') as fp:\n",
    "        lcounter = 0\n",
    "        for line in fp:\n",
    "            line = line.rstrip()\n",
    "            lcounter += 1\n",
    "            \n",
    "            if len(line) == 0:\n",
    "                papersDS.append(tempPaper)\n",
    "                tempPaper = {'index': '', 'title': '', 'authors': [], 'year': '', 'venue': '', 'references': [], 'abstract': ''}\n",
    "                continue\n",
    "                \n",
    "            if line[0] != '#':\n",
    "                print 'Error in parsing at: ' + str(lcounter)\n",
    "            \n",
    "            if line.startswith('#index'):\n",
    "                tempPaper['index'] = line[6:].strip()\n",
    "            elif line.startswith('#*'):\n",
    "                tempPaper['title'] = line[2:].strip()\n",
    "            elif line.startswith('#@'):\n",
    "                tempPaper['authors'] = [i.strip() for i in line[2:].split(';')]\n",
    "            elif line.startswith('#t'):\n",
    "                tempPaper['year'] = line[2:].strip()\n",
    "            elif line.startswith('#c'):\n",
    "                tempPaper['venue'] = line[2:].strip()\n",
    "            elif line.startswith('#%'):\n",
    "                tempPaper['references'].append(line[2:].strip())\n",
    "            elif line.startswith('#!'):\n",
    "                tempPaper['abstract'] = line[2:].strip()\n",
    "            else:\n",
    "                print 'Error in parsing at: ' + str(lcounter)\n",
    "                \n",
    "        papersDF = pd.DataFrame.from_dict(papersDS, orient='columns')\n",
    "        return papersDF\n",
    "    return\n",
    "    \n",
    "papersDF = LoadAminerData(filePath)"
   ]
  },
  {
   "cell_type": "code",
   "execution_count": 3,
   "metadata": {
    "collapsed": true
   },
   "outputs": [],
   "source": [
    "#print papersDF.head(5)"
   ]
  },
  {
   "cell_type": "code",
   "execution_count": 4,
   "metadata": {},
   "outputs": [
    {
     "name": "stdout",
     "output_type": "stream",
     "text": [
      "Number of distinct authors: 1478739\n",
      "Number of distinct publication venues: 255686\n",
      "Number of distinct publications: 1976815\n",
      "Number of citations: 7250326\n"
     ]
    }
   ],
   "source": [
    "#A. Compute the number of distinct authors, publication venues, publications, and citations/references\n",
    "authorsSet = set()\n",
    "for i in papersDF['authors']:\n",
    "    for j in i:\n",
    "        authorsSet.add(j)\n",
    "print \"Number of distinct authors: \" + str(len(authorsSet))\n",
    "authorsSet=None\n",
    "print \"Number of distinct publication venues: \" + str(len(papersDF['venue'].unique()))\n",
    "print \"Number of distinct publications: \" + str(len(papersDF))\n",
    "        \n",
    "referncesSet = [j for i in papersDF['references'] for j in i]\n",
    "print \"Number of citations: \" + str(len(referncesSet))\n",
    "referncesSet=None"
   ]
  },
  {
   "cell_type": "code",
   "execution_count": null,
   "metadata": {
    "scrolled": true
   },
   "outputs": [],
   "source": [
    "#B. Are these numbers likely to be accurate? As an example look up all the publications venue names associated with the conference “Principles and Practice of Knowledge Discovery in Databases”13 – what do you notice?\n",
    "for i in papersDF[\"venue\"]:\n",
    "    if(\"principles and practice of knowledge discovery in databases\" in i.lower()):\n",
    "        print i"
   ]
  },
  {
   "cell_type": "code",
   "execution_count": 11,
   "metadata": {
    "collapsed": true
   },
   "outputs": [],
   "source": [
    "#C. For each author, construct the list of publications. Plot a histogram of the number of publications per author (use a logarithmic scale on the y axis)\n",
    "\n",
    "authorPublications = defaultdict(set)\n",
    "for i,row in papersDF.iterrows():\n",
    "    for j in row[\"authors\"]:\n",
    "        if j!='':\n",
    "            authorPublications[j].add(row[\"title\"])"
   ]
  },
  {
   "cell_type": "code",
   "execution_count": 12,
   "metadata": {},
   "outputs": [
    {
     "data": {
      "image/png": "[encoded data removed]",
      "text/plain": [
       "<matplotlib.figure.Figure at 0x189fde110>"
      ]
     },
     "metadata": {},
     "output_type": "display_data"
    }
   ],
   "source": [
    "authorCountsList=[]\n",
    "for i in authorPublications:\n",
    "    authorCountsList.append(len(authorPublications[i]))\n",
    "\n",
    "plt.hist(authorCountsList, bins=10,log=True)\n",
    "plt.ylabel('Number of Authors')\n",
    "plt.xlabel('Number of Publications')\n",
    "plt.title('Publications per Author')\n",
    "\n",
    "ax=plt.subplot(111)\n",
    "ax.set_ylim(ymin=1,ymax=10**7)\n",
    "plt.show()"
   ]
  },
  {
   "cell_type": "code",
   "execution_count": 13,
   "metadata": {},
   "outputs": [
    {
     "name": "stdout",
     "output_type": "stream",
     "text": [
      "                  0\n",
      "count  1.478738e+06\n",
      "mean   3.242165e+00\n",
      "std    8.682919e+00\n",
      "min    1.000000e+00\n",
      "25%    1.000000e+00\n",
      "50%    1.000000e+00\n",
      "75%    2.000000e+00\n",
      "max    1.061000e+03\n",
      "0    3.242165\n",
      "dtype: float64\n"
     ]
    },
    {
     "data": {
      "text/plain": [
       "'authorCountsList = None\\nNpAuthorCountsList = None\\nauthorPublications = None'"
      ]
     },
     "execution_count": 13,
     "metadata": {},
     "output_type": "execute_result"
    }
   ],
   "source": [
    "#D. Calculate the mean and standard deviation of the number of publications per author. Also calculate the Q1 (1st quartile14), Q2 (2nd quartile, \n",
    "#or median) and Q3 (3rd quartile) values. Compare the median to the mean and explain the difference between the two values based on the standard \n",
    "#deviation and the 1st and 3rd quartiles.\n",
    "\n",
    "NpAuthorCountsList = pd.DataFrame(np.asarray(authorCountsList))\n",
    "print NpAuthorCountsList.describe()\n",
    "\n",
    "authorCountsList = None\n",
    "NpAuthorCountsList = None\n",
    "authorPublications = None"
   ]
  },
  {
   "cell_type": "code",
   "execution_count": 16,
   "metadata": {
    "collapsed": true
   },
   "outputs": [],
   "source": [
    "#E. Now plot a histogram of the number of publications per venue, as well as calculate the mean, standard deviation, median, Q1, and Q3 values. What is the venue with the largest number of publications in the dataset?\n",
    "venuePublications = defaultdict(list)\n",
    "for i,row in papersDF.iterrows():\n",
    "    if row[\"venue\"]!='':\n",
    "        venuePublications[row[\"venue\"]].append(row[\"index\"])\n",
    "        \n",
    "        "
   ]
  },
  {
   "cell_type": "code",
   "execution_count": 17,
   "metadata": {},
   "outputs": [
    {
     "data": {
      "image/png": "[encoded data removed]",
      "text/plain": [
       "<matplotlib.figure.Figure at 0x117982d50>"
      ]
     },
     "metadata": {},
     "output_type": "display_data"
    }
   ],
   "source": [
    "venueCountsList=[]\n",
    "for i in venuePublications:\n",
    "    venueCountsList.append(len(venuePublications[i]))\n",
    "\n",
    "\n",
    "plt.hist(venueCountsList, bins=10,log=True)\n",
    "plt.ylabel('Number of Venue')\n",
    "plt.xlabel('Number of Publications')\n",
    "plt.title('Publications per Venue')\n",
    "\n",
    "ax=plt.subplot()\n",
    "ax.set_ylim(ymin=1,ymax=10**7)\n",
    "plt.show()"
   ]
  },
  {
   "cell_type": "code",
   "execution_count": 18,
   "metadata": {},
   "outputs": [
    {
     "name": "stdout",
     "output_type": "stream",
     "text": [
      "                   0\n",
      "count  255685.000000\n",
      "mean        7.730966\n",
      "std        83.381071\n",
      "min         1.000000\n",
      "25%         1.000000\n",
      "50%         1.000000\n",
      "75%         1.000000\n",
      "max     11227.000000\n",
      "IEEE Transactions on Information Theory\n"
     ]
    }
   ],
   "source": [
    "NpVenueCountsList = pd.DataFrame(np.asarray(venueCountsList))\n",
    "print NpVenueCountsList.describe()\n",
    "\n",
    "for i in venuePublications:\n",
    "    if(len(venuePublications[i])==NpVenueCountsList.max()[0]):\n",
    "        print i\n",
    "\n",
    "#venueCountsList = None\n",
    "#venuePublications = None\n",
    "#NpVenueCountsList = None"
   ]
  },
  {
   "cell_type": "code",
   "execution_count": null,
   "metadata": {
    "collapsed": true
   },
   "outputs": [],
   "source": []
  },
  {
   "cell_type": "code",
   "execution_count": 19,
   "metadata": {
    "collapsed": true
   },
   "outputs": [],
   "source": [
    "#F. Plot a histogram of the number of references (number of publications a publication refers to) and citations (number of publications referring to a publication) per publication. What is the publication with the largest number of references? What is the publication with the largest number of citations? Do these make sense?\n",
    "def generateCitations(df):\n",
    "    citations = defaultdict(int)\n",
    "    \n",
    "    for i in df[\"references\"]:\n",
    "        for j in i:\n",
    "            citations[j]+=1\n",
    "    \n",
    "    citationsList=[]\n",
    "    for i in df[\"index\"]:\n",
    "        citationsList.append(citations[str(i)])\n",
    "    \n",
    "    return citationsList\n",
    "\n",
    "papersDF[\"citations\"] = generateCitations(papersDF)"
   ]
  },
  {
   "cell_type": "code",
   "execution_count": 27,
   "metadata": {},
   "outputs": [
    {
     "data": {
      "image/png": "[encoded data removed]",
      "text/plain": [
       "<matplotlib.figure.Figure at 0x147707ad0>"
      ]
     },
     "metadata": {},
     "output_type": "display_data"
    }
   ],
   "source": [
    "plt.hist(papersDF['citations'], bins=10,log=True)\n",
    "plt.ylabel('Number of publications')\n",
    "plt.xlabel('Number of citations')\n",
    "\n",
    "plt.show()"
   ]
  },
  {
   "cell_type": "code",
   "execution_count": 31,
   "metadata": {},
   "outputs": [
    {
     "data": {
      "image/png": "[encoded data removed]",
      "text/plain": [
       "<matplotlib.figure.Figure at 0x18a26ad50>"
      ]
     },
     "metadata": {},
     "output_type": "display_data"
    }
   ],
   "source": [
    "rlist=[]\n",
    "for i in papersDF[\"references\"]:\n",
    "    rlist.append(len(i))\n",
    "\n",
    "plt.hist(rlist, bins=10,log=True)\n",
    "plt.ylabel('Number of publications')\n",
    "plt.xlabel('Number of references')\n",
    "\n",
    "plt.show()"
   ]
  },
  {
   "cell_type": "code",
   "execution_count": 81,
   "metadata": {},
   "outputs": [
    {
     "name": "stdout",
     "output_type": "stream",
     "text": [
      "Max number of citations: 408394    Computers and Intractability: A Guide to the Theory of NP-Completeness\n",
      "Name: title, dtype: object 7753\n",
      "Max number of references: 719351    Cited References\n",
      "Name: title, dtype: object 772\n"
     ]
    }
   ],
   "source": [
    "\n",
    "pd.options.display.max_colwidth = 100\n",
    "\n",
    "maxCit = papersDF[\"citations\"].max()\n",
    "print \"Max number of citations:\",papersDF[papersDF['citations'] == maxCit].title,maxCit\n",
    "\n",
    "papersDF['rcount']=rlist\n",
    "print \"Max number of references:\",papersDF[papersDF['rcount'] == max(rlist)].title,max(rlist)\n",
    "del papersDF['rcount']"
   ]
  },
  {
   "cell_type": "code",
   "execution_count": null,
   "metadata": {},
   "outputs": [],
   "source": []
  },
  {
   "cell_type": "code",
   "execution_count": 32,
   "metadata": {
    "collapsed": true
   },
   "outputs": [],
   "source": [
    "#G. Calculate the so called “impact” factor for each venue. To do so, calculate the total number of citations for the publications in the venue, and then divide this number by the number of publications for the venue. Plot a histogram of the results\n",
    "impactFactorDict = {k: g[\"citations\"].tolist() for k,g in papersDF.groupby(\"venue\")}\n"
   ]
  },
  {
   "cell_type": "code",
   "execution_count": 33,
   "metadata": {
    "collapsed": true
   },
   "outputs": [],
   "source": [
    "impactFactorList = []\n",
    "impactFactorDict1 = {}\n",
    "for i in impactFactorDict:\n",
    "    if i!=\"\":\n",
    "        tctr = 0\n",
    "        for j in impactFactorDict[i]: \n",
    "            tctr+=int(j)\n",
    "        impactFactorList.append(float(float(tctr)/len(impactFactorDict[i])))\n",
    "        impactFactorDict1[i]=float(float(tctr)/len(impactFactorDict[i]))"
   ]
  },
  {
   "cell_type": "code",
   "execution_count": 36,
   "metadata": {},
   "outputs": [
    {
     "data": {
      "image/png": "[encoded data removed]",
      "text/plain": [
       "<matplotlib.figure.Figure at 0x193a02a50>"
      ]
     },
     "metadata": {},
     "output_type": "display_data"
    }
   ],
   "source": [
    "plt.hist(impactFactorList, bins=10,log=True)\n",
    "plt.ylabel('Number of Publications')\n",
    "plt.xlabel('Impact Factor')\n",
    "\n",
    "plt.show()"
   ]
  },
  {
   "cell_type": "code",
   "execution_count": null,
   "metadata": {},
   "outputs": [],
   "source": []
  },
  {
   "cell_type": "code",
   "execution_count": null,
   "metadata": {
    "collapsed": true
   },
   "outputs": [],
   "source": []
  },
  {
   "cell_type": "code",
   "execution_count": 37,
   "metadata": {},
   "outputs": [
    {
     "name": "stdout",
     "output_type": "stream",
     "text": [
      "('Computers and Intractability: A Guide to the Theory of NP-Completeness', 7753.0)\n"
     ]
    }
   ],
   "source": [
    "#H. What is the venue with the highest apparent impact factor? Do you believe this number?(http://mdanderson.libanswers.com/faq/26159)\n",
    "\n",
    "impactFactorDict11 = sorted(impactFactorDict1.items(), key=operator.itemgetter(1), reverse=True)\n",
    "\n",
    "for i in impactFactorDict11:\n",
    "    print i\n",
    "    break"
   ]
  },
  {
   "cell_type": "code",
   "execution_count": null,
   "metadata": {
    "collapsed": true
   },
   "outputs": [],
   "source": []
  },
  {
   "cell_type": "code",
   "execution_count": 40,
   "metadata": {},
   "outputs": [
    {
     "data": {
      "image/png": "[encoded data removed]",
      "text/plain": [
       "<matplotlib.figure.Figure at 0x18adba350>"
      ]
     },
     "metadata": {},
     "output_type": "display_data"
    }
   ],
   "source": [
    "#I. Now repeat the calculation from item b., but restrict the calculation to venues with at least 10 publications. How does your histogram change? List the citation counts for all publications from the venue with the highest impact factor. How does the impact factor (mean number of citations) compare to the median number of citations?\n",
    "impactFactorList1 = []\n",
    "impactFactorDict1 = {}\n",
    "for i in impactFactorDict:\n",
    "    if i!=\"\" and len(impactFactorDict[i])>=10:\n",
    "        tctr = 0\n",
    "        for j in impactFactorDict[i]: \n",
    "            tctr+=int(j)\n",
    "        impactFactorList1.append(float(float(tctr)/len(impactFactorDict[i])))\n",
    "        impactFactorDict1[i]=float(float(tctr)/len(impactFactorDict[i]))\n",
    "        \n",
    "plt.hist(impactFactorList1, bins=10,log=True)\n",
    "plt.ylabel('Number of Publications')\n",
    "plt.xlabel('Impact Factor')\n",
    "\n",
    "#ax=plt.subplot()\n",
    "ax.set_ylim(ymin=1,ymax=300000)\n",
    "ax.set_xlim(xmin=1,xmax=8000)\n",
    "plt.show()"
   ]
  },
  {
   "cell_type": "code",
   "execution_count": 47,
   "metadata": {},
   "outputs": [
    {
     "name": "stdout",
     "output_type": "stream",
     "text": [
      "('Proceedings of the 2001 conference on Applications, technologies, architectures, and protocols for computer communications', 214.82608695652175)\n",
      "count    1.976815e+06\n",
      "mean     3.667402e+00\n",
      "std      2.287503e+01\n",
      "min      0.000000e+00\n",
      "25%      0.000000e+00\n",
      "50%      0.000000e+00\n",
      "75%      2.000000e+00\n",
      "max      7.753000e+03\n",
      "Name: citations, dtype: float64\n"
     ]
    }
   ],
   "source": [
    "impactFactorDict11 = sorted(impactFactorDict1.items(), key=operator.itemgetter(1), reverse=True)\n",
    "\n",
    "for i in impactFactorDict11:\n",
    "    print i\n",
    "    break\n",
    "\n",
    "print papersDF['citations'].describe()"
   ]
  },
  {
   "cell_type": "code",
   "execution_count": null,
   "metadata": {
    "collapsed": true
   },
   "outputs": [],
   "source": [
    "#J. Finally, construct a list of publications for each publication year. Use this list to plot the average number of references and average number of citations per publication as a function of time. Explain the differences you see in the trends.\n",
    "\n"
   ]
  },
  {
   "cell_type": "code",
   "execution_count": 48,
   "metadata": {
    "collapsed": true
   },
   "outputs": [],
   "source": [
    "publicationsRefDict = {k: g[\"references\"].tolist() for k,g in papersDF.groupby(\"year\")}"
   ]
  },
  {
   "cell_type": "code",
   "execution_count": 49,
   "metadata": {
    "collapsed": true
   },
   "outputs": [],
   "source": [
    "publicationsRefDict1={}\n",
    "for i in publicationsRefDict:\n",
    "    refCount=0\n",
    "    for j in publicationsRefDict[i]:\n",
    "        refCount+=len(j)\n",
    "    if i!=\"\":\n",
    "        publicationsRefDict1[int(i)]=float(refCount)/float(len(publicationsRefDict[i]))"
   ]
  },
  {
   "cell_type": "code",
   "execution_count": 50,
   "metadata": {
    "collapsed": true
   },
   "outputs": [],
   "source": [
    "X = [k for k in sorted(publicationsRefDict1)]\n",
    "y = [publicationsRefDict1[k] for k in sorted(publicationsRefDict1)]"
   ]
  },
  {
   "cell_type": "code",
   "execution_count": 51,
   "metadata": {},
   "outputs": [
    {
     "data": {
      "image/png": "[encoded data removed]",
      "text/plain": [
       "<matplotlib.figure.Figure at 0x1347d2710>"
      ]
     },
     "metadata": {},
     "output_type": "display_data"
    }
   ],
   "source": [
    "plt.plot(X, y)\n",
    "plt.title(\"Number of references per publication per year\")\n",
    "plt.ylabel(\"Number of references per publication\")\n",
    "plt.xlabel(\"Time\")\n",
    "plt.show()"
   ]
  },
  {
   "cell_type": "code",
   "execution_count": 52,
   "metadata": {
    "collapsed": true
   },
   "outputs": [],
   "source": [
    "publicationsCitDict = {k: g[\"citations\"].tolist() for k,g in papersDF.groupby(\"year\")}"
   ]
  },
  {
   "cell_type": "code",
   "execution_count": 53,
   "metadata": {
    "collapsed": true
   },
   "outputs": [],
   "source": [
    "publicationsYearDict = {k: g[\"index\"].tolist() for k,g in papersDF.groupby(\"year\")}"
   ]
  },
  {
   "cell_type": "code",
   "execution_count": 54,
   "metadata": {
    "collapsed": true
   },
   "outputs": [],
   "source": [
    "citationsPerYear1={}\n",
    "for i in publicationsYearDict:\n",
    "    if i!='':\n",
    "        tc=0\n",
    "        \n",
    "        for j in publicationsCitDict[i]:\n",
    "            tc+=int(j)\n",
    "            \n",
    "        citationsPerYear1[i]=float(tc)/float(len(publicationsYearDict[str(i)]))"
   ]
  },
  {
   "cell_type": "code",
   "execution_count": 55,
   "metadata": {
    "collapsed": true
   },
   "outputs": [],
   "source": [
    "X = [k for k in sorted(citationsPerYear1)]\n",
    "y = [citationsPerYear1[k] for k in sorted(citationsPerYear1)]"
   ]
  },
  {
   "cell_type": "code",
   "execution_count": 57,
   "metadata": {},
   "outputs": [
    {
     "data": {
      "image/png": "[encoded data removed]",
      "text/plain": [
       "<matplotlib.figure.Figure at 0x13a89f610>"
      ]
     },
     "metadata": {},
     "output_type": "display_data"
    }
   ],
   "source": [
    "plt.plot(X, y)\n",
    "plt.title(\"Number of citations per publication per year\")\n",
    "plt.ylabel(\"Number of citations per publication\")\n",
    "plt.xlabel(\"Time\")\n",
    "plt.show()"
   ]
  },
  {
   "cell_type": "code",
   "execution_count": null,
   "metadata": {
    "collapsed": true
   },
   "outputs": [],
   "source": []
  }
 ],
 "metadata": {
  "kernelspec": {
   "display_name": "Python 2",
   "language": "python",
   "name": "python2"
  },
  "language_info": {
   "codemirror_mode": {
    "name": "ipython",
    "version": 2
   },
   "file_extension": ".py",
   "mimetype": "text/x-python",
   "name": "python",
   "nbconvert_exporter": "python",
   "pygments_lexer": "ipython2",
   "version": "2.7.13"
  }
 },
 "nbformat": 4,
 "nbformat_minor": 2
}
