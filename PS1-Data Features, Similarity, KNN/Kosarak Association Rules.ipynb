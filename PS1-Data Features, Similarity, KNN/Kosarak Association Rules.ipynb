{
 "cells": [
  {
   "cell_type": "code",
   "execution_count": 4,
   "metadata": {
    "collapsed": true
   },
   "outputs": [],
   "source": [
    "filePath = \"/Users/sasankauppu/Desktop/Data Mining CS6220/DataMining/kosarak.dat\"\n",
    "numAttr = 41270"
   ]
  },
  {
   "cell_type": "code",
   "execution_count": 5,
   "metadata": {
    "collapsed": true
   },
   "outputs": [],
   "source": [
    "#A. Write a Python program which takes as its argument5 the path to a text file of data (assumed to be in the itemset format above) and produces as output to the console a sparse ARFF file.\n",
    "\n",
    "def generate_arff_file(filePath):\n",
    "    outFile=filePath.replace('kosarak.dat','')+'kosarak.arff'\n",
    "    of=open(outFile,'w')\n",
    "    of.write(\"@relation KosarakData\\n\")\n",
    "    \n",
    "    for i in range(numAttr):\n",
    "        of.write('@attribute a'+str(i)+' {0,1}\\n')\n",
    "    \n",
    "    of.write('@data\\n')\n",
    "    with open(filePath, 'r') as fp:\n",
    "        for line in fp:\n",
    "            newstr=\"{\"\n",
    "            clickArr = sorted(set([int(i) for i in line.split()]))\n",
    "            for j in clickArr:\n",
    "                newstr+=str(j-1)+' 1, '\n",
    "            newstr=newstr[:-2]+'}\\n'\n",
    "            \n",
    "            of.write(newstr)        "
   ]
  },
  {
   "cell_type": "code",
   "execution_count": 6,
   "metadata": {},
   "outputs": [
    {
     "name": "stdout",
     "output_type": "stream",
     "text": [
      "CPU times: user 11 s, sys: 75.4 ms, total: 11.1 s\n",
      "Wall time: 11.2 s\n"
     ]
    }
   ],
   "source": [
    "#B. Use your program to convert the kosarak.dat file to a sparse kosarak.arff. About how long did it take to run?\n",
    "%time generate_arff_file(filePath) "
   ]
  },
  {
   "cell_type": "code",
   "execution_count": null,
   "metadata": {
    "collapsed": true
   },
   "outputs": [],
   "source": [
    "#C. Load the resulting file into Weka (as described above; you should have 41,270 attributes and 990, 002 instances). About how long did it take to load this file?\n",
    "#A) less than 10 secs"
   ]
  },
  {
   "cell_type": "code",
   "execution_count": null,
   "metadata": {
    "collapsed": true
   },
   "outputs": [],
   "source": [
    "#D. Use Weka’s FP-Growth implementation to find rules that have support count of at least 49, 500 and confidence of at least 99% – record your rules (there should be 2).\n",
    "'''\n",
    "=== Run information ===\n",
    "\n",
    "Scheme:       weka.associations.FPGrowth -P 2 -I -1 -N 10 -T 0 -C 0.99 -D 0.05 -U 1.0 -M 49500.0 -S\n",
    "Relation:     KosarakData\n",
    "Instances:    990002\n",
    "Attributes:   41270\n",
    "              [list of attributes omitted]\n",
    "=== Associator model (full training set) ===\n",
    "\n",
    "FPGrowth found 2 rules\n",
    "\n",
    "1. [a10=1, a217=1, a147=1]: 50098 ==> [a5=1]: 49866   <conf:(1)> lift:(1.64) lev:(0.02) conv:(84.4) \n",
    "2. [a10=1, a147=1]: 55759 ==> [a5=1]: 55230   <conf:(0.99)> lift:(1.63) lev:(0.02) conv:(41.3) \n",
    "'''"
   ]
  },
  {
   "cell_type": "code",
   "execution_count": 13,
   "metadata": {
    "collapsed": true
   },
   "outputs": [],
   "source": [
    "#E. Run the algorithm at least 5 times. Then look to the log and record how much time each took. How does the average time compare to the time necessary to convert the dataset and then load into Weka?\n",
    "# Avg: 4 sec"
   ]
  },
  {
   "cell_type": "code",
   "execution_count": null,
   "metadata": {
    "collapsed": true
   },
   "outputs": [],
   "source": []
  }
 ],
 "metadata": {
  "kernelspec": {
   "display_name": "Python 2",
   "language": "python",
   "name": "python2"
  },
  "language_info": {
   "codemirror_mode": {
    "name": "ipython",
    "version": 2
   },
   "file_extension": ".py",
   "mimetype": "text/x-python",
   "name": "python",
   "nbconvert_exporter": "python",
   "pygments_lexer": "ipython2",
   "version": "2.7.13"
  }
 },
 "nbformat": 4,
 "nbformat_minor": 2
}
