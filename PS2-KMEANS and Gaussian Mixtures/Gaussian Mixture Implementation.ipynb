{
 "cells": [
  {
   "cell_type": "code",
   "execution_count": 1,
   "metadata": {
    "collapsed": true
   },
   "outputs": [],
   "source": [
    "import pandas as pd\n",
    "import numpy as np\n",
    "import math\n",
    "from collections import defaultdict\n",
    "import random as rand\n",
    "from sklearn.metrics.pairwise import euclidean_distances\n",
    "from scipy.stats import multivariate_normal\n",
    "import mnist_reader\n",
    "import csv"
   ]
  },
  {
   "cell_type": "code",
   "execution_count": 2,
   "metadata": {
    "collapsed": true
   },
   "outputs": [],
   "source": [
    "def log_sum_exp(u,v):\n",
    "    return (max(u, v) + math.log(math.exp(u - max(u, v)) + math.exp(v - max(u, v))))\n",
    "\n",
    "def logpdf(data,meu , sigma):\n",
    "    logpdfs=[]\n",
    "    for i in data:\n",
    "        val = 0.0\n",
    "        dim = len(data[0])\n",
    "        val+= (math.log(2*math.pi)*-0.5*dim)\n",
    "        \n",
    "        #Cholesky det\n",
    "        #logdet = np.linalg.cholesky(sigma).diagonal()\n",
    "        #logdet = [math.log(i) for i in logdet]\n",
    "        #val+= (-0.5*2*sum(logdet))\n",
    "        \n",
    "        val+= (math.log(np.linalg.det(sigma))*-0.5)\n",
    "        mat = np.array(i)-meu\n",
    "        val+= (-0.5*np.matmul(np.matmul(mat.T,np.linalg.inv(sigma)),mat))\n",
    "        \n",
    "        logpdfs.append(val)\n",
    "    \n",
    "    return logpdfs\n",
    "\n",
    "def Estep(k,data,meuMatrix,sigMatrix,wMatrix,piMatrix):\n",
    "    pdfMatrix=[]\n",
    "    logpdfMatrix=[]\n",
    "    for i in range(k):    \n",
    "        #pdfMatrix.append(multivariate_normal.pdf(data,meuMatrix[i], sigMatrix[i]))\n",
    "        if np.linalg.det(sigMatrix[i])<1e-60:\n",
    "            for j in range(len(sigMatrix[i])):\n",
    "                sigMatrix[i][j][j]+=0.0001\n",
    "                \n",
    "        logpdfMatrix.append(logpdf(data,meuMatrix[i], sigMatrix[i]))\n",
    "        \n",
    "    \n",
    "    for i in range(len(data)):\n",
    "        for j in range(k):\n",
    "            piMatrix[i][j] = float(logpdfMatrix[j][i])+math.log(wMatrix[j])\n",
    "    \n",
    "        denom=log_sum_exp(logpdfMatrix[0][i]+math.log(wMatrix[0]), logpdfMatrix[1][i]+math.log(wMatrix[1]))\n",
    "        for j in range(2,k):\n",
    "            denom = log_sum_exp(denom,logpdfMatrix[j][i]+math.log(wMatrix[j]))\n",
    "\n",
    "        for j in range(k):\n",
    "            piMatrix[i][j] = math.exp(float(piMatrix[i][j]) - denom)\n",
    "    \n",
    "    '''\n",
    "    for i in range(len(data)):\n",
    "        sum1=0\n",
    "        for j in range(k):\n",
    "            piMatrix[i][j] = float(pdfMatrix[j][i])*(wMatrix[j])\n",
    "            sum1+=float(pdfMatrix[j][i])*(wMatrix[j])\n",
    "\n",
    "        for j in range(k):\n",
    "            piMatrix[i][j] = float(piMatrix[i][j])/sum1\n",
    "    '''   \n",
    "    return (piMatrix,logpdfMatrix)\n",
    "\n",
    "def Mstep(k,data,piMatrix):\n",
    "    \n",
    "    wMatrix=[]\n",
    "    for i in range(k):\n",
    "        wMatrix.append(float(sum(pd.DataFrame(piMatrix)[i]))/float(len(data)))\n",
    "    \n",
    "    meuMatrix = []\n",
    "    for i in range(k):\n",
    "        numer=np.array(piMatrix[0][i])*data[0]\n",
    "        denom=piMatrix[0][i]\n",
    "        for j in range(1,len(data)):\n",
    "            numer += np.array(piMatrix[j][i])*data[j]\n",
    "            denom += piMatrix[j][i]\n",
    "        \n",
    "        meuMatrix.append(np.array(numer)/float(denom))\n",
    "    \n",
    "    sigMatrix=[]\n",
    "    for i in range(k):\n",
    "        temp = np.array(data[0]-meuMatrix[i])[np.newaxis]\n",
    "        numer = piMatrix[0][i]*np.matmul(temp.T,temp)\n",
    "        denom = piMatrix[0][i]\n",
    "        for j in range(1,len(data)):\n",
    "            temp = np.array(data[j]-meuMatrix[i])[np.newaxis]\n",
    "            numer += piMatrix[j][i]*np.matmul(temp.T,temp)\n",
    "            denom += piMatrix[j][i]\n",
    "        sigMatrix.append(np.array(numer)/float(denom))\n",
    "    \n",
    "    return (np.array(meuMatrix),np.array(sigMatrix),wMatrix)"
   ]
  },
  {
   "cell_type": "code",
   "execution_count": 3,
   "metadata": {
    "collapsed": true
   },
   "outputs": [],
   "source": [
    "def GaussianMixture(k, data):\n",
    "    meuMatrix=[]        \n",
    "    for i in range(k):\n",
    "        meuMatrix.append(data[rand.randint(0,len(data)-1)])  \n",
    "        \n",
    "    piMatrix =[]\n",
    "    for i in range(len(data)):\n",
    "        piMatrix.append([0 for j in range(k)])\n",
    "        \n",
    "    sim = euclidean_distances(data,np.array(meuMatrix))\n",
    "    for i in range(len(sim)):\n",
    "        ind = np.unravel_index(np.argmin(sim[i], axis=None), sim[i].shape)\n",
    "        piMatrix[i][ind[0]]=1\n",
    "    \n",
    "    \n",
    "    ic=0\n",
    "    prevlikelihood = 0\n",
    "    while(True):\n",
    "        (meuMatrix,sigMatrix,wMatrix) = Mstep(k,data,piMatrix)\n",
    "        \n",
    "        (piMatrix,logpdfMatrix) = Estep(k,data,meuMatrix,sigMatrix,wMatrix,piMatrix)\n",
    "        \n",
    "        likelihood=0\n",
    "        for i in range(len(logpdfMatrix)):\n",
    "            for j in range(len(logpdfMatrix[i])):\n",
    "                likelihood+= piMatrix[j][i]*logpdfMatrix[i][j] + piMatrix[j][i]*math.log(wMatrix[i])\n",
    "        \n",
    "        ic+=1\n",
    "        print \"Iteration\",ic,\"Log-Likelihood:\",likelihood\n",
    "        \n",
    "        if abs(prevlikelihood-likelihood)>1e-4:\n",
    "            prevlikelihood = likelihood\n",
    "        else:\n",
    "            break\n",
    "        \n",
    "    return piMatrix"
   ]
  },
  {
   "cell_type": "code",
   "execution_count": 4,
   "metadata": {
    "collapsed": true
   },
   "outputs": [],
   "source": [
    "def performance_calculator(cluster,categories):\n",
    "    confusion_matrix=[]\n",
    "    for i in cluster:\n",
    "        countDict=defaultdict(int)\n",
    "        for j in cluster[i]:\n",
    "            countDict[j[1]]+=1\n",
    "    \n",
    "        confusion_matrix.append([countDict[i] for i in range(categories)])\n",
    "    \n",
    "    numerator = 0\n",
    "    denominator = 0\n",
    "    for i in confusion_matrix:\n",
    "        numerator+=max(i)\n",
    "        denominator+=sum(i)\n",
    "    \n",
    "    purity = float(numerator)/float(denominator)\n",
    "    \n",
    "    gini_indexes=[]\n",
    "    total=0\n",
    "    for i in confusion_matrix:\n",
    "        gi=1\n",
    "        for j in i:\n",
    "            gi-=((float(j)/float(sum(i)))**2)\n",
    "        gini_indexes.append(gi*sum(i))\n",
    "        total+=sum(i)\n",
    "        \n",
    "    gini = float(sum(gini_indexes))/float(total)\n",
    "    \n",
    "    return (purity,gini,confusion_matrix)\n",
    "\n",
    "def GaussianEval(k,piMatrix,data,labels):\n",
    "    cluster={}\n",
    "    for i in range(k):\n",
    "        cluster[i]=[]\n",
    "    \n",
    "    for i in range(len(piMatrix)):\n",
    "        ind = np.unravel_index(np.argmax(piMatrix[i], axis=None), np.array(piMatrix[i]).shape)\n",
    "        \n",
    "        cluster[ind[0]].append((data[i],labels[i]))\n",
    "    \n",
    "    print \"Gaussian Mixtures: \",k\n",
    "    \n",
    "    purity,gini,confusion_matrix = performance_calculator(cluster,len(set(labels)))\n",
    "    \n",
    "    print \"Purity: \",purity\n",
    "    print \"Gini: \",gini\n",
    "    print \"Confusion Matrix: \",display(pd.DataFrame(confusion_matrix))\n"
   ]
  },
  {
   "cell_type": "code",
   "execution_count": 5,
   "metadata": {
    "collapsed": true
   },
   "outputs": [],
   "source": [
    "def load_spam_data():\n",
    "    data = []\n",
    "\n",
    "    f = open('/Users/sasankauppu/Desktop/Data Mining CS6220/DataMining/spambase/spambase.data')\n",
    "    reader = csv.reader(f)\n",
    "    \n",
    "    for row in reader:\n",
    "        data.append(row)\n",
    "    f.close()\n",
    "    \n",
    "    X = np.array([x[:-1] for x in data]).astype(np.float)\n",
    "    y = np.array([x[-1] for x in data]).astype(np.float)\n",
    "\n",
    "    return X, y"
   ]
  },
  {
   "cell_type": "code",
   "execution_count": 8,
   "metadata": {
    "collapsed": true
   },
   "outputs": [],
   "source": [
    "spam_X,spam_y = load_spam_data()"
   ]
  },
  {
   "cell_type": "code",
   "execution_count": 9,
   "metadata": {
    "scrolled": true
   },
   "outputs": [
    {
     "name": "stdout",
     "output_type": "stream",
     "text": [
      "Iteration 1 Log-Likelihood: -150879.73732\n",
      "Iteration 2 Log-Likelihood: -101596.015659\n",
      "Iteration 3 Log-Likelihood: -77356.2754597\n",
      "Iteration 4 Log-Likelihood: -62555.647036\n",
      "Iteration 5 Log-Likelihood: -54144.8392705\n",
      "Iteration 6 Log-Likelihood: -51817.8851371\n",
      "Iteration 7 Log-Likelihood: -49479.6310961\n",
      "Iteration 8 Log-Likelihood: -48219.9849703\n",
      "Iteration 9 Log-Likelihood: -47584.7936273\n",
      "Iteration 10 Log-Likelihood: -47285.8470775\n",
      "Iteration 11 Log-Likelihood: -47026.532508\n",
      "Iteration 12 Log-Likelihood: -46782.761827\n",
      "Iteration 13 Log-Likelihood: -46615.1430215\n",
      "Iteration 14 Log-Likelihood: -46398.3295946\n",
      "Iteration 15 Log-Likelihood: -46226.6884386\n",
      "Iteration 16 Log-Likelihood: -46174.4575956\n",
      "Iteration 17 Log-Likelihood: -46114.9430364\n",
      "Iteration 18 Log-Likelihood: -46032.183149\n",
      "Iteration 19 Log-Likelihood: -45914.4334646\n",
      "Iteration 20 Log-Likelihood: -45801.812919\n",
      "Iteration 21 Log-Likelihood: -45678.5947795\n",
      "Iteration 22 Log-Likelihood: -45576.4838989\n",
      "Iteration 23 Log-Likelihood: -45498.8371866\n",
      "Iteration 24 Log-Likelihood: -45405.2098218\n",
      "Iteration 25 Log-Likelihood: -45163.729633\n",
      "Iteration 26 Log-Likelihood: -44837.1339154\n",
      "Iteration 27 Log-Likelihood: -44477.0733854\n",
      "Iteration 28 Log-Likelihood: -44115.5576725\n",
      "Iteration 29 Log-Likelihood: -43789.9235217\n",
      "Iteration 30 Log-Likelihood: -43628.3831235\n",
      "Iteration 31 Log-Likelihood: -43512.6947729\n",
      "Iteration 32 Log-Likelihood: -43469.474036\n",
      "Iteration 33 Log-Likelihood: -43411.4987905\n",
      "Iteration 34 Log-Likelihood: -43401.9108843\n",
      "Iteration 35 Log-Likelihood: -43394.2389407\n",
      "Iteration 36 Log-Likelihood: -43382.7576252\n",
      "Iteration 37 Log-Likelihood: -43367.5373101\n",
      "Iteration 38 Log-Likelihood: -43344.1653961\n",
      "Iteration 39 Log-Likelihood: -43315.9349359\n",
      "Iteration 40 Log-Likelihood: -43296.4931944\n",
      "Iteration 41 Log-Likelihood: -43293.3547416\n",
      "Iteration 42 Log-Likelihood: -43292.7625992\n",
      "Iteration 43 Log-Likelihood: -43292.5367098\n",
      "Iteration 44 Log-Likelihood: -43292.4297707\n",
      "Iteration 45 Log-Likelihood: -43292.371346\n",
      "Iteration 46 Log-Likelihood: -43292.3343669\n",
      "Iteration 47 Log-Likelihood: -43292.3056564\n",
      "Iteration 48 Log-Likelihood: -43292.2759329\n",
      "Iteration 49 Log-Likelihood: -43292.2331356\n",
      "Iteration 50 Log-Likelihood: -43292.1507639\n",
      "Iteration 51 Log-Likelihood: -43291.9558659\n",
      "Iteration 52 Log-Likelihood: -43291.4329588\n",
      "Iteration 53 Log-Likelihood: -43289.9387833\n",
      "Iteration 54 Log-Likelihood: -43287.6183502\n",
      "Iteration 55 Log-Likelihood: -43286.7417157\n",
      "Iteration 56 Log-Likelihood: -43286.5271832\n",
      "Iteration 57 Log-Likelihood: -43286.4527453\n",
      "Iteration 58 Log-Likelihood: -43286.4215931\n",
      "Iteration 59 Log-Likelihood: -43286.4068869\n",
      "Iteration 60 Log-Likelihood: -43286.3994714\n",
      "Iteration 61 Log-Likelihood: -43286.3955985\n",
      "Iteration 62 Log-Likelihood: -43286.3935362\n",
      "Iteration 63 Log-Likelihood: -43286.3924257\n",
      "Iteration 64 Log-Likelihood: -43286.3918238\n",
      "Iteration 65 Log-Likelihood: -43286.3914962\n",
      "Iteration 66 Log-Likelihood: -43286.3913174\n",
      "Iteration 67 Log-Likelihood: -43286.3912196\n"
     ]
    }
   ],
   "source": [
    "piMatrix=GaussianMixture(2,spam_X)"
   ]
  },
  {
   "cell_type": "code",
   "execution_count": 10,
   "metadata": {
    "scrolled": true
   },
   "outputs": [
    {
     "name": "stdout",
     "output_type": "stream",
     "text": [
      "Gaussian Mixtures:  2\n",
      "Purity:  0.779830471637\n",
      "Gini:  0.313180842811\n",
      "Confusion Matrix: "
     ]
    },
    {
     "data": {
      "text/html": [
       "<div>\n",
       "<style>\n",
       "    .dataframe thead tr:only-child th {\n",
       "        text-align: right;\n",
       "    }\n",
       "\n",
       "    .dataframe thead th {\n",
       "        text-align: left;\n",
       "    }\n",
       "\n",
       "    .dataframe tbody tr th {\n",
       "        vertical-align: top;\n",
       "    }\n",
       "</style>\n",
       "<table border=\"1\" class=\"dataframe\">\n",
       "  <thead>\n",
       "    <tr style=\"text-align: right;\">\n",
       "      <th></th>\n",
       "      <th>0</th>\n",
       "      <th>1</th>\n",
       "    </tr>\n",
       "  </thead>\n",
       "  <tbody>\n",
       "    <tr>\n",
       "      <th>0</th>\n",
       "      <td>819</td>\n",
       "      <td>1619</td>\n",
       "    </tr>\n",
       "    <tr>\n",
       "      <th>1</th>\n",
       "      <td>1969</td>\n",
       "      <td>194</td>\n",
       "    </tr>\n",
       "  </tbody>\n",
       "</table>\n",
       "</div>"
      ],
      "text/plain": [
       "      0     1\n",
       "0   819  1619\n",
       "1  1969   194"
      ]
     },
     "metadata": {},
     "output_type": "display_data"
    },
    {
     "name": "stdout",
     "output_type": "stream",
     "text": [
      " None\n"
     ]
    }
   ],
   "source": [
    "GaussianEval(2,piMatrix,spam_X,spam_y)"
   ]
  },
  {
   "cell_type": "code",
   "execution_count": null,
   "metadata": {},
   "outputs": [],
   "source": []
  },
  {
   "cell_type": "code",
   "execution_count": 12,
   "metadata": {
    "collapsed": true
   },
   "outputs": [],
   "source": [
    "X_train, y_train = mnist_reader.load_mnist('data/', kind='train')\n",
    "X_test, y_test = mnist_reader.load_mnist('data/', kind='t10k')\n",
    "\n",
    "fashion_X = np.concatenate((X_train,X_test))\n",
    "fashion_y = np.concatenate((y_train,y_test))\n",
    "\n",
    "del(X_train)\n",
    "del(X_test)\n",
    "del(y_train)\n",
    "del(y_test)"
   ]
  },
  {
   "cell_type": "code",
   "execution_count": null,
   "metadata": {
    "scrolled": true
   },
   "outputs": [],
   "source": [
    "#piMatrix=GaussianMixture(10,fashion_X)"
   ]
  },
  {
   "cell_type": "code",
   "execution_count": 17,
   "metadata": {
    "scrolled": true
   },
   "outputs": [
    {
     "name": "stdout",
     "output_type": "stream",
     "text": [
      "Initialization 0\n",
      "  Iteration 0\n",
      "  Iteration 10\n",
      "  Iteration 20\n",
      "  Iteration 30\n",
      "  Iteration 40\n",
      "Initialization converged: True\n"
     ]
    }
   ],
   "source": [
    "from sklearn.mixture import GaussianMixture\n",
    "gmm = GaussianMixture(n_components=10,tol=1e-4,max_iter=300,verbose=True).fit(fashion_X)\n",
    "labels = gmm.predict(fashion_X)"
   ]
  },
  {
   "cell_type": "code",
   "execution_count": null,
   "metadata": {},
   "outputs": [],
   "source": []
  },
  {
   "cell_type": "code",
   "execution_count": 22,
   "metadata": {},
   "outputs": [],
   "source": [
    "cluster={}\n",
    "for i in range(10):\n",
    "    cluster[i]=[]"
   ]
  },
  {
   "cell_type": "code",
   "execution_count": 23,
   "metadata": {
    "collapsed": true
   },
   "outputs": [],
   "source": [
    "for i in range(len(labels)):\n",
    "    cluster[labels[i]].append((fashion_X[i],fashion_y[i]))"
   ]
  },
  {
   "cell_type": "code",
   "execution_count": 25,
   "metadata": {},
   "outputs": [],
   "source": [
    "purity,gini,confusion_matrix  = performance_calculator(cluster,10)"
   ]
  },
  {
   "cell_type": "code",
   "execution_count": 26,
   "metadata": {},
   "outputs": [
    {
     "name": "stdout",
     "output_type": "stream",
     "text": [
      "Purity:  0.451342857143\n",
      "Gini:  0.652456294104\n",
      "Confusion Matrix: "
     ]
    },
    {
     "data": {
      "text/html": [
       "<div>\n",
       "<style>\n",
       "    .dataframe thead tr:only-child th {\n",
       "        text-align: right;\n",
       "    }\n",
       "\n",
       "    .dataframe thead th {\n",
       "        text-align: left;\n",
       "    }\n",
       "\n",
       "    .dataframe tbody tr th {\n",
       "        vertical-align: top;\n",
       "    }\n",
       "</style>\n",
       "<table border=\"1\" class=\"dataframe\">\n",
       "  <thead>\n",
       "    <tr style=\"text-align: right;\">\n",
       "      <th></th>\n",
       "      <th>0</th>\n",
       "      <th>1</th>\n",
       "      <th>2</th>\n",
       "      <th>3</th>\n",
       "      <th>4</th>\n",
       "      <th>5</th>\n",
       "      <th>6</th>\n",
       "      <th>7</th>\n",
       "      <th>8</th>\n",
       "      <th>9</th>\n",
       "    </tr>\n",
       "  </thead>\n",
       "  <tbody>\n",
       "    <tr>\n",
       "      <th>0</th>\n",
       "      <td>59</td>\n",
       "      <td>1</td>\n",
       "      <td>36</td>\n",
       "      <td>12</td>\n",
       "      <td>2</td>\n",
       "      <td>301</td>\n",
       "      <td>89</td>\n",
       "      <td>0</td>\n",
       "      <td>70</td>\n",
       "      <td>13</td>\n",
       "    </tr>\n",
       "    <tr>\n",
       "      <th>1</th>\n",
       "      <td>1498</td>\n",
       "      <td>403</td>\n",
       "      <td>2667</td>\n",
       "      <td>3675</td>\n",
       "      <td>3596</td>\n",
       "      <td>9</td>\n",
       "      <td>2260</td>\n",
       "      <td>0</td>\n",
       "      <td>794</td>\n",
       "      <td>13</td>\n",
       "    </tr>\n",
       "    <tr>\n",
       "      <th>2</th>\n",
       "      <td>4293</td>\n",
       "      <td>24</td>\n",
       "      <td>1398</td>\n",
       "      <td>101</td>\n",
       "      <td>1286</td>\n",
       "      <td>0</td>\n",
       "      <td>2069</td>\n",
       "      <td>0</td>\n",
       "      <td>240</td>\n",
       "      <td>1</td>\n",
       "    </tr>\n",
       "    <tr>\n",
       "      <th>3</th>\n",
       "      <td>490</td>\n",
       "      <td>11</td>\n",
       "      <td>224</td>\n",
       "      <td>33</td>\n",
       "      <td>102</td>\n",
       "      <td>0</td>\n",
       "      <td>628</td>\n",
       "      <td>0</td>\n",
       "      <td>510</td>\n",
       "      <td>0</td>\n",
       "    </tr>\n",
       "    <tr>\n",
       "      <th>4</th>\n",
       "      <td>317</td>\n",
       "      <td>54</td>\n",
       "      <td>2623</td>\n",
       "      <td>115</td>\n",
       "      <td>1855</td>\n",
       "      <td>5</td>\n",
       "      <td>1754</td>\n",
       "      <td>0</td>\n",
       "      <td>791</td>\n",
       "      <td>5</td>\n",
       "    </tr>\n",
       "    <tr>\n",
       "      <th>5</th>\n",
       "      <td>0</td>\n",
       "      <td>0</td>\n",
       "      <td>0</td>\n",
       "      <td>0</td>\n",
       "      <td>0</td>\n",
       "      <td>1163</td>\n",
       "      <td>0</td>\n",
       "      <td>34</td>\n",
       "      <td>11</td>\n",
       "      <td>2495</td>\n",
       "    </tr>\n",
       "    <tr>\n",
       "      <th>6</th>\n",
       "      <td>46</td>\n",
       "      <td>1</td>\n",
       "      <td>26</td>\n",
       "      <td>10</td>\n",
       "      <td>14</td>\n",
       "      <td>4</td>\n",
       "      <td>59</td>\n",
       "      <td>1</td>\n",
       "      <td>1645</td>\n",
       "      <td>1</td>\n",
       "    </tr>\n",
       "    <tr>\n",
       "      <th>7</th>\n",
       "      <td>0</td>\n",
       "      <td>0</td>\n",
       "      <td>0</td>\n",
       "      <td>0</td>\n",
       "      <td>0</td>\n",
       "      <td>4353</td>\n",
       "      <td>0</td>\n",
       "      <td>6598</td>\n",
       "      <td>15</td>\n",
       "      <td>1688</td>\n",
       "    </tr>\n",
       "    <tr>\n",
       "      <th>8</th>\n",
       "      <td>34</td>\n",
       "      <td>1</td>\n",
       "      <td>17</td>\n",
       "      <td>4</td>\n",
       "      <td>10</td>\n",
       "      <td>1163</td>\n",
       "      <td>47</td>\n",
       "      <td>367</td>\n",
       "      <td>2831</td>\n",
       "      <td>2784</td>\n",
       "    </tr>\n",
       "    <tr>\n",
       "      <th>9</th>\n",
       "      <td>263</td>\n",
       "      <td>6505</td>\n",
       "      <td>9</td>\n",
       "      <td>3050</td>\n",
       "      <td>135</td>\n",
       "      <td>2</td>\n",
       "      <td>94</td>\n",
       "      <td>0</td>\n",
       "      <td>93</td>\n",
       "      <td>0</td>\n",
       "    </tr>\n",
       "  </tbody>\n",
       "</table>\n",
       "</div>"
      ],
      "text/plain": [
       "      0     1     2     3     4     5     6     7     8     9\n",
       "0    59     1    36    12     2   301    89     0    70    13\n",
       "1  1498   403  2667  3675  3596     9  2260     0   794    13\n",
       "2  4293    24  1398   101  1286     0  2069     0   240     1\n",
       "3   490    11   224    33   102     0   628     0   510     0\n",
       "4   317    54  2623   115  1855     5  1754     0   791     5\n",
       "5     0     0     0     0     0  1163     0    34    11  2495\n",
       "6    46     1    26    10    14     4    59     1  1645     1\n",
       "7     0     0     0     0     0  4353     0  6598    15  1688\n",
       "8    34     1    17     4    10  1163    47   367  2831  2784\n",
       "9   263  6505     9  3050   135     2    94     0    93     0"
      ]
     },
     "metadata": {},
     "output_type": "display_data"
    },
    {
     "name": "stdout",
     "output_type": "stream",
     "text": [
      " None\n"
     ]
    }
   ],
   "source": [
    "print \"Purity: \",purity\n",
    "print \"Gini: \",gini\n",
    "print \"Confusion Matrix: \",display(pd.DataFrame(confusion_matrix))"
   ]
  },
  {
   "cell_type": "code",
   "execution_count": null,
   "metadata": {
    "collapsed": true
   },
   "outputs": [],
   "source": []
  }
 ],
 "metadata": {
  "kernelspec": {
   "display_name": "Python 2",
   "language": "python",
   "name": "python2"
  },
  "language_info": {
   "codemirror_mode": {
    "name": "ipython",
    "version": 2
   },
   "file_extension": ".py",
   "mimetype": "text/x-python",
   "name": "python",
   "nbconvert_exporter": "python",
   "pygments_lexer": "ipython2",
   "version": "2.7.13"
  }
 },
 "nbformat": 4,
 "nbformat_minor": 2
}
