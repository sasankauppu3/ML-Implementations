{
 "cells": [
  {
   "cell_type": "code",
   "execution_count": 1,
   "metadata": {
    "collapsed": true
   },
   "outputs": [],
   "source": [
    "from sklearn.datasets import fetch_mldata\n",
    "from sklearn.datasets import fetch_20newsgroups\n",
    "from sklearn.linear_model import LogisticRegression\n",
    "from sklearn.tree import DecisionTreeClassifier\n",
    "from sklearn.feature_extraction.text import CountVectorizer\n",
    "from sklearn.feature_extraction.text import TfidfTransformer\n",
    "from sklearn.feature_selection import chi2\n",
    "from sklearn.feature_selection import mutual_info_classif\n",
    "from sklearn.feature_selection import SelectKBest\n",
    "from sklearn.model_selection import train_test_split\n",
    "import matplotlib.pyplot as plt\n",
    "import numpy as np\n",
    "import pandas as pd\n",
    "import csv\n",
    "from sklearn.utils import shuffle\n",
    "%matplotlib inline"
   ]
  },
  {
   "cell_type": "markdown",
   "metadata": {},
   "source": [
    "# 20NG"
   ]
  },
  {
   "cell_type": "code",
   "execution_count": 4,
   "metadata": {
    "collapsed": true
   },
   "outputs": [],
   "source": [
    "def get_ng_fs(chisq=True):\n",
    "    \n",
    "    ng = fetch_20newsgroups(subset='all')\n",
    "    ng_X = ng.data\n",
    "    ng_y = ng.target\n",
    "    \n",
    "    del(ng)\n",
    "    \n",
    "    count_vect = CountVectorizer(stop_words=\"english\",min_df=3,max_df=0.5)\n",
    "    ng_X = count_vect.fit_transform(ng_X)\n",
    "    tfidf_transformer = TfidfTransformer(use_idf=True)\n",
    "    ng_X = tfidf_transformer.fit_transform(ng_X)\n",
    "    \n",
    "    \n",
    "    ng_X_train,ng_X_test,ng_y_train,ng_y_test = train_test_split(ng_X,ng_y,test_size=0.25,random_state=42)\n",
    "    \n",
    "\n",
    "    if(chisq):\n",
    "        mod = SelectKBest(chi2, k=200)\n",
    "    else:\n",
    "        mod = SelectKBest(mutual_info_classif, k=200)\n",
    "    \n",
    "    \n",
    "    ng_X_train = mod.fit_transform(ng_X_train, ng_y_train)\n",
    "    \n",
    "    \n",
    "    mgs = mod.get_support()\n",
    "    at=[]\n",
    "    for j in range(len(mgs)):\n",
    "        if(mgs[j]):\n",
    "            at.append(j)\n",
    "    \n",
    "    ng_X_test=ng_X_test.todense()\n",
    "    ng_X_test=ng_X_test[:,at]\n",
    "\n",
    "    return (ng_X_train,ng_y_train,ng_X_test,ng_y_test)"
   ]
  },
  {
   "cell_type": "code",
   "execution_count": 5,
   "metadata": {},
   "outputs": [],
   "source": [
    "(ng_X_train,ng_y_train,ng_X_test,ng_y_test)=get_ng_fs(True)"
   ]
  },
  {
   "cell_type": "code",
   "execution_count": null,
   "metadata": {},
   "outputs": [],
   "source": []
  },
  {
   "cell_type": "code",
   "execution_count": 8,
   "metadata": {},
   "outputs": [
    {
     "name": "stdout",
     "output_type": "stream",
     "text": [
      "Training accuracy:  0.6709353332389981\n",
      "Testing accuracy:  0.6419779286926995\n"
     ]
    },
    {
     "name": "stderr",
     "output_type": "stream",
     "text": [
      "[Parallel(n_jobs=1)]: Done  20 out of  20 | elapsed:    0.9s finished\n"
     ]
    }
   ],
   "source": [
    "logmodel = LogisticRegression(penalty='l2',verbose=1,solver = 'lbfgs',max_iter=100)\n",
    "logmodel.fit(ng_X_train, ng_y_train)\n",
    "\n",
    "print \"Training accuracy: \",logmodel.score(ng_X_train,ng_y_train)\n",
    "print \"Testing accuracy: \",logmodel.score(ng_X_test,ng_y_test)"
   ]
  },
  {
   "cell_type": "code",
   "execution_count": 9,
   "metadata": {},
   "outputs": [
    {
     "name": "stdout",
     "output_type": "stream",
     "text": [
      "Training accuracy:  0.8896985991226829\n",
      "Testing accuracy:  0.6025042444821732\n"
     ]
    }
   ],
   "source": [
    "dtmodel = DecisionTreeClassifier()\n",
    "dtmodel.fit(ng_X_train, ng_y_train)\n",
    "\n",
    "print \"Training accuracy: \",dtmodel.score(ng_X_train,ng_y_train)\n",
    "print \"Testing accuracy: \",dtmodel.score(ng_X_test,ng_y_test)"
   ]
  },
  {
   "cell_type": "code",
   "execution_count": 10,
   "metadata": {},
   "outputs": [],
   "source": [
    "del(ng_X_train)\n",
    "del(ng_y_train)\n",
    "del(ng_X_test)\n",
    "del(ng_y_test)"
   ]
  },
  {
   "cell_type": "code",
   "execution_count": 11,
   "metadata": {},
   "outputs": [],
   "source": [
    "(ng_X_train,ng_y_train,ng_X_test,ng_y_test)=get_ng_fs(False)"
   ]
  },
  {
   "cell_type": "code",
   "execution_count": 12,
   "metadata": {},
   "outputs": [
    {
     "name": "stdout",
     "output_type": "stream",
     "text": [
      "Training accuracy:  0.40611291920192444\n",
      "Testing accuracy:  0.38115449915110355\n"
     ]
    },
    {
     "name": "stderr",
     "output_type": "stream",
     "text": [
      "[Parallel(n_jobs=1)]: Done  20 out of  20 | elapsed:    0.9s finished\n"
     ]
    }
   ],
   "source": [
    "logmodel = LogisticRegression(penalty='l2',verbose=1,solver = 'lbfgs',max_iter=100)\n",
    "logmodel.fit(ng_X_train, ng_y_train)\n",
    "\n",
    "print \"Training accuracy: \",logmodel.score(ng_X_train,ng_y_train)\n",
    "print \"Testing accuracy: \",logmodel.score(ng_X_test,ng_y_test)"
   ]
  },
  {
   "cell_type": "code",
   "execution_count": 13,
   "metadata": {},
   "outputs": [
    {
     "name": "stdout",
     "output_type": "stream",
     "text": [
      "Training accuracy:  0.9997877458610442\n",
      "Testing accuracy:  0.2807724957555178\n"
     ]
    }
   ],
   "source": [
    "dtmodel = DecisionTreeClassifier()\n",
    "dtmodel.fit(ng_X_train, ng_y_train)\n",
    "\n",
    "print \"Training accuracy: \",dtmodel.score(ng_X_train,ng_y_train)\n",
    "print \"Testing accuracy: \",dtmodel.score(ng_X_test,ng_y_test)"
   ]
  },
  {
   "cell_type": "code",
   "execution_count": 14,
   "metadata": {
    "collapsed": true
   },
   "outputs": [],
   "source": [
    "del(ng_X_train)\n",
    "del(ng_y_train)\n",
    "del(ng_X_test)\n",
    "del(ng_y_test)"
   ]
  },
  {
   "cell_type": "code",
   "execution_count": null,
   "metadata": {
    "collapsed": true
   },
   "outputs": [],
   "source": []
  }
 ],
 "metadata": {
  "kernelspec": {
   "display_name": "Python 2",
   "language": "python",
   "name": "python2"
  },
  "language_info": {
   "codemirror_mode": {
    "name": "ipython",
    "version": 2
   },
   "file_extension": ".py",
   "mimetype": "text/x-python",
   "name": "python",
   "nbconvert_exporter": "python",
   "pygments_lexer": "ipython2",
   "version": "2.7.13"
  }
 },
 "nbformat": 4,
 "nbformat_minor": 2
}
