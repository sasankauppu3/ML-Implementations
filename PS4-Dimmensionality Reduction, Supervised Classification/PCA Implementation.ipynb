{
 "cells": [
  {
   "cell_type": "code",
   "execution_count": 1,
   "metadata": {
    "collapsed": true
   },
   "outputs": [],
   "source": [
    "from sklearn.datasets import fetch_mldata\n",
    "from sklearn.datasets import fetch_20newsgroups\n",
    "from sklearn.linear_model import LogisticRegression\n",
    "from sklearn.tree import DecisionTreeClassifier\n",
    "from sklearn.feature_extraction.text import CountVectorizer\n",
    "from sklearn.feature_extraction.text import TfidfTransformer\n",
    "import matplotlib.pyplot as plt\n",
    "import numpy as np\n",
    "import pandas as pd\n",
    "from numpy import *\n",
    "import csv\n",
    "from sklearn.decomposition import PCA\n",
    "from sklearn.utils import shuffle\n",
    "%matplotlib inline"
   ]
  },
  {
   "cell_type": "code",
   "execution_count": 9,
   "metadata": {
    "collapsed": true
   },
   "outputs": [],
   "source": [
    "def pca(X,ncomp):\n",
    "    #covariance matrix\n",
    "    X = X - X.mean(axis=0)\n",
    "    \n",
    "    U, S, V = linalg.svd(X, full_matrices=False)\n",
    "    U = U[:, :ncomp]\n",
    "    U *= S[:ncomp]\n",
    "    \n",
    "    return U"
   ]
  },
  {
   "cell_type": "code",
   "execution_count": null,
   "metadata": {
    "collapsed": true
   },
   "outputs": [],
   "source": []
  },
  {
   "cell_type": "markdown",
   "metadata": {},
   "source": [
    "# MNIST"
   ]
  },
  {
   "cell_type": "code",
   "execution_count": 10,
   "metadata": {
    "collapsed": true
   },
   "outputs": [],
   "source": [
    "def get_mnist_with_pca(ncomp):\n",
    "    mnist = fetch_mldata('MNIST original', data_home=\"/Users/sasankauppu/Desktop/Data Mining CS6220/\")\n",
    "    mnist_X = mnist.data\n",
    "    \n",
    "    mnist_X = pca(mnist_X,ncomp)\n",
    "    \n",
    "    mn_X_train = mnist_X[:60000]\n",
    "    mn_y_train = mnist.target[:60000]\n",
    "\n",
    "    mn_X_test = mnist_X[-10000:]\n",
    "    mn_y_test = mnist.target[-10000:]\n",
    "\n",
    "    return(mn_X_train,mn_y_train,mn_X_test,mn_y_test)"
   ]
  },
  {
   "cell_type": "code",
   "execution_count": 11,
   "metadata": {},
   "outputs": [],
   "source": [
    "(mn_X_train,mn_y_train,mn_X_test,mn_y_test) = get_mnist_with_pca(5)"
   ]
  },
  {
   "cell_type": "code",
   "execution_count": 12,
   "metadata": {},
   "outputs": [
    {
     "name": "stdout",
     "output_type": "stream",
     "text": [
      "Training accuracy:  0.6437166666666667\n",
      "Testing accuracy:  0.6538\n"
     ]
    },
    {
     "name": "stderr",
     "output_type": "stream",
     "text": [
      "[Parallel(n_jobs=1)]: Done  10 out of  10 | elapsed:    0.9s finished\n"
     ]
    }
   ],
   "source": [
    "logmodel = LogisticRegression(penalty='l2',verbose=1,solver = 'lbfgs',max_iter=100)\n",
    "logmodel.fit(mn_X_train, mn_y_train)\n",
    "\n",
    "print \"Training accuracy: \",logmodel.score(mn_X_train,mn_y_train)\n",
    "print \"Testing accuracy: \",logmodel.score(mn_X_test,mn_y_test)"
   ]
  },
  {
   "cell_type": "code",
   "execution_count": 13,
   "metadata": {},
   "outputs": [
    {
     "name": "stdout",
     "output_type": "stream",
     "text": [
      "Training accuracy:  0.8049333333333333\n",
      "Testing accuracy:  0.7123\n"
     ]
    }
   ],
   "source": [
    "dtmodel = DecisionTreeClassifier(max_depth=32,min_samples_split=20,min_samples_leaf=10)\n",
    "dtmodel.fit(mn_X_train,mn_y_train)\n",
    "\n",
    "print \"Training accuracy: \",dtmodel.score(mn_X_train,mn_y_train)\n",
    "print \"Testing accuracy: \",dtmodel.score(mn_X_test,mn_y_test)"
   ]
  },
  {
   "cell_type": "code",
   "execution_count": 14,
   "metadata": {
    "collapsed": true
   },
   "outputs": [],
   "source": [
    "(mn_X_train,mn_y_train,mn_X_test,mn_y_test) = get_mnist_with_pca(20)"
   ]
  },
  {
   "cell_type": "code",
   "execution_count": 15,
   "metadata": {},
   "outputs": [
    {
     "name": "stdout",
     "output_type": "stream",
     "text": [
      "Training accuracy:  0.8605666666666667\n",
      "Testing accuracy:  0.869\n"
     ]
    },
    {
     "name": "stderr",
     "output_type": "stream",
     "text": [
      "[Parallel(n_jobs=1)]: Done  10 out of  10 | elapsed:    1.4s finished\n"
     ]
    }
   ],
   "source": [
    "logmodel = LogisticRegression(penalty='l2',verbose=1,solver = 'lbfgs',max_iter=100)\n",
    "logmodel.fit(mn_X_train, mn_y_train)\n",
    "\n",
    "print \"Training accuracy: \",logmodel.score(mn_X_train,mn_y_train)\n",
    "print \"Testing accuracy: \",logmodel.score(mn_X_test,mn_y_test)"
   ]
  },
  {
   "cell_type": "code",
   "execution_count": 16,
   "metadata": {},
   "outputs": [
    {
     "name": "stdout",
     "output_type": "stream",
     "text": [
      "Training accuracy:  0.9028166666666667\n",
      "Testing accuracy:  0.8411\n"
     ]
    }
   ],
   "source": [
    "dtmodel = DecisionTreeClassifier(max_depth=32,min_samples_split=20,min_samples_leaf=10)\n",
    "dtmodel.fit(mn_X_train,mn_y_train)\n",
    "\n",
    "print \"Training accuracy: \",dtmodel.score(mn_X_train,mn_y_train)\n",
    "print \"Testing accuracy: \",dtmodel.score(mn_X_test,mn_y_test)"
   ]
  },
  {
   "cell_type": "code",
   "execution_count": 17,
   "metadata": {
    "collapsed": true
   },
   "outputs": [],
   "source": [
    "mn_X_test=None\n",
    "mn_X_train=None\n",
    "mn_y_test=None\n",
    "mn_y_train=None"
   ]
  }
 ],
 "metadata": {
  "kernelspec": {
   "display_name": "Python 2",
   "language": "python",
   "name": "python2"
  },
  "language_info": {
   "codemirror_mode": {
    "name": "ipython",
    "version": 2
   },
   "file_extension": ".py",
   "mimetype": "text/x-python",
   "name": "python",
   "nbconvert_exporter": "python",
   "pygments_lexer": "ipython2",
   "version": "2.7.13"
  }
 },
 "nbformat": 4,
 "nbformat_minor": 2
}
