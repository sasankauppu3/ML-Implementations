{
 "cells": [
  {
   "cell_type": "code",
   "execution_count": 1,
   "metadata": {
    "collapsed": true
   },
   "outputs": [],
   "source": [
    "from sklearn.datasets import fetch_mldata\n",
    "from sklearn.datasets import fetch_20newsgroups\n",
    "from sklearn.linear_model import LogisticRegression\n",
    "from sklearn.tree import DecisionTreeClassifier\n",
    "from sklearn.feature_extraction.text import CountVectorizer\n",
    "from sklearn.feature_extraction.text import TfidfTransformer\n",
    "import matplotlib.pyplot as plt\n",
    "import numpy as np\n",
    "import pandas as pd\n",
    "import csv\n",
    "from sklearn.decomposition import PCA\n",
    "from sklearn.utils import shuffle\n",
    "%matplotlib inline"
   ]
  },
  {
   "cell_type": "markdown",
   "metadata": {},
   "source": [
    "# MNIST"
   ]
  },
  {
   "cell_type": "code",
   "execution_count": 2,
   "metadata": {
    "collapsed": true
   },
   "outputs": [],
   "source": [
    "def get_mnist_with_pca(ncomp):\n",
    "    mnist = fetch_mldata('MNIST original', data_home=\"/Users/sasankauppu/Desktop/Data Mining CS6220/\")\n",
    "    mnist_X = mnist.data\n",
    "    pca5 = PCA(n_components=ncomp)\n",
    "\n",
    "    mn_X_train = mnist_X[:60000]\n",
    "\n",
    "    pca5.fit(mn_X_train)\n",
    "    mn_X_train = pca5.transform(mn_X_train)\n",
    "    mn_y_train = mnist.target[:60000]\n",
    "\n",
    "    mn_X_test = pca5.transform(mnist_X[-10000:])\n",
    "    mn_y_test = mnist.target[-10000:]\n",
    "\n",
    "    return(mn_X_train,mn_y_train,mn_X_test,mn_y_test)"
   ]
  },
  {
   "cell_type": "code",
   "execution_count": 3,
   "metadata": {
    "collapsed": true
   },
   "outputs": [],
   "source": [
    "(mn_X_train,mn_y_train,mn_X_test,mn_y_test) = get_mnist_with_pca(5)"
   ]
  },
  {
   "cell_type": "code",
   "execution_count": 4,
   "metadata": {},
   "outputs": [
    {
     "name": "stdout",
     "output_type": "stream",
     "text": [
      "Training accuracy:  0.64365\n",
      "Testing accuracy:  0.6529\n"
     ]
    },
    {
     "name": "stderr",
     "output_type": "stream",
     "text": [
      "[Parallel(n_jobs=1)]: Done  10 out of  10 | elapsed:    1.0s finished\n"
     ]
    }
   ],
   "source": [
    "logmodel = LogisticRegression(penalty='l2',verbose=1,solver = 'lbfgs',max_iter=100)\n",
    "logmodel.fit(mn_X_train, mn_y_train)\n",
    "\n",
    "print \"Training accuracy: \",logmodel.score(mn_X_train,mn_y_train)\n",
    "print \"Testing accuracy: \",logmodel.score(mn_X_test,mn_y_test)"
   ]
  },
  {
   "cell_type": "code",
   "execution_count": 5,
   "metadata": {},
   "outputs": [
    {
     "name": "stdout",
     "output_type": "stream",
     "text": [
      "Training accuracy:  0.8035666666666667\n",
      "Testing accuracy:  0.7163\n"
     ]
    }
   ],
   "source": [
    "dtmodel = DecisionTreeClassifier(max_depth=32,min_samples_split=20,min_samples_leaf=10)\n",
    "dtmodel.fit(mn_X_train,mn_y_train)\n",
    "\n",
    "print \"Training accuracy: \",dtmodel.score(mn_X_train,mn_y_train)\n",
    "print \"Testing accuracy: \",dtmodel.score(mn_X_test,mn_y_test)"
   ]
  },
  {
   "cell_type": "code",
   "execution_count": 6,
   "metadata": {
    "collapsed": true
   },
   "outputs": [],
   "source": [
    "(mn_X_train,mn_y_train,mn_X_test,mn_y_test) = get_mnist_with_pca(20)"
   ]
  },
  {
   "cell_type": "code",
   "execution_count": 7,
   "metadata": {},
   "outputs": [
    {
     "name": "stdout",
     "output_type": "stream",
     "text": [
      "Training accuracy:  0.8607166666666667\n",
      "Testing accuracy:  0.8687\n"
     ]
    },
    {
     "name": "stderr",
     "output_type": "stream",
     "text": [
      "[Parallel(n_jobs=1)]: Done  10 out of  10 | elapsed:    2.0s finished\n"
     ]
    }
   ],
   "source": [
    "logmodel = LogisticRegression(penalty='l2',verbose=1,solver = 'lbfgs',max_iter=100)\n",
    "logmodel.fit(mn_X_train, mn_y_train)\n",
    "\n",
    "print \"Training accuracy: \",logmodel.score(mn_X_train,mn_y_train)\n",
    "print \"Testing accuracy: \",logmodel.score(mn_X_test,mn_y_test)"
   ]
  },
  {
   "cell_type": "code",
   "execution_count": 8,
   "metadata": {},
   "outputs": [
    {
     "name": "stdout",
     "output_type": "stream",
     "text": [
      "Training accuracy:  0.9024333333333333\n",
      "Testing accuracy:  0.8439\n"
     ]
    }
   ],
   "source": [
    "dtmodel = DecisionTreeClassifier(max_depth=32,min_samples_split=20,min_samples_leaf=10)\n",
    "dtmodel.fit(mn_X_train,mn_y_train)\n",
    "\n",
    "print \"Training accuracy: \",dtmodel.score(mn_X_train,mn_y_train)\n",
    "print \"Testing accuracy: \",dtmodel.score(mn_X_test,mn_y_test)"
   ]
  },
  {
   "cell_type": "code",
   "execution_count": 9,
   "metadata": {
    "collapsed": true
   },
   "outputs": [],
   "source": [
    "mn_X_test=None\n",
    "mn_X_train=None\n",
    "mn_y_test=None\n",
    "mn_y_train=None"
   ]
  },
  {
   "cell_type": "markdown",
   "metadata": {},
   "source": [
    "# SPAMBASE"
   ]
  },
  {
   "cell_type": "code",
   "execution_count": 10,
   "metadata": {
    "collapsed": true
   },
   "outputs": [],
   "source": [
    "def load_spam_data():\n",
    "    data = []\n",
    "\n",
    "    f = open('/Users/sasankauppu/Desktop/Data Mining CS6220/DataMining/spambase/spambase.data')\n",
    "    reader = csv.reader(f)\n",
    "    \n",
    "    for row in reader:\n",
    "        data.append(row)\n",
    "    f.close()\n",
    "    \n",
    "    X = np.array([x[:-1] for x in data]).astype(np.float)\n",
    "    y = np.array([x[-1] for x in data]).astype(np.float)\n",
    "\n",
    "    return X, y"
   ]
  },
  {
   "cell_type": "code",
   "execution_count": 11,
   "metadata": {
    "collapsed": true
   },
   "outputs": [],
   "source": [
    "def get_spam_with_pca(ncomp):\n",
    "    spam_X,spam_y = load_spam_data()\n",
    "    \n",
    "    idx = np.random.permutation(len(spam_X))\n",
    "    spam_X,spam_y = spam_X[idx], spam_y[idx]\n",
    "\n",
    "    split = int(len(spam_X)*0.75)\n",
    "\n",
    "    spam_X_train = spam_X[:split]\n",
    "    \n",
    "    pca5 = PCA(n_components=ncomp)\n",
    "    pca5.fit(spam_X_train)\n",
    "    \n",
    "    spam_X_train = pca5.transform(spam_X_train)\n",
    "    \n",
    "    spam_y_train = spam_y[:split]\n",
    "    spam_X_test = pca5.transform(spam_X[split:])\n",
    "    spam_y_test = spam_y[split:]\n",
    "\n",
    "    return(spam_X_train,spam_X_test,spam_y_train,spam_y_test)\n"
   ]
  },
  {
   "cell_type": "code",
   "execution_count": 12,
   "metadata": {
    "collapsed": true
   },
   "outputs": [],
   "source": [
    "(spam_X_train,spam_X_test,spam_y_train,spam_y_test) = get_spam_with_pca(5)"
   ]
  },
  {
   "cell_type": "code",
   "execution_count": 13,
   "metadata": {},
   "outputs": [
    {
     "name": "stdout",
     "output_type": "stream",
     "text": [
      "Training accuracy:  0.7930434782608695\n",
      "Testing accuracy:  0.792354474370113\n"
     ]
    },
    {
     "name": "stderr",
     "output_type": "stream",
     "text": [
      "[Parallel(n_jobs=1)]: Done   1 out of   1 | elapsed:    0.0s finished\n"
     ]
    }
   ],
   "source": [
    "logmodel = LogisticRegression(penalty='l2',verbose=1,solver = 'lbfgs',max_iter=100)\n",
    "logmodel.fit(spam_X_train, spam_y_train)\n",
    "\n",
    "print \"Training accuracy: \",logmodel.score(spam_X_train,spam_y_train)\n",
    "print \"Testing accuracy: \",logmodel.score(spam_X_test,spam_y_test)"
   ]
  },
  {
   "cell_type": "code",
   "execution_count": 14,
   "metadata": {},
   "outputs": [
    {
     "name": "stdout",
     "output_type": "stream",
     "text": [
      "Training accuracy:  0.9991304347826087\n",
      "Testing accuracy:  0.8635968722849696\n"
     ]
    }
   ],
   "source": [
    "dtmodel = DecisionTreeClassifier()\n",
    "dtmodel.fit(spam_X_train,spam_y_train)\n",
    "\n",
    "print \"Training accuracy: \",dtmodel.score(spam_X_train,spam_y_train)\n",
    "print \"Testing accuracy: \",dtmodel.score(spam_X_test,spam_y_test)"
   ]
  },
  {
   "cell_type": "code",
   "execution_count": 32,
   "metadata": {
    "collapsed": true
   },
   "outputs": [],
   "source": [
    "(spam_X_train,spam_X_test,spam_y_train,spam_y_test) = get_spam_with_pca(20)"
   ]
  },
  {
   "cell_type": "code",
   "execution_count": 33,
   "metadata": {},
   "outputs": [
    {
     "name": "stdout",
     "output_type": "stream",
     "text": [
      "Training accuracy:  0.8994202898550725\n",
      "Testing accuracy:  0.895742832319722\n"
     ]
    },
    {
     "name": "stderr",
     "output_type": "stream",
     "text": [
      "[Parallel(n_jobs=1)]: Done   1 out of   1 | elapsed:    0.1s finished\n"
     ]
    }
   ],
   "source": [
    "logmodel = LogisticRegression(penalty='l2',verbose=1,solver = 'lbfgs',max_iter=100)\n",
    "logmodel.fit(spam_X_train, spam_y_train)\n",
    "\n",
    "print \"Training accuracy: \",logmodel.score(spam_X_train,spam_y_train)\n",
    "print \"Testing accuracy: \",logmodel.score(spam_X_test,spam_y_test)"
   ]
  },
  {
   "cell_type": "code",
   "execution_count": 34,
   "metadata": {},
   "outputs": [
    {
     "name": "stdout",
     "output_type": "stream",
     "text": [
      "Training accuracy:  0.9994202898550725\n",
      "Testing accuracy:  0.8774978279756733\n"
     ]
    }
   ],
   "source": [
    "dtmodel = DecisionTreeClassifier()\n",
    "dtmodel.fit(spam_X_train,spam_y_train)\n",
    "\n",
    "print \"Training accuracy: \",dtmodel.score(spam_X_train,spam_y_train)\n",
    "print \"Testing accuracy: \",dtmodel.score(spam_X_test,spam_y_test)"
   ]
  },
  {
   "cell_type": "code",
   "execution_count": 35,
   "metadata": {
    "collapsed": true
   },
   "outputs": [],
   "source": [
    "(spam_X_train,spam_X_test,spam_y_train,spam_y_test) = get_spam_with_pca(10)"
   ]
  },
  {
   "cell_type": "code",
   "execution_count": 36,
   "metadata": {},
   "outputs": [
    {
     "name": "stdout",
     "output_type": "stream",
     "text": [
      "Training accuracy:  0.8539130434782609\n",
      "Testing accuracy:  0.8496959165942659\n"
     ]
    },
    {
     "name": "stderr",
     "output_type": "stream",
     "text": [
      "[Parallel(n_jobs=1)]: Done   1 out of   1 | elapsed:    0.1s finished\n"
     ]
    }
   ],
   "source": [
    "logmodel = LogisticRegression(penalty='l2',verbose=1,solver = 'lbfgs',max_iter=100)\n",
    "logmodel.fit(spam_X_train, spam_y_train)\n",
    "\n",
    "print \"Training accuracy: \",logmodel.score(spam_X_train,spam_y_train)\n",
    "print \"Testing accuracy: \",logmodel.score(spam_X_test,spam_y_test)"
   ]
  },
  {
   "cell_type": "code",
   "execution_count": 37,
   "metadata": {},
   "outputs": [
    {
     "name": "stdout",
     "output_type": "stream",
     "text": [
      "Training accuracy:  0.9994202898550725\n",
      "Testing accuracy:  0.8688097306689835\n"
     ]
    }
   ],
   "source": [
    "dtmodel = DecisionTreeClassifier()\n",
    "dtmodel.fit(spam_X_train,spam_y_train)\n",
    "\n",
    "print \"Training accuracy: \",dtmodel.score(spam_X_train,spam_y_train)\n",
    "print \"Testing accuracy: \",dtmodel.score(spam_X_test,spam_y_test)"
   ]
  },
  {
   "cell_type": "code",
   "execution_count": 63,
   "metadata": {
    "collapsed": true
   },
   "outputs": [],
   "source": [
    "del(spam_X_test)\n",
    "del(spam_X_train)\n",
    "del(spam_y_test)\n",
    "del(spam_y_train)"
   ]
  }
 ],
 "metadata": {
  "kernelspec": {
   "display_name": "Python 2",
   "language": "python",
   "name": "python2"
  },
  "language_info": {
   "codemirror_mode": {
    "name": "ipython",
    "version": 2
   },
   "file_extension": ".py",
   "mimetype": "text/x-python",
   "name": "python",
   "nbconvert_exporter": "python",
   "pygments_lexer": "ipython2",
   "version": "2.7.13"
  }
 },
 "nbformat": 4,
 "nbformat_minor": 2
}
