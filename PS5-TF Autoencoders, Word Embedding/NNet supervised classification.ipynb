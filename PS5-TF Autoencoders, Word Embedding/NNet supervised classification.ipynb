{
 "cells": [
  {
   "cell_type": "code",
   "execution_count": 27,
   "metadata": {},
   "outputs": [
    {
     "name": "stdout",
     "output_type": "stream",
     "text": [
      "Extracting /Users/sasankauppu/Desktop/Data Mining CS6220/DataMining/Mnist/train-images-idx3-ubyte.gz\n",
      "Extracting /Users/sasankauppu/Desktop/Data Mining CS6220/DataMining/Mnist/train-labels-idx1-ubyte.gz\n",
      "Extracting /Users/sasankauppu/Desktop/Data Mining CS6220/DataMining/Mnist/t10k-images-idx3-ubyte.gz\n",
      "Extracting /Users/sasankauppu/Desktop/Data Mining CS6220/DataMining/Mnist/t10k-labels-idx1-ubyte.gz\n"
     ]
    }
   ],
   "source": [
    "import tensorflow as tf\n",
    "from tensorflow.examples.tutorials.mnist import input_data\n",
    "import matplotlib.pyplot as plt\n",
    "import numpy as np\n",
    "from sklearn.feature_extraction.text import CountVectorizer\n",
    "from sklearn.feature_extraction.text import TfidfTransformer\n",
    "from sklearn.datasets import fetch_20newsgroups\n",
    "from sklearn.model_selection import train_test_split\n",
    "from sklearn.feature_selection import chi2\n",
    "from sklearn.feature_selection import mutual_info_classif\n",
    "from sklearn.feature_selection import SelectKBest\n",
    "\n",
    "mnist = input_data.read_data_sets(\"/Users/sasankauppu/Desktop/Data Mining CS6220/DataMining/Mnist/\", one_hot=False)"
   ]
  },
  {
   "cell_type": "code",
   "execution_count": 13,
   "metadata": {
    "collapsed": true
   },
   "outputs": [],
   "source": [
    "# Define the neural network\n",
    "def neural_net(x_dict):\n",
    "    x = x_dict['images']\n",
    "    layer_1 = tf.layers.dense(x, 256)\n",
    "    layer_2 = tf.layers.dense(layer_1, 256)\n",
    "    out_layer = tf.layers.dense(layer_2, 10)\n",
    "    return out_layer"
   ]
  },
  {
   "cell_type": "code",
   "execution_count": 14,
   "metadata": {
    "collapsed": true
   },
   "outputs": [],
   "source": [
    "# Define the model function (following TF Estimator Template)\n",
    "def model_fn(features, labels, mode):\n",
    "    \n",
    "    # Build the neural network\n",
    "    logits = neural_net(features)\n",
    "    \n",
    "    # Predictions\n",
    "    pred_classes = tf.argmax(logits, axis=1)\n",
    "    pred_probas = tf.nn.softmax(logits)\n",
    "    \n",
    "    # If prediction mode, early return\n",
    "    if mode == tf.estimator.ModeKeys.PREDICT:\n",
    "        return tf.estimator.EstimatorSpec(mode, predictions=pred_classes) \n",
    "        \n",
    "    # Define loss and optimizer\n",
    "    loss_op = tf.reduce_mean(tf.nn.sparse_softmax_cross_entropy_with_logits(\n",
    "        logits=logits, labels=tf.cast(labels, dtype=tf.int32)))\n",
    "    optimizer = tf.train.GradientDescentOptimizer(learning_rate=0.1)\n",
    "    train_op = optimizer.minimize(loss_op, global_step=tf.train.get_global_step())\n",
    "    \n",
    "    # Evaluate the accuracy of the model\n",
    "    acc_op = tf.metrics.accuracy(labels=labels, predictions=pred_classes)\n",
    "    \n",
    "    # EstimatorSpec same for training, evaluating\n",
    "    estim_specs = tf.estimator.EstimatorSpec(\n",
    "      mode=mode,\n",
    "      predictions=pred_classes,\n",
    "      loss=loss_op,\n",
    "      train_op=train_op,\n",
    "      eval_metric_ops={'accuracy': acc_op})\n",
    "\n",
    "    return estim_specs"
   ]
  },
  {
   "cell_type": "code",
   "execution_count": 15,
   "metadata": {},
   "outputs": [
    {
     "name": "stdout",
     "output_type": "stream",
     "text": [
      "INFO:tensorflow:Using default config.\n",
      "WARNING:tensorflow:Using temporary folder as model directory: /var/folders/7h/cgdqqj3n2tb7z4rv0mhlsjdm0000gn/T/tmp5epXdi\n",
      "INFO:tensorflow:Using config: {'_save_checkpoints_secs': 600, '_session_config': None, '_keep_checkpoint_max': 5, '_task_type': 'worker', '_is_chief': True, '_cluster_spec': <tensorflow.python.training.server_lib.ClusterSpec object at 0x108fc8c50>, '_save_checkpoints_steps': None, '_keep_checkpoint_every_n_hours': 10000, '_service': None, '_num_ps_replicas': 0, '_tf_random_seed': None, '_master': '', '_num_worker_replicas': 1, '_task_id': 0, '_log_step_count_steps': 100, '_model_dir': '/var/folders/7h/cgdqqj3n2tb7z4rv0mhlsjdm0000gn/T/tmp5epXdi', '_save_summary_steps': 100}\n"
     ]
    }
   ],
   "source": [
    "# Build the Estimator\n",
    "model = tf.estimator.Estimator(model_fn=model_fn)"
   ]
  },
  {
   "cell_type": "code",
   "execution_count": 16,
   "metadata": {
    "scrolled": true
   },
   "outputs": [
    {
     "name": "stdout",
     "output_type": "stream",
     "text": [
      "INFO:tensorflow:Create CheckpointSaverHook.\n",
      "INFO:tensorflow:Saving checkpoints for 1 into /var/folders/7h/cgdqqj3n2tb7z4rv0mhlsjdm0000gn/T/tmp5epXdi/model.ckpt.\n",
      "INFO:tensorflow:loss = 2.4647934, step = 1\n",
      "INFO:tensorflow:global_step/sec: 199.529\n",
      "INFO:tensorflow:loss = 0.36377913, step = 101 (0.503 sec)\n",
      "INFO:tensorflow:global_step/sec: 186.373\n",
      "INFO:tensorflow:loss = 0.32902092, step = 201 (0.537 sec)\n",
      "INFO:tensorflow:global_step/sec: 205.672\n",
      "INFO:tensorflow:loss = 0.4859342, step = 301 (0.486 sec)\n",
      "INFO:tensorflow:global_step/sec: 201.127\n",
      "INFO:tensorflow:loss = 0.25807604, step = 401 (0.497 sec)\n",
      "INFO:tensorflow:global_step/sec: 205.736\n",
      "INFO:tensorflow:loss = 0.3100416, step = 501 (0.486 sec)\n",
      "INFO:tensorflow:global_step/sec: 196.393\n",
      "INFO:tensorflow:loss = 0.42001462, step = 601 (0.509 sec)\n",
      "INFO:tensorflow:global_step/sec: 201.53\n",
      "INFO:tensorflow:loss = 0.20890293, step = 701 (0.496 sec)\n",
      "INFO:tensorflow:global_step/sec: 188.593\n",
      "INFO:tensorflow:loss = 0.2860902, step = 801 (0.530 sec)\n",
      "INFO:tensorflow:global_step/sec: 198.511\n",
      "INFO:tensorflow:loss = 0.26957732, step = 901 (0.504 sec)\n",
      "INFO:tensorflow:global_step/sec: 191.015\n",
      "INFO:tensorflow:loss = 0.42569467, step = 1001 (0.524 sec)\n",
      "INFO:tensorflow:global_step/sec: 202.061\n",
      "INFO:tensorflow:loss = 0.22468607, step = 1101 (0.495 sec)\n",
      "INFO:tensorflow:global_step/sec: 182.961\n",
      "INFO:tensorflow:loss = 0.1382339, step = 1201 (0.547 sec)\n",
      "INFO:tensorflow:global_step/sec: 164.377\n",
      "INFO:tensorflow:loss = 0.21274409, step = 1301 (0.608 sec)\n",
      "INFO:tensorflow:global_step/sec: 181.931\n",
      "INFO:tensorflow:loss = 0.21545729, step = 1401 (0.549 sec)\n",
      "INFO:tensorflow:global_step/sec: 193.792\n",
      "INFO:tensorflow:loss = 0.18559505, step = 1501 (0.516 sec)\n",
      "INFO:tensorflow:global_step/sec: 182.198\n",
      "INFO:tensorflow:loss = 0.259913, step = 1601 (0.549 sec)\n",
      "INFO:tensorflow:global_step/sec: 162.089\n",
      "INFO:tensorflow:loss = 0.22307253, step = 1701 (0.617 sec)\n",
      "INFO:tensorflow:global_step/sec: 185.875\n",
      "INFO:tensorflow:loss = 0.38558114, step = 1801 (0.539 sec)\n",
      "INFO:tensorflow:global_step/sec: 202.33\n",
      "INFO:tensorflow:loss = 0.39625555, step = 1901 (0.493 sec)\n",
      "INFO:tensorflow:global_step/sec: 209.202\n",
      "INFO:tensorflow:loss = 0.22609314, step = 2001 (0.478 sec)\n",
      "INFO:tensorflow:global_step/sec: 210.591\n",
      "INFO:tensorflow:loss = 0.38890755, step = 2101 (0.475 sec)\n",
      "INFO:tensorflow:global_step/sec: 205.582\n",
      "INFO:tensorflow:loss = 0.36928225, step = 2201 (0.487 sec)\n",
      "INFO:tensorflow:global_step/sec: 212.245\n",
      "INFO:tensorflow:loss = 0.19840226, step = 2301 (0.471 sec)\n",
      "INFO:tensorflow:global_step/sec: 212.014\n",
      "INFO:tensorflow:loss = 0.46011353, step = 2401 (0.472 sec)\n",
      "INFO:tensorflow:global_step/sec: 214.493\n",
      "INFO:tensorflow:loss = 0.17544977, step = 2501 (0.466 sec)\n",
      "INFO:tensorflow:global_step/sec: 208.25\n",
      "INFO:tensorflow:loss = 0.22006893, step = 2601 (0.480 sec)\n",
      "INFO:tensorflow:global_step/sec: 209.964\n",
      "INFO:tensorflow:loss = 0.16296661, step = 2701 (0.477 sec)\n",
      "INFO:tensorflow:global_step/sec: 186.938\n",
      "INFO:tensorflow:loss = 0.17178209, step = 2801 (0.535 sec)\n",
      "INFO:tensorflow:global_step/sec: 189.217\n",
      "INFO:tensorflow:loss = 0.22751012, step = 2901 (0.529 sec)\n",
      "INFO:tensorflow:global_step/sec: 168.23\n",
      "INFO:tensorflow:loss = 0.32584175, step = 3001 (0.595 sec)\n",
      "INFO:tensorflow:global_step/sec: 168.897\n",
      "INFO:tensorflow:loss = 0.22089319, step = 3101 (0.591 sec)\n",
      "INFO:tensorflow:global_step/sec: 204.833\n",
      "INFO:tensorflow:loss = 0.2662053, step = 3201 (0.488 sec)\n",
      "INFO:tensorflow:global_step/sec: 198.927\n",
      "INFO:tensorflow:loss = 0.17953514, step = 3301 (0.503 sec)\n",
      "INFO:tensorflow:global_step/sec: 210.118\n",
      "INFO:tensorflow:loss = 0.24298194, step = 3401 (0.476 sec)\n",
      "INFO:tensorflow:global_step/sec: 199.71\n",
      "INFO:tensorflow:loss = 0.41641968, step = 3501 (0.501 sec)\n",
      "INFO:tensorflow:global_step/sec: 202.009\n",
      "INFO:tensorflow:loss = 0.23677222, step = 3601 (0.495 sec)\n",
      "INFO:tensorflow:global_step/sec: 209.573\n",
      "INFO:tensorflow:loss = 0.20378979, step = 3701 (0.477 sec)\n",
      "INFO:tensorflow:global_step/sec: 205.543\n",
      "INFO:tensorflow:loss = 0.19948217, step = 3801 (0.486 sec)\n",
      "INFO:tensorflow:global_step/sec: 205.867\n",
      "INFO:tensorflow:loss = 0.29138392, step = 3901 (0.486 sec)\n",
      "INFO:tensorflow:global_step/sec: 203.235\n",
      "INFO:tensorflow:loss = 0.3192852, step = 4001 (0.492 sec)\n",
      "INFO:tensorflow:global_step/sec: 192.144\n",
      "INFO:tensorflow:loss = 0.20458096, step = 4101 (0.521 sec)\n",
      "INFO:tensorflow:global_step/sec: 185.593\n",
      "INFO:tensorflow:loss = 0.4208238, step = 4201 (0.538 sec)\n",
      "INFO:tensorflow:global_step/sec: 194.913\n",
      "INFO:tensorflow:loss = 0.25906658, step = 4301 (0.513 sec)\n",
      "INFO:tensorflow:global_step/sec: 191.239\n",
      "INFO:tensorflow:loss = 0.18368277, step = 4401 (0.523 sec)\n",
      "INFO:tensorflow:global_step/sec: 192.094\n",
      "INFO:tensorflow:loss = 0.3045024, step = 4501 (0.521 sec)\n",
      "INFO:tensorflow:global_step/sec: 198.056\n",
      "INFO:tensorflow:loss = 0.20311467, step = 4601 (0.505 sec)\n",
      "INFO:tensorflow:global_step/sec: 196.325\n",
      "INFO:tensorflow:loss = 0.4741848, step = 4701 (0.509 sec)\n",
      "INFO:tensorflow:global_step/sec: 196.869\n",
      "INFO:tensorflow:loss = 0.37951034, step = 4801 (0.508 sec)\n",
      "INFO:tensorflow:global_step/sec: 200.174\n",
      "INFO:tensorflow:loss = 0.4513017, step = 4901 (0.499 sec)\n",
      "INFO:tensorflow:Saving checkpoints for 5000 into /var/folders/7h/cgdqqj3n2tb7z4rv0mhlsjdm0000gn/T/tmp5epXdi/model.ckpt.\n",
      "INFO:tensorflow:Loss for final step: 0.21261905.\n"
     ]
    },
    {
     "data": {
      "text/plain": [
       "<tensorflow.python.estimator.estimator.Estimator at 0x11b2a1cd0>"
      ]
     },
     "execution_count": 16,
     "metadata": {},
     "output_type": "execute_result"
    }
   ],
   "source": [
    "# Train the Model\n",
    "input_fn = tf.estimator.inputs.numpy_input_fn(x={'images': mnist.train.images}, y=mnist.train.labels,\n",
    "    batch_size=128, num_epochs=None, shuffle=True)\n",
    "\n",
    "model.train(input_fn, steps=5000)"
   ]
  },
  {
   "cell_type": "code",
   "execution_count": 17,
   "metadata": {},
   "outputs": [
    {
     "name": "stdout",
     "output_type": "stream",
     "text": [
      "INFO:tensorflow:Starting evaluation at 2018-03-28-18:39:31\n",
      "INFO:tensorflow:Restoring parameters from /var/folders/7h/cgdqqj3n2tb7z4rv0mhlsjdm0000gn/T/tmp5epXdi/model.ckpt-5000\n",
      "INFO:tensorflow:Finished evaluation at 2018-03-28-18:39:31\n",
      "INFO:tensorflow:Saving dict for global step 5000: accuracy = 0.9135, global_step = 5000, loss = 0.2930345\n"
     ]
    },
    {
     "data": {
      "text/plain": [
       "{'accuracy': 0.9135, 'global_step': 5000, 'loss': 0.2930345}"
      ]
     },
     "execution_count": 17,
     "metadata": {},
     "output_type": "execute_result"
    }
   ],
   "source": [
    "# Evaluate the Model\n",
    "input_fn = tf.estimator.inputs.numpy_input_fn(\n",
    "    x={'images': mnist.test.images}, y=mnist.test.labels,\n",
    "    batch_size=128, shuffle=False)\n",
    "\n",
    "model.evaluate(input_fn)"
   ]
  },
  {
   "cell_type": "code",
   "execution_count": 18,
   "metadata": {
    "scrolled": true
   },
   "outputs": [
    {
     "name": "stdout",
     "output_type": "stream",
     "text": [
      "INFO:tensorflow:Restoring parameters from /var/folders/7h/cgdqqj3n2tb7z4rv0mhlsjdm0000gn/T/tmp5epXdi/model.ckpt-5000\n"
     ]
    },
    {
     "data": {
      "image/png": "[encoded data removed]",
      "text/plain": [
       "<matplotlib.figure.Figure at 0x11a7a7c90>"
      ]
     },
     "metadata": {},
     "output_type": "display_data"
    },
    {
     "name": "stdout",
     "output_type": "stream",
     "text": [
      "('Model prediction:', 7)\n"
     ]
    },
    {
     "data": {
      "image/png": "[encoded data removed]",
      "text/plain": [
       "<matplotlib.figure.Figure at 0x109c3fe90>"
      ]
     },
     "metadata": {},
     "output_type": "display_data"
    },
    {
     "name": "stdout",
     "output_type": "stream",
     "text": [
      "('Model prediction:', 2)\n"
     ]
    },
    {
     "data": {
      "image/png": "[encoded data removed]",
      "text/plain": [
       "<matplotlib.figure.Figure at 0x109bc1410>"
      ]
     },
     "metadata": {},
     "output_type": "display_data"
    },
    {
     "name": "stdout",
     "output_type": "stream",
     "text": [
      "('Model prediction:', 1)\n"
     ]
    },
    {
     "data": {
      "image/png": "[encoded data removed]",
      "text/plain": [
       "<matplotlib.figure.Figure at 0x11b5cc9d0>"
      ]
     },
     "metadata": {},
     "output_type": "display_data"
    },
    {
     "name": "stdout",
     "output_type": "stream",
     "text": [
      "('Model prediction:', 0)\n"
     ]
    }
   ],
   "source": [
    "# Predict single images\n",
    "n_images = 4\n",
    "# Get images from test set\n",
    "test_images = mnist.test.images[:n_images]\n",
    "# Prepare the input data\n",
    "input_fn = tf.estimator.inputs.numpy_input_fn(\n",
    "    x={'images': test_images}, shuffle=False)\n",
    "# Use the model to predict the images class\n",
    "preds = list(model.predict(input_fn))\n",
    "\n",
    "# Display\n",
    "for i in range(n_images):\n",
    "    plt.imshow(np.reshape(test_images[i], [28, 28]), cmap='gray')\n",
    "    plt.show()\n",
    "    print(\"Model prediction:\", preds[i])"
   ]
  },
  {
   "cell_type": "code",
   "execution_count": null,
   "metadata": {
    "collapsed": true
   },
   "outputs": [],
   "source": []
  },
  {
   "cell_type": "code",
   "execution_count": null,
   "metadata": {
    "collapsed": true
   },
   "outputs": [],
   "source": []
  },
  {
   "cell_type": "code",
   "execution_count": 2,
   "metadata": {
    "collapsed": true
   },
   "outputs": [],
   "source": [
    "# Define the neural network\n",
    "def neural_netNG(x_dict):\n",
    "    x = x_dict['images']\n",
    "    layer_1 = tf.layers.dense(x, 256)\n",
    "    layer_2 = tf.layers.dense(layer_1, 256)\n",
    "    out_layer = tf.layers.dense(layer_2, 20)\n",
    "    return out_layer"
   ]
  },
  {
   "cell_type": "code",
   "execution_count": 8,
   "metadata": {
    "collapsed": true
   },
   "outputs": [],
   "source": [
    "# Define the model function (following TF Estimator Template)\n",
    "def model_fnNG(features, labels, mode):\n",
    "    \n",
    "    # Build the neural network\n",
    "    logits = neural_netNG(features)\n",
    "    \n",
    "    # Predictions\n",
    "    pred_classes = tf.argmax(logits, axis=1)\n",
    "    pred_probas = tf.nn.softmax(logits)\n",
    "    \n",
    "    # If prediction mode, early return\n",
    "    if mode == tf.estimator.ModeKeys.PREDICT:\n",
    "        return tf.estimator.EstimatorSpec(mode, predictions=pred_classes) \n",
    "        \n",
    "    # Define loss and optimizer\n",
    "    loss_op = tf.reduce_mean(tf.nn.sparse_softmax_cross_entropy_with_logits(\n",
    "        logits=logits, labels=tf.cast(labels, dtype=tf.int32)))\n",
    "    optimizer = tf.train.GradientDescentOptimizer(learning_rate=0.1)\n",
    "    train_op = optimizer.minimize(loss_op, global_step=tf.train.get_global_step())\n",
    "    \n",
    "    # Evaluate the accuracy of the model\n",
    "    acc_op = tf.metrics.accuracy(labels=labels, predictions=pred_classes)\n",
    "    \n",
    "    # EstimatorSpec same for training, evaluating\n",
    "    estim_specs = tf.estimator.EstimatorSpec(\n",
    "      mode=mode,\n",
    "      predictions=pred_classes,\n",
    "      loss=loss_op,\n",
    "      train_op=train_op,\n",
    "      eval_metric_ops={'accuracy': acc_op})\n",
    "\n",
    "    return estim_specs"
   ]
  },
  {
   "cell_type": "code",
   "execution_count": 21,
   "metadata": {
    "collapsed": true
   },
   "outputs": [],
   "source": [
    "def get_ng_fs(chisq=True):\n",
    "    \n",
    "    ng = fetch_20newsgroups(subset='all')\n",
    "    ng_X = ng.data\n",
    "    ng_y = ng.target\n",
    "    \n",
    "    del(ng)\n",
    "    \n",
    "    count_vect = CountVectorizer(stop_words=\"english\",min_df=3,max_df=0.5)\n",
    "    ng_X = count_vect.fit_transform(ng_X)\n",
    "    tfidf_transformer = TfidfTransformer(use_idf=True)\n",
    "    ng_X = tfidf_transformer.fit_transform(ng_X)\n",
    "    \n",
    "    \n",
    "    ng_X_train,ng_X_test,ng_y_train,ng_y_test = train_test_split(ng_X,ng_y,test_size=0.25,random_state=42)\n",
    "    \n",
    "\n",
    "    if(chisq):\n",
    "        mod = SelectKBest(chi2, k=20000)\n",
    "    else:\n",
    "        mod = SelectKBest(mutual_info_classif, k=20000)\n",
    "    \n",
    "    \n",
    "    ng_X_train = mod.fit_transform(ng_X_train, ng_y_train)\n",
    "    \n",
    "    \n",
    "    mgs = mod.get_support()\n",
    "    at=[]\n",
    "    for j in range(len(mgs)):\n",
    "        if(mgs[j]):\n",
    "            at.append(j)\n",
    "    \n",
    "    ng_X_test=ng_X_test.todense()\n",
    "    ng_X_test=ng_X_test[:,at]\n",
    "\n",
    "    return (ng_X_train,ng_y_train,ng_X_test,ng_y_test)"
   ]
  },
  {
   "cell_type": "code",
   "execution_count": 22,
   "metadata": {},
   "outputs": [],
   "source": [
    "(ng_X_train,ng_y_train,ng_X_test,ng_y_test)=get_ng_fs(True)"
   ]
  },
  {
   "cell_type": "code",
   "execution_count": 23,
   "metadata": {},
   "outputs": [
    {
     "name": "stdout",
     "output_type": "stream",
     "text": [
      "INFO:tensorflow:Using default config.\n",
      "WARNING:tensorflow:Using temporary folder as model directory: /var/folders/7h/cgdqqj3n2tb7z4rv0mhlsjdm0000gn/T/tmpvxd6FE\n",
      "INFO:tensorflow:Using config: {'_save_checkpoints_secs': 600, '_session_config': None, '_keep_checkpoint_max': 5, '_task_type': 'worker', '_is_chief': True, '_cluster_spec': <tensorflow.python.training.server_lib.ClusterSpec object at 0x106fcff90>, '_save_checkpoints_steps': None, '_keep_checkpoint_every_n_hours': 10000, '_service': None, '_num_ps_replicas': 0, '_tf_random_seed': None, '_master': '', '_num_worker_replicas': 1, '_task_id': 0, '_log_step_count_steps': 100, '_model_dir': '/var/folders/7h/cgdqqj3n2tb7z4rv0mhlsjdm0000gn/T/tmpvxd6FE', '_save_summary_steps': 100}\n"
     ]
    }
   ],
   "source": [
    "modelNG = tf.estimator.Estimator(model_fn=model_fnNG)"
   ]
  },
  {
   "cell_type": "code",
   "execution_count": 25,
   "metadata": {},
   "outputs": [
    {
     "name": "stdout",
     "output_type": "stream",
     "text": [
      "INFO:tensorflow:Create CheckpointSaverHook.\n",
      "INFO:tensorflow:Restoring parameters from /var/folders/7h/cgdqqj3n2tb7z4rv0mhlsjdm0000gn/T/tmpvxd6FE/model.ckpt-1\n",
      "INFO:tensorflow:Saving checkpoints for 2 into /var/folders/7h/cgdqqj3n2tb7z4rv0mhlsjdm0000gn/T/tmpvxd6FE/model.ckpt.\n",
      "INFO:tensorflow:loss = 2.996205422239822, step = 2\n",
      "INFO:tensorflow:global_step/sec: 5.9738\n",
      "INFO:tensorflow:loss = 2.9776020570211363, step = 102 (16.742 sec)\n",
      "INFO:tensorflow:global_step/sec: 6.08842\n",
      "INFO:tensorflow:loss = 2.9627063842218098, step = 202 (16.426 sec)\n",
      "INFO:tensorflow:global_step/sec: 6.26026\n",
      "INFO:tensorflow:loss = 2.9195806676788427, step = 302 (15.972 sec)\n",
      "INFO:tensorflow:global_step/sec: 6.16334\n",
      "INFO:tensorflow:loss = 2.9068810571721926, step = 402 (16.225 sec)\n",
      "INFO:tensorflow:global_step/sec: 6.50309\n",
      "INFO:tensorflow:loss = 2.846967050611325, step = 502 (15.384 sec)\n",
      "INFO:tensorflow:global_step/sec: 5.77405\n",
      "INFO:tensorflow:loss = 2.8152422814258315, step = 602 (17.313 sec)\n",
      "INFO:tensorflow:global_step/sec: 4.37032\n",
      "INFO:tensorflow:loss = 2.7303040479191756, step = 702 (22.881 sec)\n",
      "INFO:tensorflow:global_step/sec: 4.65183\n",
      "INFO:tensorflow:loss = 2.588674897352065, step = 802 (21.500 sec)\n",
      "INFO:tensorflow:global_step/sec: 6.6311\n",
      "INFO:tensorflow:loss = 2.3787036830584958, step = 902 (15.076 sec)\n",
      "INFO:tensorflow:Saving checkpoints for 1001 into /var/folders/7h/cgdqqj3n2tb7z4rv0mhlsjdm0000gn/T/tmpvxd6FE/model.ckpt.\n",
      "INFO:tensorflow:Loss for final step: 2.119181718960508.\n"
     ]
    },
    {
     "data": {
      "text/plain": [
       "<tensorflow.python.estimator.estimator.Estimator at 0x11a69e750>"
      ]
     },
     "execution_count": 25,
     "metadata": {},
     "output_type": "execute_result"
    }
   ],
   "source": [
    "# Train the Model\n",
    "input_fn = tf.estimator.inputs.numpy_input_fn(x={'images': ng_X_train.todense()}, y=ng_y_train,\n",
    "    batch_size=128, num_epochs=None, shuffle=True)\n",
    "\n",
    "modelNG.train(input_fn, steps=1000)"
   ]
  },
  {
   "cell_type": "code",
   "execution_count": 26,
   "metadata": {},
   "outputs": [
    {
     "name": "stdout",
     "output_type": "stream",
     "text": [
      "INFO:tensorflow:Starting evaluation at 2018-03-28-18:47:43\n",
      "INFO:tensorflow:Restoring parameters from /var/folders/7h/cgdqqj3n2tb7z4rv0mhlsjdm0000gn/T/tmpvxd6FE/model.ckpt-1001\n",
      "INFO:tensorflow:Finished evaluation at 2018-03-28-18:47:49\n",
      "INFO:tensorflow:Saving dict for global step 1001: accuracy = 0.6485569, global_step = 1001, loss = 2.1813822\n"
     ]
    },
    {
     "data": {
      "text/plain": [
       "{'accuracy': 0.6485569, 'global_step': 1001, 'loss': 2.1813822}"
      ]
     },
     "execution_count": 26,
     "metadata": {},
     "output_type": "execute_result"
    }
   ],
   "source": [
    "# Evaluate the Model\n",
    "input_fn = tf.estimator.inputs.numpy_input_fn(\n",
    "    x={'images': ng_X_test}, y=ng_y_test,\n",
    "    batch_size=128, shuffle=False)\n",
    "\n",
    "modelNG.evaluate(input_fn)"
   ]
  },
  {
   "cell_type": "code",
   "execution_count": null,
   "metadata": {
    "collapsed": true
   },
   "outputs": [],
   "source": []
  }
 ],
 "metadata": {
  "kernelspec": {
   "display_name": "Python 2",
   "language": "python",
   "name": "python2"
  },
  "language_info": {
   "codemirror_mode": {
    "name": "ipython",
    "version": 2
   },
   "file_extension": ".py",
   "mimetype": "text/x-python",
   "name": "python",
   "nbconvert_exporter": "python",
   "pygments_lexer": "ipython2",
   "version": "2.7.13"
  }
 },
 "nbformat": 4,
 "nbformat_minor": 1
}
