{
 "cells": [
  {
   "cell_type": "code",
   "execution_count": 69,
   "metadata": {
    "collapsed": true
   },
   "outputs": [],
   "source": [
    "from sklearn.feature_extraction.text import TfidfVectorizer, CountVectorizer\n",
    "from sklearn.decomposition import NMF, LatentDirichletAllocation\n",
    "from sklearn.datasets import fetch_20newsgroups\n",
    "from elasticsearch import Elasticsearch\n",
    "import os\n",
    "from time import time\n",
    "import re\n",
    "from bs4 import BeautifulSoup\n",
    "import numpy as np"
   ]
  },
  {
   "cell_type": "markdown",
   "metadata": {},
   "source": [
    "# Indexing Newsgroups in elasticsearch"
   ]
  },
  {
   "cell_type": "code",
   "execution_count": 186,
   "metadata": {
    "collapsed": true
   },
   "outputs": [],
   "source": [
    "es = Elasticsearch(['localhost'],\n",
    "    http_auth=('elastic', 'elastic'),\n",
    "    scheme=\"http\",\n",
    "    port=9200,)"
   ]
  },
  {
   "cell_type": "code",
   "execution_count": 190,
   "metadata": {
    "collapsed": true
   },
   "outputs": [],
   "source": [
    "ng = fetch_20newsgroups(subset='all',remove=('headers'))\n",
    "ng_X = ng.data\n",
    "ng_y = ng.target"
   ]
  },
  {
   "cell_type": "code",
   "execution_count": 191,
   "metadata": {
    "collapsed": true
   },
   "outputs": [],
   "source": [
    "ngdocs={}\n",
    "for i in range(len(ng_X)):\n",
    "    ngdocs[i]=ng_X[i].replace('\\n','')"
   ]
  },
  {
   "cell_type": "code",
   "execution_count": 192,
   "metadata": {
    "collapsed": true
   },
   "outputs": [],
   "source": [
    "for i in ngdocs:\n",
    "    '''es.index(index=\"newsgroups-index\", doc_type='newsgroups', id=i, body={\n",
    "    'doc_id': i,\n",
    "    'doc_text': ngdocs[i]})'''\n",
    "    es.update(index=\"newsgroups-index\", doc_type='newsgroups', id=i, \n",
    "              body={\"doc\": {'doc_id': i,'doc_text': ngdocs[i]}})"
   ]
  },
  {
   "cell_type": "code",
   "execution_count": 166,
   "metadata": {},
   "outputs": [
    {
     "name": "stdout",
     "output_type": "stream",
     "text": [
      "Got 18846 Hits\n"
     ]
    }
   ],
   "source": [
    "es.indices.refresh(index=\"newsgroups-index\")\n",
    "res = es.search(index=\"newsgroups-index\", body={\"query\": {\"match_all\": {}}})\n",
    "print(\"Got %d Hits\" % res['hits']['total'])"
   ]
  },
  {
   "cell_type": "code",
   "execution_count": null,
   "metadata": {
    "collapsed": true
   },
   "outputs": [],
   "source": []
  },
  {
   "cell_type": "markdown",
   "metadata": {},
   "source": [
    "# Indexing DUC dataset in elasticsearch"
   ]
  },
  {
   "cell_type": "code",
   "execution_count": 164,
   "metadata": {
    "collapsed": true
   },
   "outputs": [],
   "source": [
    "ducpath=\"/Users/sasankauppu/Desktop/Data Mining CS6220/DataMining/DUC2001/\"\n",
    "ducdocs={}\n",
    "ducsum={}\n",
    "for f in os.listdir(ducpath+\"raw_data\"):\n",
    "    if f!=\".DS_Store\":\n",
    "        ducdocs[f.lower()]=BeautifulSoup(open(ducpath+'raw_data/'+f,'r').read(), \"lxml\").find(\"text\").text.replace('\\n','')\n",
    "    \n",
    "for f in os.listdir(ducpath+\"Summaries\"):\n",
    "    if f!=\".DS_Store\":\n",
    "        ducsum[f[:-4].lower()]=open(ducpath+'Summaries/'+f,'r').read()"
   ]
  },
  {
   "cell_type": "code",
   "execution_count": 165,
   "metadata": {
    "collapsed": true
   },
   "outputs": [],
   "source": [
    "for i in ducdocs:\n",
    "    if i not in ducsum:\n",
    "        es.index(index=\"duc-index\", doc_type='ducdocs', id=i, body={\n",
    "        'doc_id': i,\n",
    "        'doc_text': ducdocs[i],\n",
    "        'gold_summary':\"\"})\n",
    "    else:\n",
    "        es.index(index=\"duc-index\", doc_type='ducdocs', id=i, body={\n",
    "        'doc_id': i,\n",
    "        'doc_text': ducdocs[i],\n",
    "        'gold_summary':ducsum[i]})"
   ]
  },
  {
   "cell_type": "code",
   "execution_count": 167,
   "metadata": {},
   "outputs": [
    {
     "name": "stdout",
     "output_type": "stream",
     "text": [
      "Got 308 Hits\n"
     ]
    }
   ],
   "source": [
    "es.indices.refresh(index=\"duc-index\")\n",
    "res = es.search(index=\"duc-index\", body={\"query\": {\"match_all\": {}}})\n",
    "print(\"Got %d Hits\" % res['hits']['total'])"
   ]
  },
  {
   "cell_type": "code",
   "execution_count": null,
   "metadata": {
    "collapsed": true
   },
   "outputs": [],
   "source": []
  },
  {
   "cell_type": "markdown",
   "metadata": {},
   "source": [
    "# NMF for Newsgroups"
   ]
  },
  {
   "cell_type": "code",
   "execution_count": 48,
   "metadata": {
    "collapsed": true
   },
   "outputs": [],
   "source": [
    "def print_top_words(model, feature_names, n_top_words):\n",
    "    for topic_idx, topic in enumerate(model.components_):\n",
    "        message = \"Topic #%d: \" % topic_idx\n",
    "        message += \" \".join([feature_names[i] for i in topic.argsort()[:-n_top_words - 1:-1]])\n",
    "        print message\n",
    "\n",
    "ng = fetch_20newsgroups(subset='all',remove=('headers','footers'))\n",
    "#ng_X=([re.sub(\"[^a-zA-Z ]\",\"\",\" \".join(k.replace('\\n','').lower() for k in i.split())) for i in ng.data])\n",
    "\n",
    "\n",
    "# Use tf-idf features for NMF.\n",
    "tfidf_vectorizer = TfidfVectorizer(max_df=0.5, min_df=3,max_features=10000,stop_words='english')\n",
    "tfidf = tfidf_vectorizer.fit_transform(ng_X)\n",
    "\n",
    "\n",
    "# Use tf (raw term count) features for LDA.\n",
    "tf_vectorizer = CountVectorizer(max_df=0.5, min_df=3,max_features=10000,stop_words='english')\n",
    "tf = tf_vectorizer.fit_transform(ng_X)"
   ]
  },
  {
   "cell_type": "code",
   "execution_count": 50,
   "metadata": {
    "scrolled": true
   },
   "outputs": [
    {
     "name": "stdout",
     "output_type": "stream",
     "text": [
      "Topics in NMF model:\n",
      "Topic #0: think way thing dont just things make say really know thats probably time point people article want youre like right\n",
      "Topic #1: windows using use window thanks program run work software dos running want set unix xr server file sun user help\n",
      "Topic #2: year game team play games season win players years baseball teams won player article league hes night watching fan runs\n",
      "Topic #3: drive hard disk scsi controller drives mb floppy ide computer external internal machine work hd problems meg card tape ram\n",
      "Topic #4: god world gods believe jesus man bible faith sin life hell say lord heaven says does love christ words christians\n",
      "Topic #5: thanks email know looking hi advance interested info help information im send reply wondering mail hello post thank appreciated does\n",
      "Topic #6: key chip keys clipper encryption phone security use secure nsa technology secret government escrow scheme technical systems voice used public\n",
      "Topic #7: war israel state world jews policy peace israeli people government country political rights killed mr land jewish years research states\n",
      "Topic #8: card video support board windows cards vga mode bus drivers dx graphics work bit monitor pc upgrade mhz ati motherboard\n",
      "Topic #9: sale offer sell shipping new price email original condition interested asking best excellent used selling included includes following sold old\n",
      "Topic #10: people law government police public illegal person state trust court laws david federal legal protect rights states president house enforcement\n",
      "Topic #11: car cars engine miles oil used ford speed transmission tires turbo road rear toyota window wheel model drive manual honda\n",
      "Topic #12: waco fbi koresh started did people children said texas compound place inside weapons government killed shot gas batf set didnt\n",
      "Topic #13: file program ftp files site format image available looking sites images graphics directory gif called public convert wrote programs need\n",
      "Topic #14: years research science project technology systems april space interesting sun orbit earth high solar small national spacecraft major development temperature\n",
      "Topic #15: im post sure posted group posting just stuff start time net real sorry really sent deleted newsgroup article posts talking\n",
      "Topic #16: people support society person terms want position issue state make individual valid term rights free public argument example values believe\n",
      "Topic #17: article wrote says previous remember subject mike said th mark robert steve apr michael title gmt date wasnt later did\n",
      "Topic #18: history world turkish women armenians years serdar armenian muslims turkey armenia people today argic turks war muslim genocide million german\n",
      "Topic #19: know does dont yes article speed mhz anybody straight standard clock set machine mean cpu data run motorola doesnt running\n",
      "Topic #20: im work working software radio going looking time sure watch hardware modem want pc local works network tv able getting\n",
      "Topic #21: problem number try problems wrong using work usually times change trying works result post having cause order error different say\n",
      "Topic #22: space want just know world wanted dont idea program night nasa shuttle station people pat real small moon launch money\n",
      "Topic #23: used type article does example reference source information study theory sources point object understanding ray evidence process looking difference useful\n",
      "Topic #24: bike ride riding motorcycle right road dod left article speed turn hey going wheel yamaha ground bikes wave youre work\n",
      "Topic #25: point wrote say wrong true article religion statement mean said keith yes word objective makes religious exist words claim frank\n",
      "Topic #26: people love men man women young wife sexual sex woman life gay shall homosexuals homosexual old child study straight optilinkcom\n",
      "Topic #27: time years small water usually took short used thing work sort long weight worked went minutes large body started things\n",
      "Topic #28: monitor white screen tv color lines just black monitors type whats display colors video resolution sony rgb size lots red\n",
      "Topic #29: think article just sure im dont youre thats tell oh sorry whats theres yeah says want wouldnt wrong isnt michael\n",
      "Topic #30: years months week problems weeks treatment having new similar medical time drugs told pain problem taking wife results medicine disease\n",
      "Topic #31: new right sure im york thought thinking time know second ok said replace left wrong point sound set worked start\n",
      "Topic #32: word christian jesus church religion christians paul christianity christ read written article wrote religious bible fact think kent writings today\n",
      "Topic #33: need memory help port bit serial appreciated simms trying mb tried uses ram ports use pin possible status mac greatly\n",
      "Topic #34: list make way set like sound trying use wish mailing long single id run stuff subscribe low add value needs\n",
      "Topic #35: time year times article right wrote let state second hit im words twice life th worth means month rate uk\n",
      "Topic #36: version number try using use used line written printer available want phone quite driver word pretty dont ive print uses\n",
      "Topic #37: like just does try works thought got tried look ive doesnt work wonder article looks great using really didnt thing\n",
      "Topic #38: want mac say told good wont order question apple tell buy weeks work needed called software months plus said better\n",
      "Topic #39: use like used people using just wondering question id read hear sounds old ones sort stuff similar things wonder works\n",
      "Topic #40: team nhl wings hockey st pittsburgh rangers toronto playoff win leafs world round season playoffs goals period series patrick cup\n",
      "Topic #41: read question questions book answer just write reading post ask gun newsgroup think second weapon copy weapons short vs published\n",
      "Topic #42: soon normal various gordon surrender shameful skepticism banks level njxp intellect term usually gebcadredslpittedu medical tell quality understand provide chastity\n",
      "Topic #43: people tell article thats somebody believe information john come steve thank wrong old reason subject university mark said know known\n",
      "Topic #44: good little people thought really computer time article place worth quality bad got nice whats old subject wrote book second\n",
      "Topic #45: problem like dont read id need subject test problems make writing given things david special thinking write says support words\n",
      "Topic #46: power source need using supply want nice current unfortunately control sound faq working turn simple play voltage low good provide\n",
      "Topic #47: way university right years told did school think left write internet computer fax student usa state ago science phone research\n",
      "Topic #48: year work money pay like price reason insurance value company cost worth possible local working went paid service buy article\n",
      "Topic #49: ive seen heard true years really dont times got recently story havent make lost tell believe total san mention radar\n"
     ]
    }
   ],
   "source": [
    "nmf = NMF(n_components=50, random_state=0, beta_loss='kullback-leibler', \n",
    "          solver='mu', max_iter=1000, alpha=.1, l1_ratio=.5).fit(tfidf)\n",
    "\n",
    "print(\"Topics in NMF model:\")\n",
    "print_top_words(nmf, tfidf_vectorizer.get_feature_names(), 20)"
   ]
  },
  {
   "cell_type": "code",
   "execution_count": 51,
   "metadata": {
    "scrolled": true
   },
   "outputs": [
    {
     "name": "stdout",
     "output_type": "stream",
     "text": [
      "Topics in NMF model:\n",
      "Topic #0: think way just article say make like time dont know right really people thats good things thing sure want point\n",
      "Topic #1: use windows using software program thanks work run problem window need version set help running file like dos know want\n",
      "Topic #2: year team game play season win games players article teams years think baseball player hockey league won time series played\n",
      "Topic #3: drive hard disk scsi mac works controller mb drives power problems problem new floppy just internal work ide computer external\n",
      "Topic #4: god jesus christian word bible christians world man christ believe gods faith life love sin church say christianity paul lord\n",
      "Topic #5: thanks know email looking like im does need help hi information info wondering advance interested send used good post want\n",
      "Topic #6: key use number phone chip keys clipper encryption data security government technology secure message systems public voice nsa secret order\n",
      "Topic #7: world war people state years israel jews peace policy mr jewish history israeli research political government country killed rights land\n",
      "Topic #8: video card monitor mhz work does bit board ram vga memory speed support cards know drivers dx bus mode pc\n",
      "Topic #9: new sale offer price sell used shipping year email condition interested original old make asking best excellent send years university\n",
      "Topic #10: people state government law police pay states gun public rights dont money right laws weapons new legal person federal illegal\n",
      "Topic #11: car way used cars right problem engine speed miles work left turn new use power oil year light wheel ford\n",
      "Topic #12: place did fbi waco started koresh said children people set inside went wanted compound didnt day death gas news story\n",
      "Topic #13: ftp article site version program information available called file source subject image look public university data sites space point sorry\n",
      "Topic #14: space years small test time year science work high shuttle orbit research using medical low new results study treatment weight\n",
      "Topic #15: just im article time like ive think sure post really got wrote stuff group start sorry thought says youre maybe\n",
      "Topic #16: people society group support post values religion say example statement im religious moral argument discussion human person groups dont point\n",
      "Topic #17: article soon years bike ride right riding motorcycle like road new dod left told tried surrender gordon im mike wrote\n",
      "Topic #18: article know does wrote says dont read yes true subject previous mean new david steve list posting university mark mr\n",
      "Topic #19: want use dont like just im try time work people going things thing sure night tv watch stop heard trying\n"
     ]
    }
   ],
   "source": [
    "nmf = NMF(n_components=20, random_state=0, beta_loss='kullback-leibler', \n",
    "          solver='mu', max_iter=1000, alpha=.1, l1_ratio=.5).fit(tfidf)\n",
    "\n",
    "print(\"Topics in NMF model:\")\n",
    "print_top_words(nmf, tfidf_vectorizer.get_feature_names(), 20)"
   ]
  },
  {
   "cell_type": "code",
   "execution_count": 52,
   "metadata": {},
   "outputs": [
    {
     "name": "stdout",
     "output_type": "stream",
     "text": [
      "Topics in NMF model:\n",
      "Topic #0: article think just way dont time people like say make want right use things know sure thing really thats im\n",
      "Topic #1: use windows using thanks program software need know work like run help does file want version window problem used im\n",
      "Topic #2: year article team game think years just play time like games season win players im good teams night baseball mike\n",
      "Topic #3: drive hard works problem power disk scsi just new mb drives controller work make mac problems switch floppy computer time\n",
      "Topic #4: god wrote know jesus does says say word world christian believe true bible man christians paul read christ gods faith\n",
      "Topic #5: thanks know like email im looking does want need used good post information info wondering interested help id car ive\n",
      "Topic #6: key number use phone chip government public keys clipper encryption information data security message read systems david law technology secure\n",
      "Topic #7: people government state war world rights did said killed israel jews weapons mr children waco religion news fbi history religious\n",
      "Topic #8: video card monitor does work know mhz just speed bit board think drivers dont ram vga cards support memory price\n",
      "Topic #9: new sale year years offer space sell university used price shipping email condition following interested time send old original asking\n"
     ]
    }
   ],
   "source": [
    "nmf = NMF(n_components=10, random_state=0, beta_loss='kullback-leibler', \n",
    "          solver='mu', max_iter=1000, alpha=.1, l1_ratio=.5).fit(tfidf)\n",
    "\n",
    "print(\"Topics in NMF model:\")\n",
    "print_top_words(nmf, tfidf_vectorizer.get_feature_names(), 20)"
   ]
  },
  {
   "cell_type": "code",
   "execution_count": null,
   "metadata": {
    "collapsed": true
   },
   "outputs": [],
   "source": []
  },
  {
   "cell_type": "markdown",
   "metadata": {},
   "source": [
    "# LDA for Newsgroups"
   ]
  },
  {
   "cell_type": "code",
   "execution_count": 53,
   "metadata": {
    "scrolled": true
   },
   "outputs": [
    {
     "name": "stdout",
     "output_type": "stream",
     "text": [
      "\n",
      "Topics in LDA model:\n",
      "Topic #0: article just year game think like good time dont im better got did years know really going hit players didnt\n",
      "Topic #1: water energy power high battery heat low air use used effect temperature hot cold cause light nuclear weight ground actually\n",
      "Topic #2: price email sale offer new sell condition shipping interested asking cd original best sold used excellent tape old selling reply\n",
      "Topic #3: vs black st white green art cover appears new app copies silver duo edition annual miller wolverine comics hulk man\n",
      "Topic #4: mac apple version bit machines simms color lc quadra fpu hardware ram centris machine macs does upgrade macintosh software bbs\n",
      "Topic #5: key encryption chip keys clipper government use security privacy algorithm des phone nsa secure technology used escrow law data message\n",
      "Topic #6: sound robert jim channel craig ra richard douglas receiver article interference channels nixon tempest holland weiss apryumaacnscolostateedu context operational bye\n",
      "Topic #7: thy mcconkie cts rsi hath td dcd rts dsr thine author design year title note robert pages number plots crossed\n",
      "Topic #8: earth sun surface distance planet venus orbit probe solar planets plane cross drag mass gravity moon henrik jupiter material cloud\n",
      "Topic #9: car bike cars article engine miles new speed ride drive road like just driving oil right dealer ford mph rear\n",
      "Topic #10: drive scsi card disk mb hard drives bus controller mhz ide dx cpu ram cards floppy pc motherboard disks bios\n",
      "Topic #11: religion god atheists atheist existence exist atheism belief islam beliefs article islamic faith keith exists jon does quran universe religions\n",
      "Topic #12: know im like thanks does just use article dont need ive good work want looking used buy help id think\n",
      "Topic #13: fbi koresh children batf article did compound government weapons gas waco people killed started cult assault agents deaths media death\n",
      "Topic #14: armenian war turkish muslims genocide armenians history jews muslim world population turks ed turkey nazis people nazi million village serbs\n",
      "Topic #15: correct brian don article photography spelling francis cherry kirlian mattingly bowman leaf jagr bait aura designated observer recieved look hispanic\n",
      "Topic #16: software available data image use email list information send ftp graphics mail number version line code systems address network images\n",
      "Topic #17: problem using use program screen thanks file running does know help color driver display windows memory mouse mode card work\n",
      "Topic #18: university science research book information apr date books center subject scientific theory computer gmt conference page dr institute new fax\n",
      "Topic #19: san april canada city york pm usa st los francisco adl chicago angeles news ca california league north south sweden\n",
      "Topic #20: israel israeli jews jewish arab people right peace article men arabs state land arms war militia country palestinian policy palestinians\n",
      "Topic #21: dead military pat air fred phil world war new fly force said ground bomb aircraft witnesses live bodies area lines\n",
      "Topic #22: foods larsons dietary crohns discomfort vegetables electrons rsi tea fresh temporary mucus visits suggestion membrane foundation relate minor wants raw\n",
      "Topic #23: gun guns police control firearms weapon handgun safety violence handguns nra rate carrying use concealed state illegal revolver trigger selfdefense\n",
      "Topic #24: sound dead named know channel bell bel current company amp armenian sounds manager hojali dont said use right killed unit\n",
      "Topic #25: law laws legal rights food court constitution right msg amendment property article state use chinese taste legally case dictionary protected\n",
      "Topic #26: games game baseball runs team won morris ball braves win lost pitcher pitching red run pitch cubs league era sox\n",
      "Topic #27: maxaxaxaxaxaxaxaxaxaxaxaxaxaxax end right wrong ask moral values position better question make like correct best makes cover answer meaningless wd true\n",
      "Topic #28: government states public new national united state rights american general crime members power political groups report april germany civil society\n",
      "Topic #29: president mr money people going think dont clinton know ms pay insurance stephanopoulos make care want tax just work private\n",
      "Topic #30: jpeg files gif simtel jfif gainey quantization scanned fullcolor lossless savings smoothing tolerate decompress degradation hsi ijg xli uuencoded tofrom\n",
      "Topic #31: window server application motif widget xr set code display xterm sun manager openwindows use client widgets button subject user resource\n",
      "Topic #32: file entry program rules files larry format build contest command pb year linked undefined remark ld fi ls symbol imake\n",
      "Topic #33: medical said went time disease years know didnt women like health patients day told cancer treatment doctor people children saw\n",
      "Topic #34: paul church love nt catholic law sin christians acts hate jewish canon pope day tradition authority worship sunday sabbath pauls\n",
      "Topic #35: armenians said people greek armenian turkish turkey azerbaijan armenia russian greece came greeks town azerbaijani turks city killed started sumgait\n",
      "Topic #36: posting internet faq postings computer sleep command status henry account spencer anonymity technical loss timer centre henryzootorontoedu jody nov frequently\n",
      "Topic #37: sex homosexual homosexuality sexual gay homosexuals int male string null echo include char define function number output return term void\n",
      "Topic #38: article myers says chris cable dod pens lock tom ns edge wave flat wrote tony michael fit subject previous ray\n",
      "Topic #39: dave dog draft deal dogs sigh hamilton gerald oilers bottle selfish trained norm pocklington labour presume irs olchowy kingman vacation\n",
      "Topic #40: ron norton jb roth phone software address mail federalist amendment looking minerals militia regulated number exact email arms people fax\n",
      "Topic #41: number aids hiv infection clinical volume chronic wall hicnet liver patient immune arizona infectious jack breast balloon vaginal infected vaccine\n",
      "Topic #42: space launch nasa shuttle mission station satellite spacecraft program lunar moon orbit sky data project hst technology solar cost design\n",
      "Topic #43: windows dos os run microsoft manager applications virtual apps use ibm icon desktop operating resources slip like beta application gopher\n",
      "Topic #44: la period goal play pit pts van det nhl leafs detroit cal bos goals wings tor chi pp shots toronto\n",
      "Topic #45: god jesus bible christian christ gods christians faith man life lord believe father christianity word church did truth sin does\n",
      "Topic #46: aiu salonica br py pz form religious based fossil racism article means right dont way joseph belief claims state defining\n",
      "Topic #47: people dont just think article like know say does way make im believe point right want good question really time\n",
      "Topic #48: db andrew peter doug kevin john andy kuwait amp bell article king aaron iraq unit joseph joe lawrence dennis saudi\n",
      "Topic #49: team hockey teams season points new win boston series ice bruins caps rangers devils islanders tie penguins record coach winning\n"
     ]
    }
   ],
   "source": [
    "lda = LatentDirichletAllocation(n_components=50, max_iter=50, \n",
    "      learning_method='online', learning_offset=50., random_state=0).fit(tf)\n",
    "\n",
    "print(\"\\nTopics in LDA model:\")\n",
    "print_top_words(lda, tf_vectorizer.get_feature_names(), 20)"
   ]
  },
  {
   "cell_type": "code",
   "execution_count": 55,
   "metadata": {
    "scrolled": true
   },
   "outputs": [
    {
     "name": "stdout",
     "output_type": "stream",
     "text": [
      "\n",
      "Topics in LDA model:\n",
      "Topic #0: article just dont like think know im good time people really way going want make right ive say better sure\n",
      "Topic #1: power db water ground energy battery heat light use nuclear supply air temperature current unit cold hot used high low\n",
      "Topic #2: game team games year play players season hockey league win baseball player teams period nhl fans vs st won runs\n",
      "Topic #3: maxaxaxaxaxaxaxaxaxaxaxaxaxaxax printer st print art fpu rider appears new cover vs laser duo copies printing wolverine hp comics printers hulk\n",
      "Topic #4: people government right state law rights article public states control laws country weapons citizens crime does society case legal use\n",
      "Topic #5: window mouse application widget motif manager set keyboard server using use xterm problem display openwindows shell button open widgets xr\n",
      "Topic #6: president mr clinton think stephanopoulos ms money going house said tax know administration health jobs did white congress private care\n",
      "Topic #7: armenian jews armenians israel war turkish jewish muslims israeli turkey arab russian world muslim history soldiers genocide armenia turks greek\n",
      "Topic #8: does article evidence dont think say believe people true argument claim reason question point moral know just way religion mean\n",
      "Topic #9: car new price bike cars sale engine sell used speed buy offer condition dealer drive miles shipping model ride best\n",
      "Topic #10: drive card scsi disk mb windows dos hard drives bus ram mhz controller mac driver pc drivers video cards memory\n",
      "Topic #11: people gun said children did killed went article kill didnt death police saw says man come told guns started came\n",
      "Topic #12: know thanks does im like use problem article need help just ive dont email work looking using want hi advance\n",
      "Topic #13: medical fbi koresh batf disease drug health compound drugs patients use food cancer myers gas treatment doctor aids waco medicine\n",
      "Topic #14: key encryption chip clipper keys government use security privacy phone algorithm des nsa technology secure escrow data law pit used\n",
      "Topic #15: god jesus christian bible church christians faith christ people gods believe sin lord life love christianity man does did say\n",
      "Topic #16: number information list time group use groups questions new following read general posting subject used discussion given different post point\n",
      "Topic #17: space earth center launch nasa data orbit shuttle mission moon program solar satellite surface station cost research spacecraft technology years\n",
      "Topic #18: university information new apr book send email april date article mail usa research fax san conference list john address ed\n",
      "Topic #19: file windows files image program software version available use ftp graphics format images programs code data jpeg run directory server\n"
     ]
    }
   ],
   "source": [
    "lda = LatentDirichletAllocation(n_components=20, max_iter=50, \n",
    "      learning_method='online', learning_offset=50., random_state=0).fit(tf)\n",
    "\n",
    "print(\"\\nTopics in LDA model:\")\n",
    "print_top_words(lda, tf_vectorizer.get_feature_names(), 20)"
   ]
  },
  {
   "cell_type": "code",
   "execution_count": 54,
   "metadata": {},
   "outputs": [
    {
     "name": "stdout",
     "output_type": "stream",
     "text": [
      "\n",
      "Topics in LDA model:\n",
      "Topic #0: game team article year games think good like just play players dont season time hockey better baseball know did im\n",
      "Topic #1: people government said article israel right gun did president state mr jews rights war law children police fbi killed just\n",
      "Topic #2: maxaxaxaxaxaxaxaxaxaxaxaxaxaxax god jesus church bible christ christian christians man sin lord men new gods homosexual father love st faith paul\n",
      "Topic #3: windows use drive software know does card image bit like thanks dos disk using im scsi problem need work graphics\n",
      "Topic #4: people dont article think just know does say like believe way im good make point question god time things right\n",
      "Topic #5: file window use program list email server files code send application available ftp set subject using mail line information address\n",
      "Topic #6: article just dont like know time think people im years going money good make work use health does way problem\n",
      "Topic #7: armenian armenians turkish university new april san turkey russian la period york armenia turks history pp world conference greek van\n",
      "Topic #8: key space information data use encryption chip new research clipper technology available public number keys government computer phone systems used\n",
      "Topic #9: car article like just good new im dont know used power price use bike ive buy cars db right does\n"
     ]
    }
   ],
   "source": [
    "lda = LatentDirichletAllocation(n_components=10, max_iter=50, \n",
    "      learning_method='online', learning_offset=50., random_state=0).fit(tf)\n",
    "\n",
    "print(\"\\nTopics in LDA model:\")\n",
    "print_top_words(lda, tf_vectorizer.get_feature_names(), 20)"
   ]
  },
  {
   "cell_type": "markdown",
   "metadata": {},
   "source": [
    "## Storing LDA topics and updating elastic search index for NG"
   ]
  },
  {
   "cell_type": "code",
   "execution_count": 89,
   "metadata": {
    "collapsed": true
   },
   "outputs": [],
   "source": [
    "topic_components=lda.components_ / lda.components_.sum(axis=1)[:, np.newaxis]\n",
    "\n",
    "for topic_idx, topic in enumerate(topic_components):  \n",
    "    top_words=[]\n",
    "    for i in topic.argsort()[:-11:-1]:\n",
    "        top_words.append({\"word\":tf_vectorizer.get_feature_names()[i],\"probability\":round(topic[i],4)})\n",
    "\n",
    "    es.index(index=\"newsgroups-topic-index\", doc_type='ngtopics', id=topic_idx, \n",
    "             body={'topic_id': topic_idx,'top_words': top_words})"
   ]
  },
  {
   "cell_type": "code",
   "execution_count": 112,
   "metadata": {
    "collapsed": true
   },
   "outputs": [],
   "source": [
    "ldatf = lda.transform(tf)\n",
    "for idx, dt in enumerate(ldatf):\n",
    "    doc_topics=[]\n",
    "    for i in dt.argsort()[:-6:-1]:\n",
    "        doc_topics.append({\"topic\":i,\"probability\":round(dt[i],4)})\n",
    "        \n",
    "    es.update(index=\"newsgroups-index\", doc_type='newsgroups', id=idx, \n",
    "              body={\"doc\": {'doc_id': idx,\"doc_topics\": doc_topics}})"
   ]
  },
  {
   "cell_type": "code",
   "execution_count": null,
   "metadata": {
    "collapsed": true
   },
   "outputs": [],
   "source": []
  },
  {
   "cell_type": "code",
   "execution_count": null,
   "metadata": {
    "collapsed": true
   },
   "outputs": [],
   "source": []
  },
  {
   "cell_type": "code",
   "execution_count": null,
   "metadata": {
    "collapsed": true
   },
   "outputs": [],
   "source": []
  },
  {
   "cell_type": "markdown",
   "metadata": {},
   "source": [
    "# NMF for DUC"
   ]
  },
  {
   "cell_type": "code",
   "execution_count": 56,
   "metadata": {
    "collapsed": true
   },
   "outputs": [],
   "source": [
    "duc_X = ducdocs.values()\n",
    "duc_X = [BeautifulSoup(i, \"lxml\").text for i in duc_X]\n",
    "\n",
    "# Use tf-idf features for NMF.\n",
    "tfidf_vectorizer_duc = TfidfVectorizer(max_df=0.5, min_df=3,stop_words='english')\n",
    "tfidf_duc = tfidf_vectorizer_duc.fit_transform(duc_X)\n",
    "\n",
    "\n",
    "# Use tf (raw term count) features for LDA.\n",
    "tf_vectorizer_duc = CountVectorizer(max_df=0.5, min_df=3,stop_words='english')\n",
    "tf_duc = tf_vectorizer_duc.fit_transform(duc_X)"
   ]
  },
  {
   "cell_type": "code",
   "execution_count": 57,
   "metadata": {
    "scrolled": true
   },
   "outputs": [
    {
     "name": "stdout",
     "output_type": "stream",
     "text": [
      "Topics in NMF model:\n",
      "Topic #0: state news say make times long states 10 united million president going government says 000 national way public right just\n",
      "Topic #1: associated area column captain animals clean areas april alaska bay allow avoid affected tanker did argo cleanup reef spill sound\n",
      "Topic #2: national miami season mph tropical mississippi winds nov storm hurricane storms coast forecasters sheets water nr texas reach predicted center\n",
      "Topic #3: press 11 section earth sea thursday rush usa road seeing eclipse seeking regarded san solar seen puts nature set final\n",
      "Topic #4: 100 1972 79 canadian ap abuse ben 1stld medal 27 track gold 200 athletes accepted olympics 88 johnson seoul 1986\n",
      "Topic #5: national nr service major fires spokeswoman officials firefighters monday million press ap nearly near officer weather forest resources park just\n",
      "Topic #6: london like times given mad government page scientists western imposed spongiform transmitted ministry meet countries disease ft having university months\n",
      "Topic #7: police report political officers statement racist newspaper scene looking republics organized old racism official night logical angeles saying brutality department\n",
      "Topic #8: hospital john marina miss monica hospitalized infection sam pneumonia late santa taylor st moved lisa reports liza jackson statement ill\n",
      "Topic #9: population rep representation 1990 reapportionment plan number noting ap illegal 1980 census states seats count media representatives aliens question constitution\n",
      "Topic #10: crash crashed occurred plane near condition miles military officials air routine training aircraft pilot squadron area base jet safely official\n",
      "Topic #11: industries house jobs helped florida financial usz international ft investment gore types p9721 america 93 clinton voters support nafta freshman\n",
      "Topic #12: mining uncut mainly minerals mines mr diamond stones maintain newsletter linked lift beers oppenheimer knows markets london pcs owned selling\n",
      "Topic #13: reagan segregated self supreme nomination room rulings groups morning sj1 school senate requiring heart standard circuit robert conservative missouri thomas\n",
      "Topic #14: family reform federal finance expanding implemented funds fin welfare escape families half work expansion programs health working away requiring proposals\n",
      "Topic #15: representatives women peru lima path returned rights prison shining guzman threatened government roman station powerful slain propaganda source threaten terrorism\n",
      "Topic #16: high historic head halves 90 french london lack hard channel million rail help leeds mrs project link including boring island\n",
      "Topic #17: finish fourth example good guaranteed 26 heat experienced minutes went sunday tim marathon 20 sports kim 1989 edition times game\n",
      "Topic #18: infection million lungs patients health percent jr mandatory nr tuberculosis infected looked individuals population writer cases kills risk program increased\n",
      "Topic #19: law rights control page ownership public constitutional reasons suggests gun mean means nation amendment rejected refers freedom state constitution narrowly\n",
      "Topic #20: richter pacific reported scale quake technology south ground washington practice fault press area recorded report usually relatives concern whittier slight\n",
      "Topic #21: financial emphasis directly debts drive play drafted ft922 16 loans economic indonesia increase performance asia poverty enormous world leading debt\n",
      "Topic #22: violent west underground persistent recorded press quite trees trapped eastern warm tornadoes twisters tornado early storms southeast states national houses\n",
      "Topic #23: power republican term proposal terms limits group support house problems voters ran experienced hearings limit office politics political public recent\n",
      "Topic #24: readily prevalent spanish work responsible providing feeling recommends interested group disease wasn residents hospital writer knows san reduce turn major\n",
      "Topic #25: crop drought planted don figures relief help wheat lack mail millions went crops hardest 22 export weather included implement experiencing\n",
      "Topic #26: london claims louisiana oil yesterday florida page total state base officials lying reckoned mr night times cent financial andrew insured\n",
      "Topic #27: met mexico blames reported possibly 90 politicians allegedly raised government national assassination past presidential month threat press friday luis obtained\n",
      "Topic #28: past sure sprayed page transportation rep safety sen pulled airplane veteran discovery identified members place child seat authorities passengers girl\n",
      "Topic #29: appointed blacks moratorium monitor movement social recommendations residents source spend results report mile approval questionable street beating drug human professional\n",
      "Topic #30: california 1991 start san mercury sjmn91 tough pete threat survive state usa news west probably sj canyon worst near think\n",
      "Topic #31: seen shadow sides review county secretly laws face arm called later reasons allegedly estimate birthday los saying push desk maintained\n",
      "Topic #32: county grafs spokesman graf temperatures writethru saturday ld north money southern predicted south midday metro subs making aided mary martinez\n",
      "Topic #33: william science result predictions state neat research moving hit saffir atmosphere usually says study 1990 south states intense university sahel\n",
      "Topic #34: set night moved ranks requires reports president military evidence security bob track assassination course seat recently sixth investigation 13 minister\n",
      "Topic #35: opposed approaching nationwide miami hotel viewed anti promised poll reason pro reputation potential believe read cold sen commit survey agreed\n",
      "Topic #36: page prime european policy mar addition ruiz minimal rarely germany rules financial neighbours official assess raises working meeting recently socialist\n",
      "Topic #37: property director miss wall traffickers mountains work increasing 1970s says feel region revolutionary rebel limited financial 10 priest industries growing\n",
      "Topic #38: say report limit sound today ap webb press states early based nr known percent officials writer london including campaign 90\n",
      "Topic #39: column desk words edition home guy officer monday persian page ny sunday ask killed press angeles 0163 watched gave tired\n",
      "Topic #40: type material stressed including george 56 turned thought statistics funds factors increase just spongiform obtain united forceful states symptoms government\n",
      "Topic #41: unlikely numbers revolving calls isn serve ones origins affairs says field order 000 severely 1980s turn hours like movement journal\n",
      "Topic #42: likely sent means university grow getting officials metro fahrenheit page photo rarely thursday just state dryness ve words november home\n",
      "Topic #43: passed home los happened particularly report angeles north 80 school work asked interesting page guess exactly giant ocean percentage city\n",
      "Topic #44: san photograph photo anti implications clearly tremendous press protect research turned nature bus closed claims demonstrators decision small throw dec\n",
      "Topic #45: services period occurred likely pattern won groups ruled superior similar case struck official 20 charge portland previously court rules general\n",
      "Topic #46: place commission services problems just impact station saturday recommendation bar population did position commerce act import referred university board thomas\n",
      "Topic #47: april box behavior rains competitive men 14 creek representing officer city reached spring discuss according concern like writer august blowing\n",
      "Topic #48: message low persons surface 50 hall far save sign leaf office passage michel domestic targeted jim planted words 86 philippe\n",
      "Topic #49: 89 used conference week ll look animal ahead ap david slightly flight states customers writer country rain writethru west concerns\n"
     ]
    }
   ],
   "source": [
    "nmf = NMF(n_components=50, random_state=0, beta_loss='kullback-leibler', \n",
    "          solver='mu', max_iter=1000, alpha=.1, l1_ratio=.5).fit(tfidf_duc)\n",
    "\n",
    "print(\"Topics in NMF model:\")\n",
    "print_top_words(nmf, tfidf_vectorizer_duc.get_feature_names(), 20)"
   ]
  },
  {
   "cell_type": "code",
   "execution_count": 58,
   "metadata": {
    "scrolled": true
   },
   "outputs": [
    {
     "name": "stdout",
     "output_type": "stream",
     "text": [
      "Topics in NMF model:\n",
      "Topic #0: state states say washington times just says united long work president news 000 report don likely page public government like\n",
      "Topic #1: associated area column captain april animals clean areas bay did alaska allow affected avoid tanker workers argo site cleanup sound\n",
      "Topic #2: national storms storm south recorded miami mph reported season west mississippi texas water winds hurricane predictions nov professor nr weather\n",
      "Topic #3: 11 usa san 10 press earth sj 1991 thursday road section mercury sj1 west nature box sjmn91 rush sea passed\n",
      "Topic #4: 100 1972 79 desk ap canadian abuse column home ben 27 athletes 1stld medal coach track gold 1989 200 accepted\n",
      "Topic #5: national nr major near officer service ap firefighters fires trees monday spokeswoman means grafs weather acres moisture burned worst southern\n",
      "Topic #6: page london times financial period like countries european mad industries ft western spongiform increase official mr disease scientists likely government\n",
      "Topic #7: police report night appointed officers arrested saying department political anti statement allegedly white policy racist security angeles called did assassination\n",
      "Topic #8: hospital john marina miss santa st infection health april readily moved monica hospitalized prevalent spanish late taylor statement disease sam\n",
      "Topic #9: population rep services representation ap reapportionment 1990 republics including plan newspaper seats 1980 letter noting saying question illegal media census\n",
      "Topic #10: crash sent plane occurred reported crashed military officials condition miles near press air training spokesman safety routine aircraft killed area\n",
      "Topic #11: house financial jobs industries mexico florida international mr helped usz ft page particularly types support sound investment p9721 gore north\n",
      "Topic #12: mining mainly uncut london mr minerals mines newsletter markets diamond stones knows maintain lift south oppenheimer linked beers company pcs\n",
      "Topic #13: reagan court photo san groups school supreme segregated self room nomination rulings morning heart sj1 senate requiring monday clarence man\n",
      "Topic #14: family limit reform finance funds expanding federal social drafted directly implemented past economic fin reach half revolving welfare escape make\n",
      "Topic #15: underground representatives women government support peru returned lima shining threatened rights traffickers path violent revolutionary national powerful terrorism party roman\n",
      "Topic #16: high historic shadow french seen sides practice head 90 halves expected enormous london miss mrs hard million estimate spend lack\n",
      "Topic #17: richter finish fourth pacific sunday went quake scale example desk guaranteed edition marathon good guy heat 26 experienced words 20\n",
      "Topic #18: infection million nr lungs patients jr percent blacks looked mandatory health tuberculosis infected writer individuals rate population medicine william lung\n",
      "Topic #19: power law public proposal republican page rights legislators control state opposed nation wall limits ownership opinion constitutional reasons mean suggests\n"
     ]
    }
   ],
   "source": [
    "nmf = NMF(n_components=20, random_state=0, beta_loss='kullback-leibler', \n",
    "          solver='mu', max_iter=1000, alpha=.1, l1_ratio=.5).fit(tfidf_duc)\n",
    "\n",
    "print(\"Topics in NMF model:\")\n",
    "print_top_words(nmf, tfidf_vectorizer_duc.get_feature_names(), 20)"
   ]
  },
  {
   "cell_type": "code",
   "execution_count": 59,
   "metadata": {
    "scrolled": true
   },
   "outputs": [
    {
     "name": "stdout",
     "output_type": "stream",
     "text": [
      "Topics in NMF model:\n",
      "Topic #0: state states page united times says washington say work house president just public news power past government way make support\n",
      "Topic #1: associated area column oil april captain tanker animals areas clean million alaska bay affected did ship allow william avoid company\n",
      "Topic #2: national south storms reported winds recorded storm west miami season water texas nov coast mph press north nr mississippi predictions\n",
      "Topic #3: 10 press san 11 passed shadow thursday writer usa seen road good earth long minutes won sj1 fourth turn 20\n",
      "Topic #4: 100 home column 1972 ap desk 1989 27 commission 79 finish sports abuse edition gold took away canadian world angeles\n",
      "Topic #5: nr near officials national ap press major pm spokesman miles writethru officer crash monday military writer service plane grafs ld\n",
      "Topic #6: london page financial high mr like times countries million government lack mad world official 16 european increase crop half ft\n",
      "Topic #7: report police government political night appointed saying sent newspaper violence killed security officers slain set official department arrested source president\n",
      "Topic #8: infection hospital health john writer disease statement patients blacks cases treatment jr university report months women likely infected miss late\n",
      "Topic #9: population ap million services rep 1990 representation states william lungs reapportionment state right persons nr including saying number letter used\n"
     ]
    }
   ],
   "source": [
    "nmf = NMF(n_components=10, random_state=0, beta_loss='kullback-leibler', \n",
    "          solver='mu', max_iter=1000, alpha=.1, l1_ratio=.5).fit(tfidf_duc)\n",
    "\n",
    "print(\"Topics in NMF model:\")\n",
    "print_top_words(nmf, tfidf_vectorizer_duc.get_feature_names(), 20)"
   ]
  },
  {
   "cell_type": "code",
   "execution_count": null,
   "metadata": {
    "collapsed": true
   },
   "outputs": [],
   "source": []
  },
  {
   "cell_type": "markdown",
   "metadata": {},
   "source": [
    "# LDA for DUC"
   ]
  },
  {
   "cell_type": "code",
   "execution_count": 60,
   "metadata": {
    "scrolled": true
   },
   "outputs": [
    {
     "name": "stdout",
     "output_type": "stream",
     "text": [
      "\n",
      "Topics in LDA model:\n",
      "Topic #0: caribbean path nafta boston shining basin region guzman 000 market country mr proposals mexico trade forest olympic government countries exports\n",
      "Topic #1: forest fires service burned state acres marathon tunnel national tuesday set just amendment limits federal beach night park court mark\n",
      "Topic #2: police pain says rescue hatch bank officers drought quake los angeles protesters village 50 say earthquake anti states abortion house\n",
      "Topic #3: mr police bank world government says state path shining term president congress states thomas house limits countries welfare right political\n",
      "Topic #4: cattle disease bse beef britain british agriculture humans cow mad feed germany ministry animal government ban transmitted offal banned jakob\n",
      "Topic #5: bank debt world countries mr loans development developing treasury dollars billion lending thomas says hurricane africa poverty latin preston clarence\n",
      "Topic #6: air force flight enquirer concerned police accidents taylor plane desert aircraft second aboard associated gave res authorities entire wednesday alabama\n",
      "Topic #7: johnson police steroids marathon angeles morgan story ms contract guard break look blackened track rights 10 directors air consists political\n",
      "Topic #8: kelley park mr yellowstone boston slovenia forest says fires army ran independence france ljubljana federal race marathon crop flames hungry\n",
      "Topic #9: hurricane sheets gilbert center welfare category pressure storm director winds mph major officials ap tropical storms interviews inches 09 western\n",
      "Topic #10: johnson ben lewis steroids francis drugs gold olympics drug canadian toronto canada track medal world record athletes olympic steroid sport\n",
      "Topic #11: aliens illegal census county house aid citizens counting bills city state states federal residents months rep largest explaining sally return\n",
      "Topic #12: issues court sen venetia star rivers transition admission losses resorts hearings terrorism misguided duck rights played landed africa older replied\n",
      "Topic #13: thomas engine mr slovenia left federal nuns northwest clarence action census just smile helped david going life judge burn problems\n",
      "Topic #14: botswana cso market diamond beers diamonds contract country rough cent arrangements sale african stones based central world soviet faces idc\n",
      "Topic #15: nafta trade caribbean hispanic mexico pact diabetes canada basin clinton mr perot administration president labour torres congressman environmental house jobs\n",
      "Topic #16: dollars fires hurricane losses yellowstone claims insurers florida smith total park shining andrew officials forest mr winter home thought spring\n",
      "Topic #17: slovenia yugoslavia slovene croatia republic slovenian yugoslav serbia independence republics foreign federal cent ljubljana army european war europe relations border\n",
      "Topic #18: world smith police bank jackson gun plane thomas exposure 87 right state 30 los long boston monday beach common mr\n",
      "Topic #19: police officers al military office report gates department air officials abu officer force investigation attorney incident chief nidal city assassination\n",
      "Topic #20: air building forest national fires monday service buildings firefighters says acres office drought area health west tuberculosis workers police gulf\n",
      "Topic #21: eclipse sun solar moon hawaii mercury total news mexico viewing san jose 1991 photo partial baja earth july telescope clouds\n",
      "Topic #22: 87 drought bank reserve land farm ethiopian medalist mosbacher loans receive valid knew wall traffic farmers named world government staying\n",
      "Topic #23: marathon race boston running run won women miles second world runners finished 30 sports finish marathons york 87 course runner\n",
      "Topic #24: tornado exxon tunnel french state house oil national ap drought coast adv hazelwood france states valdez miles acres tornadoes british\n",
      "Topic #25: world term boston limits states million court marathon 87 california 30 state office congress united candidates bank incumbents assets run\n",
      "Topic #26: amendment terms drought congress right gun house favor term voters incumbents million percent rights state total law second times militia\n",
      "Topic #27: tunnel drought french british billion france says channel link london yellowstone britain rail farm farmers europe high project crop england\n",
      "Topic #28: thomas monday national forest rain firefighters fires acres jackson park black white news court california blaze service workers channel drought\n",
      "Topic #29: nra police gun says secretary coast guns illegal drought government hammer president farm house exxon doesn olympic joan senate number\n",
      "Topic #30: nafta tb police mr campaign officials tuberculosis aids long opposition say officer congressman fires angeles anti bureau states officers march\n",
      "Topic #31: police mr control gun bank city poverty arms diamond black drug national right says park beers rights nra major yellowstone\n",
      "Topic #32: thomas kelley poverty mr washington census officials county run clarence bank tuberculosis says grandparents marathon boston 000 court house illegal\n",
      "Topic #33: crash air colombia plane government police crashed mr flight presidential aircraft aboard candidate friday thursday problems party responsibility men fighter\n",
      "Topic #34: hurricane morgan forecasting exxon satellite hugo just information path drug angeles models satellites storm tracking los officer residents county used\n",
      "Topic #35: nra police path weapons black white shining left city guns chicago hammer justice daley federal rights ideas meaning house lobbyist\n",
      "Topic #36: marathon johnson race drug san diego lead women city drugs martinez won mr miles second los angeles morgan times olympic\n",
      "Topic #37: path shining countries world economic government guzman peru bank lima eclipse country state tunnel mexico debt million billion war growth\n",
      "Topic #38: hurricane hurricanes atlantic tropical storms mph sheets miami storm season gilbert hugo gray forecasters winds center atmospheric caribbean sahel satellite\n",
      "Topic #39: police los angeles disease tb drought department percent marathon abortion officers rescue gates fires officials force say commission threat news\n",
      "Topic #40: slovenia boston forest race republics federal marathon sunday yugoslavia won diamond says gun second right constitution state militia croatia miles\n",
      "Topic #41: diamond beers diamonds market south cartel cso world sales africa rough botswana london production african mines dollars prices says dealers\n",
      "Topic #42: thomas court world box supreme bank views nomination black news committee clarence earthquake monday judiciary issues hispanic confirmation boston sen\n",
      "Topic #43: nra gun murders duck world congress bank term nafta developing clara 1961 egyptian cincinnati rail half members preston european north\n",
      "Topic #44: jackson dickey beach car window police long officer tape glass traffic nra nbc hawthorne plate videotape incident mark hearing misconduct\n",
      "Topic #45: mr diamond trees yellowstone venetia danny africa 24 impaired 910702 wish gem kelley prices government wall cost park rail released\n",
      "Topic #46: earthquake quake earthquakes fault magnitude prediction scale richter quakes measuring madrid seismic geological ark damage moderate buildings japan francisco survey\n",
      "Topic #47: oil 000 national exxon 10 miles ap disease officials crash area spill city taylor forest valdez fires air million health\n",
      "Topic #48: hospital los miss pneumonia nominee good councilman comment orleans drug comparable journalist training week explain discourage women catching installation likely\n",
      "Topic #49: eclipse sun solar total mercury mexico san oldest hawaii news moon researchers nature shadow age island record slovene ap federal\n"
     ]
    }
   ],
   "source": [
    "lda_duc = LatentDirichletAllocation(n_components=50, max_iter=5, \n",
    "      learning_method='online', learning_offset=50., random_state=0).fit(tf_duc)\n",
    "\n",
    "print(\"\\nTopics in LDA model:\")\n",
    "print_top_words(lda_duc, tf_vectorizer_duc.get_feature_names(), 20)"
   ]
  },
  {
   "cell_type": "code",
   "execution_count": 90,
   "metadata": {
    "scrolled": true
   },
   "outputs": [
    {
     "name": "stdout",
     "output_type": "stream",
     "text": [
      "\n",
      "Topics in LDA model:\n",
      "Topic #0: boston caribbean london eclipse diamond tunnel link government beers path says ap total mr 000 market nafta record park early\n",
      "Topic #1: forest fires acres firefighters national park yellowstone burned 000 service brush california blaze acre contained trees burning areas crews officials\n",
      "Topic #2: earthquake quake earthquakes magnitude richter scale fault damage probability area prediction allen recorded geological quakes survey madrid reading measuring francisco\n",
      "Topic #3: mr state says 000 oil 10 world eclipse government states bank city officials path news national million president house term\n",
      "Topic #4: disease tuberculosis bse cases cattle aids health tb cjd cow infected sheep mad agriculture scientists epidemic feed british animals ministry\n",
      "Topic #5: bank world countries mr debt dollars hurricane thomas says eclipse poverty development aliens government census developing market billion clarence mexico\n",
      "Topic #6: exxon air valdez oil alaska taylor million force eclipse spill police crash miss ap wednesday authorities plane flight enquirer aboard\n",
      "Topic #7: oil exxon valdez spill tanker guard alaska ship coast sound 000 service area says miles cleanup police forest saturday 10\n",
      "Topic #8: kelley mr boston park tb aids tuberculosis percent says yellowstone police 000 forest exxon drug marathon france fires house study\n",
      "Topic #9: hurricane hurricanes storm storms mph miami winds tropical atlantic season center sheets florida gilbert hugo hit coast texas south weather\n",
      "Topic #10: johnson diamond beers diamonds world ben market lewis cso south gold cartel steroids francis canada record botswana drugs rough olympics\n",
      "Topic #11: aliens county illegal census state city federal house earthquake 000 president aid thomas million court officials residents mexico eclipse senate\n",
      "Topic #12: french tunnel court 000 british issues thomas sen exxon channel rights box losses hurricane spill just hearings eclipse billion expected\n",
      "Topic #13: tb slovenia thomas federal national mr park state miles control just forest exxon plan tuesday officials left monday going according\n",
      "Topic #14: botswana cso slovenia police market beers diamond diamonds country exxon contract valdez yugoslavia illegal white says rough yugoslav relations chicago\n",
      "Topic #15: caribbean basin nafta drought mr national says forest farmers fires region states trade diabetes police acres president johnson american mexico\n",
      "Topic #16: oil police fires shining officials yellowstone 10 path park million diamond beers mr force smith peru 000 diamonds spill national\n",
      "Topic #17: slovenia tunnel yugoslavia french british slovene europe france croatia channel republic link slovenian yugoslav britain rail serbia london project billion\n",
      "Topic #18: taylor hospital pneumonia miss doctors liz 87 st actress elizabeth john exposure health world addiction april statement hospitalized ap condition\n",
      "Topic #19: police officers officer jackson gates brutality dickey department incident beach car report angeles force los long racism attorney investigation city\n"
     ]
    }
   ],
   "source": [
    "lda_duc = LatentDirichletAllocation(n_components=20, max_iter=5, \n",
    "      learning_method='online', learning_offset=50., random_state=0).fit(tf_duc)\n",
    "\n",
    "print(\"\\nTopics in LDA model:\")\n",
    "print_top_words(lda_duc, tf_vectorizer_duc.get_feature_names(), 20)"
   ]
  },
  {
   "cell_type": "code",
   "execution_count": 61,
   "metadata": {
    "scrolled": true
   },
   "outputs": [
    {
     "name": "stdout",
     "output_type": "stream",
     "text": [
      "\n",
      "Topics in LDA model:\n",
      "Topic #0: diamond beers diamonds market cso cartel south world botswana sales rough africa london says production african mines dollars prices dealers\n",
      "Topic #1: forest fires firefighters tunnel acres national park 000 service officials french yellowstone california water burned british areas miles brush trees\n",
      "Topic #2: earthquake quake earthquakes magnitude richter scale damage area fault probability allen pain recorded prediction survey geological quakes major reading madrid\n",
      "Topic #3: mr police state world says eclipse government bank states 10 city path 000 president house news term shining congress officials\n",
      "Topic #4: disease tuberculosis bse cases health cattle aids tb cjd cow infected agriculture sheep farmers mad scientists epidemic british feed dr\n",
      "Topic #5: bank world debt eclipse countries mr thomas says sun dollars aliens diamond mexico development market moon census billion government africa\n",
      "Topic #6: air exxon valdez oil police million eclipse french alaska force spill 000 plane crash tunnel ap world associated second wednesday\n",
      "Topic #7: oil exxon spill valdez alaska tanker cleanup guard coast ship sound 000 million miles william reef prince wildlife hazelwood vessel\n",
      "Topic #8: kelley johnson police mr slovenia park boston canada yellowstone 000 percent says ben tuberculosis exxon forest drug fires aids marathon\n",
      "Topic #9: hurricane johnson taylor storm hurricanes storms center mph ben winds miami season ap tropical atlantic hospital national pneumonia lewis liz\n"
     ]
    }
   ],
   "source": [
    "lda_duc = LatentDirichletAllocation(n_components=10, max_iter=5, \n",
    "      learning_method='online', learning_offset=50., random_state=0).fit(tf_duc)\n",
    "\n",
    "print(\"\\nTopics in LDA model:\")\n",
    "print_top_words(lda_duc, tf_vectorizer_duc.get_feature_names(), 20)"
   ]
  },
  {
   "cell_type": "markdown",
   "metadata": {},
   "source": [
    "## Storing LDA topics and updating elastic search index for DUC"
   ]
  },
  {
   "cell_type": "code",
   "execution_count": 168,
   "metadata": {
    "collapsed": true
   },
   "outputs": [],
   "source": [
    "topic_components_duc=lda_duc.components_ / lda_duc.components_.sum(axis=1)[:, np.newaxis]\n",
    "\n",
    "for topic_idx, topic in enumerate(topic_components_duc):  \n",
    "    top_words=[]\n",
    "    for i in topic.argsort()[:-11:-1]:\n",
    "        top_words.append({\"word\":tf_vectorizer_duc.get_feature_names()[i],\"probability\":round(topic[i],4)})\n",
    "    \n",
    "    es.index(index=\"duc-topic-index\", doc_type='ductopics', id=topic_idx, \n",
    "             body={'topic_id': topic_idx,'top_words': top_words})"
   ]
  },
  {
   "cell_type": "code",
   "execution_count": 169,
   "metadata": {
    "collapsed": true
   },
   "outputs": [],
   "source": [
    "ldaductf = lda_duc.transform(tf_duc)\n",
    "for idx, dt in enumerate(ldaductf):\n",
    "    doc_topics=[]\n",
    "    for i in dt.argsort()[:-6:-1]:\n",
    "        doc_topics.append({\"topic\":i,\"probability\":round(dt[i],4)})\n",
    "    \n",
    "    es.update(index=\"duc-index\", doc_type='ducdocs', id=ducdocs.keys()[idx], \n",
    "              body={\"doc\": {'doc_id': ducdocs.keys()[idx],\"doc_topics\": doc_topics}})"
   ]
  },
  {
   "cell_type": "code",
   "execution_count": 174,
   "metadata": {
    "collapsed": true
   },
   "outputs": [],
   "source": [
    "from nltk.tokenize import sent_tokenize"
   ]
  },
  {
   "cell_type": "code",
   "execution_count": 183,
   "metadata": {},
   "outputs": [
    {
     "data": {
      "text/plain": [
       "array([[0.00944115, 0.00944115, 0.00944115, 0.00944115, 0.00944115,\n",
       "        0.00944115, 0.00944115, 0.00944115, 0.00944115, 0.00944115,\n",
       "        0.82061817, 0.00944115, 0.00944115, 0.00944115, 0.00944115,\n",
       "        0.00944115, 0.00944115, 0.00944115, 0.00944115, 0.00944115]])"
      ]
     },
     "execution_count": 183,
     "metadata": {},
     "output_type": "execute_result"
    }
   ],
   "source": [
    "lda_duc.transform(tfidf_vectorizer_duc.transform([sent_tokenize(duc_X[0])[8]]))"
   ]
  },
  {
   "cell_type": "code",
   "execution_count": null,
   "metadata": {},
   "outputs": [],
   "source": []
  },
  {
   "cell_type": "code",
   "execution_count": null,
   "metadata": {
    "collapsed": true
   },
   "outputs": [],
   "source": []
  }
 ],
 "metadata": {
  "kernelspec": {
   "display_name": "Python 2",
   "language": "python",
   "name": "python2"
  },
  "language_info": {
   "codemirror_mode": {
    "name": "ipython",
    "version": 2
   },
   "file_extension": ".py",
   "mimetype": "text/x-python",
   "name": "python",
   "nbconvert_exporter": "python",
   "pygments_lexer": "ipython2",
   "version": "2.7.13"
  }
 },
 "nbformat": 4,
 "nbformat_minor": 2
}
