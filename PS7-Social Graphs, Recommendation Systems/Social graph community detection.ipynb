{
 "cells": [
  {
   "cell_type": "code",
   "execution_count": 13,
   "metadata": {},
   "outputs": [],
   "source": [
    "from igraph import *\n",
    "import pandas as pd\n",
    "import numpy as np\n",
    "import matplotlib.pyplot as plt"
   ]
  },
  {
   "cell_type": "code",
   "execution_count": 3,
   "metadata": {},
   "outputs": [],
   "source": [
    "origg = Graph()\n",
    "g=Graph()"
   ]
  },
  {
   "cell_type": "code",
   "execution_count": 4,
   "metadata": {},
   "outputs": [],
   "source": [
    "community=pd.read_csv(\"/Users/sasankauppu/Desktop/Data Mining CS6220/DataMining/Flickr_sampled_edges/community_membership_2K.csv\",header=None)\n",
    "edges=np.asarray(pd.read_csv(\"/Users/sasankauppu/Desktop/Data Mining CS6220/DataMining/Flickr_sampled_edges/edges_sampled_map_2K.csv\",header=None))"
   ]
  },
  {
   "cell_type": "code",
   "execution_count": 5,
   "metadata": {},
   "outputs": [],
   "source": [
    "g.add_vertices(max(community[0])+1)\n",
    "origg.add_vertices(max(community[0])+1)\n",
    "for i in edges:\n",
    "    g.add_edges([(i[0],i[1])])\n",
    "    origg.add_edges([(i[0],i[1])])"
   ]
  },
  {
   "cell_type": "code",
   "execution_count": 6,
   "metadata": {},
   "outputs": [],
   "source": [
    "def edge_betweenness(g1):\n",
    "    spaths=[]\n",
    "    for i in range(g1.vcount()):\n",
    "        for j in range(i+1,g1.vcount()):\n",
    "            spaths.append(g1.get_all_shortest_paths(i,j))\n",
    "    \n",
    "    betweenness=[]\n",
    "    for i in g1.get_edgelist():\n",
    "        el1=i[0]\n",
    "        el2=i[1]\n",
    "\n",
    "        bscore=0.0\n",
    "        for j in spaths:\n",
    "            bcount=0\n",
    "            if j!=[]:\n",
    "                for k in j:\n",
    "                    if el1 in k and el2 in k:\n",
    "                        bcount+=1.0\n",
    "                bscore+=bcount/len(j)\n",
    "        betweenness.append(bscore)\n",
    "        \n",
    "    return betweenness"
   ]
  },
  {
   "cell_type": "code",
   "execution_count": 7,
   "metadata": {},
   "outputs": [],
   "source": [
    "def calc_modularity(g1,g2):\n",
    "    mod=0.0\n",
    "    clusters=g2.clusters()\n",
    "    edgecount = len(g1.get_edgelist())\n",
    "    \n",
    "    for i in range(g1.vcount()):\n",
    "        for j in range(i+1,g1.vcount()):\n",
    "            fl=0\n",
    "            for k in clusters:\n",
    "                if i in k and j in k:\n",
    "                    fl=1\n",
    "                    break\n",
    "            \n",
    "            if fl==1:\n",
    "                if g1.get_eid(i,j,error=False)!=-1:\n",
    "                    mod+=1\n",
    "                mod-=((g1.degree(i)*g1.degree(j))/(2.0*edgecount))\n",
    "    \n",
    "    mod = mod/(2.0*edgecount)\n",
    "    return mod"
   ]
  },
  {
   "cell_type": "code",
   "execution_count": 10,
   "metadata": {
    "scrolled": true
   },
   "outputs": [],
   "source": [
    "cmod=[]\n",
    "for i in range(400):\n",
    "    bet = edge_betweenness(g)\n",
    "    deledges=[]\n",
    "    for j in np.argsort(bet)[::-1][:5]:\n",
    "        deledges.append(g.get_edgelist()[j])\n",
    "    g.delete_edges(deledges)\n",
    "    \n",
    "    cm=calc_modularity(origg,g)\n",
    "    cmod.append(cm)"
   ]
  },
  {
   "cell_type": "code",
   "execution_count": null,
   "metadata": {},
   "outputs": [],
   "source": []
  },
  {
   "cell_type": "code",
   "execution_count": null,
   "metadata": {},
   "outputs": [],
   "source": []
  },
  {
   "cell_type": "code",
   "execution_count": 17,
   "metadata": {},
   "outputs": [
    {
     "data": {
      "image/png": "[encoded data removed]",
      "text/plain": [
       "<Figure size 432x288 with 1 Axes>"
      ]
     },
     "metadata": {},
     "output_type": "display_data"
    }
   ],
   "source": [
    "plt.plot(range(401), [calc_modularity(origg,origg)]+cmod)\n",
    "plt.title(\"\")\n",
    "plt.ylabel(\"modularity\")\n",
    "plt.xlabel(\"iterations\")\n",
    "plt.show()"
   ]
  },
  {
   "cell_type": "code",
   "execution_count": null,
   "metadata": {},
   "outputs": [],
   "source": []
  },
  {
   "cell_type": "code",
   "execution_count": 56,
   "metadata": {
    "collapsed": true
   },
   "outputs": [],
   "source": [
    "'''g1=Graph()\n",
    "g1.add_vertices(6)\n",
    "g1.add_edges([(0,1),(1,4),(0,4),(1,2),(2,3),(3,4),(3,5)])\n",
    "\n",
    "g2=Graph()\n",
    "g2.add_vertices(6)\n",
    "g2.add_edges([(0,1),(1,4),(0,4),(1,2),(2,3),(3,4),(3,5)])'''"
   ]
  }
 ],
 "metadata": {
  "kernelspec": {
   "display_name": "Python 2",
   "language": "python",
   "name": "python2"
  },
  "language_info": {
   "codemirror_mode": {
    "name": "ipython",
    "version": 2
   },
   "file_extension": ".py",
   "mimetype": "text/x-python",
   "name": "python",
   "nbconvert_exporter": "python",
   "pygments_lexer": "ipython2",
   "version": "2.7.13"
  }
 },
 "nbformat": 4,
 "nbformat_minor": 2
}
