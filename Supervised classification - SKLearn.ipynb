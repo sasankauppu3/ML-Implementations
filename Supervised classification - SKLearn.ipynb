{
 "cells": [
  {
   "cell_type": "code",
   "execution_count": 2,
   "metadata": {
    "collapsed": true
   },
   "outputs": [],
   "source": [
    "from sklearn.datasets import fetch_mldata\n",
    "from sklearn.datasets import fetch_20newsgroups\n",
    "from sklearn.linear_model import LogisticRegression\n",
    "from sklearn.tree import DecisionTreeClassifier\n",
    "from sklearn.feature_extraction.text import CountVectorizer\n",
    "from sklearn.feature_extraction.text import TfidfTransformer\n",
    "import matplotlib.pyplot as plt\n",
    "import numpy as np\n",
    "import pandas as pd\n",
    "import csv\n",
    "from sklearn.utils import shuffle\n",
    "%matplotlib inline"
   ]
  },
  {
   "cell_type": "code",
   "execution_count": 3,
   "metadata": {
    "collapsed": true
   },
   "outputs": [],
   "source": [
    "def display_digit(digit):\n",
    "    \"\"\" \n",
    "    graphically displays a 784x1 vector, representing a digit\n",
    "    \"\"\"\n",
    "    image = digit\n",
    "    plt.figure()\n",
    "    fig = plt.imshow(image.reshape(28,28))\n",
    "    fig.set_cmap('gray_r')\n",
    "    fig.axes.get_xaxis().set_visible(False)\n",
    "    fig.axes.get_yaxis().set_visible(False)\n",
    "    "
   ]
  },
  {
   "cell_type": "markdown",
   "metadata": {},
   "source": [
    "# MNIST"
   ]
  },
  {
   "cell_type": "code",
   "execution_count": 4,
   "metadata": {
    "collapsed": true
   },
   "outputs": [],
   "source": [
    "mnist = fetch_mldata('MNIST original', data_home=\"/Users/sasankauppu/Desktop/Data Mining CS6220/\")\n",
    "\n",
    "mn_X_train = mnist.data[:60000]\n",
    "mn_y_train = mnist.target[:60000]\n",
    "\n",
    "mn_X_test = mnist.data[-10000:]\n",
    "mn_y_test = mnist.target[-10000:]\n",
    "\n",
    "mnist = None"
   ]
  },
  {
   "cell_type": "code",
   "execution_count": 46,
   "metadata": {},
   "outputs": [
    {
     "name": "stderr",
     "output_type": "stream",
     "text": [
      "[Parallel(n_jobs=1)]: Done  10 out of  10 | elapsed:   38.6s finished\n"
     ]
    },
    {
     "name": "stdout",
     "output_type": "stream",
     "text": [
      "Training accuracy:  0.9258333333333333\n",
      "Testing accuracy:  0.9174\n"
     ]
    }
   ],
   "source": [
    "logmodel = LogisticRegression(penalty='l2',verbose=1,solver = 'lbfgs',max_iter=100)\n",
    "logmodel.fit(mn_X_train, mn_y_train)\n",
    "\n",
    "print \"Training accuracy: \",logmodel.score(mn_X_train,mn_y_train)\n",
    "print \"Testing accuracy: \",logmodel.score(mn_X_test,mn_y_test)"
   ]
  },
  {
   "cell_type": "code",
   "execution_count": 49,
   "metadata": {},
   "outputs": [
    {
     "data": {
      "image/png": "[encoded data removed]",
      "text/plain": [
       "<matplotlib.figure.Figure at 0x10b611b50>"
      ]
     },
     "metadata": {},
     "output_type": "display_data"
    },
    {
     "data": {
      "image/png": "[encoded data removed]",
      "text/plain": [
       "<matplotlib.figure.Figure at 0x10c315990>"
      ]
     },
     "metadata": {},
     "output_type": "display_data"
    },
    {
     "data": {
      "image/png": "[encoded data removed]",
      "text/plain": [
       "<matplotlib.figure.Figure at 0x103bf5850>"
      ]
     },
     "metadata": {},
     "output_type": "display_data"
    },
    {
     "data": {
      "image/png": "[encoded data removed]",
      "text/plain": [
       "<matplotlib.figure.Figure at 0x112c6c110>"
      ]
     },
     "metadata": {},
     "output_type": "display_data"
    },
    {
     "data": {
      "image/png": "[encoded data removed]",
      "text/plain": [
       "<matplotlib.figure.Figure at 0x112321ed0>"
      ]
     },
     "metadata": {},
     "output_type": "display_data"
    },
    {
     "data": {
      "image/png": "[encoded data removed]",
      "text/plain": [
       "<matplotlib.figure.Figure at 0x10b54cd10>"
      ]
     },
     "metadata": {},
     "output_type": "display_data"
    },
    {
     "data": {
      "image/png": "[encoded data removed]",
      "text/plain": [
       "<matplotlib.figure.Figure at 0x103c54a50>"
      ]
     },
     "metadata": {},
     "output_type": "display_data"
    },
    {
     "data": {
      "image/png": "[encoded data removed]",
      "text/plain": [
       "<matplotlib.figure.Figure at 0x112bc9290>"
      ]
     },
     "metadata": {},
     "output_type": "display_data"
    },
    {
     "data": {
      "image/png": "[encoded data removed]",
      "text/plain": [
       "<matplotlib.figure.Figure at 0x10ab9e090>"
      ]
     },
     "metadata": {},
     "output_type": "display_data"
    },
    {
     "data": {
      "image/png": "[encoded data removed]",
      "text/plain": [
       "<matplotlib.figure.Figure at 0x10c3477d0>"
      ]
     },
     "metadata": {},
     "output_type": "display_data"
    }
   ],
   "source": [
    "for ft in logmodel.coef_:\n",
    "    p = [0 if i not in np.argsort(np.absolute(ft))[-30:] else 255 for i in range(len(ft))]\n",
    "    display_digit(np.asarray(p))"
   ]
  },
  {
   "cell_type": "code",
   "execution_count": 38,
   "metadata": {},
   "outputs": [
    {
     "name": "stdout",
     "output_type": "stream",
     "text": [
      "Training accuracy:  0.9223333333333333\n",
      "Testing accuracy:  0.8777\n"
     ]
    }
   ],
   "source": [
    "dtmodel = DecisionTreeClassifier(max_depth=32,min_samples_split=20,min_samples_leaf=10)\n",
    "dtmodel.fit(mn_X_train,mn_y_train)\n",
    "\n",
    "print \"Training accuracy: \",dtmodel.score(mn_X_train,mn_y_train)\n",
    "print \"Testing accuracy: \",dtmodel.score(mn_X_test,mn_y_test)"
   ]
  },
  {
   "cell_type": "code",
   "execution_count": 61,
   "metadata": {},
   "outputs": [
    {
     "data": {
      "image/png": "[encoded data removed]",
      "text/plain": [
       "<matplotlib.figure.Figure at 0x10b79b7d0>"
      ]
     },
     "metadata": {},
     "output_type": "display_data"
    }
   ],
   "source": [
    "p = [0 if i not in np.argsort(np.absolute(dtmodel.feature_importances_))[-30:] else 255 for i in range(len(dtmodel.feature_importances_))]\n",
    "display_digit(np.asarray(p))"
   ]
  },
  {
   "cell_type": "code",
   "execution_count": 62,
   "metadata": {
    "collapsed": true
   },
   "outputs": [],
   "source": [
    "mn_X_test=None\n",
    "mn_X_train=None\n",
    "mn_y_test=None\n",
    "mn_y_train=None"
   ]
  },
  {
   "cell_type": "markdown",
   "metadata": {},
   "source": [
    "# SPAMBASE"
   ]
  },
  {
   "cell_type": "code",
   "execution_count": 167,
   "metadata": {
    "collapsed": true
   },
   "outputs": [],
   "source": [
    "def load_spam_data():\n",
    "    data = []\n",
    "\n",
    "    f = open('/Users/sasankauppu/Desktop/Data Mining CS6220/DataMining/spambase/spambase.data')\n",
    "    reader = csv.reader(f)\n",
    "    \n",
    "    for row in reader:\n",
    "        data.append(row)\n",
    "    f.close()\n",
    "    \n",
    "    X = np.array([x[:-1] for x in data]).astype(np.float)\n",
    "    y = np.array([x[-1] for x in data]).astype(np.float)\n",
    "\n",
    "    return X, y\n",
    "\n",
    "spam_X,spam_y = load_spam_data()"
   ]
  },
  {
   "cell_type": "code",
   "execution_count": 169,
   "metadata": {
    "collapsed": true
   },
   "outputs": [],
   "source": [
    "idx = np.random.permutation(len(spam_X))\n",
    "spam_X,spam_y = spam_X[idx], spam_y[idx]\n",
    "\n",
    "split = int(len(spam_X)*0.75)\n",
    "\n",
    "\n",
    "spam_X_train = spam_X[:split]\n",
    "spam_y_train = spam_y[:split]\n",
    "spam_X_test = spam_X[split:]\n",
    "spam_y_test = spam_y[split:]\n",
    "\n",
    "\n",
    "del(spam_X)\n",
    "del(spam_y)"
   ]
  },
  {
   "cell_type": "code",
   "execution_count": 136,
   "metadata": {},
   "outputs": [
    {
     "name": "stdout",
     "output_type": "stream",
     "text": [
      "(3450, 57) (3450,)\n",
      "(1151, 57)\n"
     ]
    }
   ],
   "source": [
    "print spam_X_train.shape,spam_y_train.shape\n",
    "print spam_X_test.shape"
   ]
  },
  {
   "cell_type": "code",
   "execution_count": 137,
   "metadata": {},
   "outputs": [
    {
     "name": "stdout",
     "output_type": "stream",
     "text": [
      "Training accuracy:  0.9220289855072463\n",
      "Testing accuracy:  0.9313640312771503\n"
     ]
    },
    {
     "name": "stderr",
     "output_type": "stream",
     "text": [
      "[Parallel(n_jobs=1)]: Done   1 out of   1 | elapsed:    0.1s finished\n"
     ]
    }
   ],
   "source": [
    "logmodel = LogisticRegression(penalty='l2',verbose=1,solver = 'lbfgs',max_iter=100)\n",
    "logmodel.fit(spam_X_train, spam_y_train)\n",
    "\n",
    "print \"Training accuracy: \",logmodel.score(spam_X_train,spam_y_train)\n",
    "print \"Testing accuracy: \",logmodel.score(spam_X_test,spam_y_test)"
   ]
  },
  {
   "cell_type": "code",
   "execution_count": 161,
   "metadata": {},
   "outputs": [
    {
     "data": {
      "text/plain": [
       "array([[56, 55, 54,  0, 11, 35, 10, 18, 46, 12,  1, 13, 50,  2, 37,  9,\n",
       "        49, 53, 31, 33, 14,  3, 42, 39, 17, 47, 27, 21, 20, 30,  8, 40,\n",
       "        29, 48, 19, 38,  5, 34, 36, 28, 44, 43,  7, 32,  4, 52, 23, 16,\n",
       "        51, 41, 22, 15, 25,  6, 45, 24, 26]])"
      ]
     },
     "execution_count": 161,
     "metadata": {},
     "output_type": "execute_result"
    }
   ],
   "source": [
    "np.argsort(np.absolute(logmodel.coef_))[-30:] "
   ]
  },
  {
   "cell_type": "code",
   "execution_count": 138,
   "metadata": {},
   "outputs": [
    {
     "name": "stdout",
     "output_type": "stream",
     "text": [
      "Training accuracy:  0.9997101449275362\n",
      "Testing accuracy:  0.9122502172024327\n"
     ]
    }
   ],
   "source": [
    "dtmodel = DecisionTreeClassifier()\n",
    "dtmodel.fit(spam_X_train,spam_y_train)\n",
    "\n",
    "print \"Training accuracy: \",dtmodel.score(spam_X_train,spam_y_train)\n",
    "print \"Testing accuracy: \",dtmodel.score(spam_X_test,spam_y_test)"
   ]
  },
  {
   "cell_type": "code",
   "execution_count": 163,
   "metadata": {},
   "outputs": [
    {
     "data": {
      "text/plain": [
       "array([19, 25, 10, 27,  7,  2,  9, 44,  5,  8, 23, 48, 16, 49, 17, 34, 11,\n",
       "       45,  4, 26, 18, 20, 56, 55, 15, 54, 24, 51,  6, 52])"
      ]
     },
     "execution_count": 163,
     "metadata": {},
     "output_type": "execute_result"
    }
   ],
   "source": [
    "np.argsort(dtmodel.feature_importances_)[-30:]"
   ]
  },
  {
   "cell_type": "code",
   "execution_count": 170,
   "metadata": {
    "collapsed": true
   },
   "outputs": [],
   "source": [
    "del(spam_X_test)\n",
    "del(spam_X_train)\n",
    "del(spam_y_test)\n",
    "del(spam_y_train)"
   ]
  },
  {
   "cell_type": "markdown",
   "metadata": {},
   "source": [
    "# 20NG"
   ]
  },
  {
   "cell_type": "code",
   "execution_count": 3,
   "metadata": {},
   "outputs": [
    {
     "name": "stderr",
     "output_type": "stream",
     "text": [
      "/Users/sasankauppu/anaconda2/lib/python2.7/site-packages/sklearn/feature_extraction/text.py:1089: FutureWarning: Conversion of the second argument of issubdtype from `float` to `np.floating` is deprecated. In future, it will be treated as `np.float64 == np.dtype(float).type`.\n",
      "  if hasattr(X, 'dtype') and np.issubdtype(X.dtype, np.float):\n"
     ]
    }
   ],
   "source": [
    "ng = fetch_20newsgroups(subset='all')\n",
    "\n",
    "ng_X = ng.data\n",
    "ng_y = ng.target\n",
    "\n",
    "count_vect = CountVectorizer(stop_words=\"english\",min_df=3,max_df=0.5)\n",
    "ng_X = count_vect.fit_transform(ng_X)\n",
    "\n",
    "tfidf_transformer = TfidfTransformer(use_idf=True)\n",
    "ng_X = tfidf_transformer.fit_transform(ng_X)\n",
    "\n",
    "ng_X = np.asarray(ng_X.todense())"
   ]
  },
  {
   "cell_type": "code",
   "execution_count": 4,
   "metadata": {
    "collapsed": true
   },
   "outputs": [],
   "source": [
    "idx = np.random.permutation(len(ng_X))\n",
    "ng_X,ng_y = ng_X[idx], ng_y[idx]\n",
    "\n",
    "split = int(len(ng_X)*0.75)\n",
    "\n",
    "ng_X_train = ng_X[:split]\n",
    "ng_y_train = ng_y[:split]\n",
    "ng_X_test = ng_X[split:]\n",
    "ng_y_test = ng_y[split:]\n",
    "\n",
    "del(ng)\n",
    "del(ng_X)\n",
    "del(ng_y)"
   ]
  },
  {
   "cell_type": "code",
   "execution_count": null,
   "metadata": {
    "collapsed": true
   },
   "outputs": [],
   "source": []
  },
  {
   "cell_type": "code",
   "execution_count": 6,
   "metadata": {},
   "outputs": [
    {
     "name": "stderr",
     "output_type": "stream",
     "text": [
      "[Parallel(n_jobs=1)]: Done  20 out of  20 | elapsed:  7.7min finished\n"
     ]
    },
    {
     "name": "stdout",
     "output_type": "stream",
     "text": [
      "Training accuracy:  0.9651195698316117\n",
      "Testing accuracy:  0.8970713073005093\n"
     ]
    }
   ],
   "source": [
    "logmodel = LogisticRegression(penalty='l2',verbose=1,solver = 'lbfgs',max_iter=100)\n",
    "logmodel.fit(ng_X_train, ng_y_train)\n",
    "\n",
    "print \"Training accuracy: \",logmodel.score(ng_X_train,ng_y_train)\n",
    "print \"Testing accuracy: \",logmodel.score(ng_X_test,ng_y_test)"
   ]
  },
  {
   "cell_type": "code",
   "execution_count": 22,
   "metadata": {
    "collapsed": true
   },
   "outputs": [],
   "source": [
    "ng = fetch_20newsgroups(subset='all')\n",
    "ng_labels = ng.target_names\n",
    "del(ng)"
   ]
  },
  {
   "cell_type": "code",
   "execution_count": 24,
   "metadata": {
    "scrolled": true
   },
   "outputs": [
    {
     "name": "stdout",
     "output_type": "stream",
     "text": [
      "alt.atheism\n",
      "thoughts perry mantis umd gregg rice book benedikt morality moral wingate sgi atheist mangoe religion caltech kmr4 god livesey cobb jaeger rushdie osrhe islam okcforum mathew islamic atheism atheists keith \n",
      "---------------------------------------\n",
      "comp.graphics\n",
      "ftp algorithm surface program looking quicktime library files thanks viewer vga software hacker code points computer cview vesa format animation pov tiff siggraph 3do gif polygon images image 3d graphics \n",
      "---------------------------------------\n",
      "comp.os.ms-windows.misc\n",
      "deskjet utility fonts print sale bmp supporters using risc challenge printer ini nt win3 mouse program font manager drivers dos win ms os driver files ax cica microsoft file windows \n",
      "---------------------------------------\n",
      "comp.sys.ibm.pc.hardware\n",
      "disk settings ibm drives nanao cmos help modem monitors dos floppy port mac isa cpu irq vlb controller 486 thanks bus monitor scsi motherboard card ide pc gateway drive bios \n",
      "---------------------------------------\n",
      "comp.sys.mac.hardware\n",
      "pds modem thanks clock c650 board iici upgrade 040 simm drive adb windows com 610 simms bmug monitors macs se iisi monitor lciii powerbook quadra duo lc centris apple mac \n",
      "---------------------------------------\n",
      "comp.windows.x\n",
      "imake internet enterpoop thanks sun clients colormap running xview r5 xdm lib code color xlib widgets display x11 xpert expo application xv lcs mit widget xterm server x11r5 motif window \n",
      "---------------------------------------\n",
      "misc.forsale\n",
      "does trade camera ohio com think purdue modem excellent stereo offers includes selling article cd obo mail distribution email price asking interested wanted condition sell 00 forsale shipping offer sale \n",
      "---------------------------------------\n",
      "rec.autos\n",
      "blah tires com driving bmw automotive road convertible radar v8 westminster callison saturn clutch vw insurance nissan honda v6 autos toyota geico eliot dealer auto ford oil engine cars car \n",
      "---------------------------------------\n",
      "rec.motorcycles\n",
      "road ca speedy chain winona advice uk cop stafford east harley bnr shaft ranck yamaha ama infante honda com helmet dog rider motorcycles bikes ride riding motorcycle bmw dod bike \n",
      "---------------------------------------\n",
      "rec.sport.baseball\n",
      "pitch roger yankees mattingly alomar season batting stadium mets mailing jays stats morris runs hitter games giants pitching team pitcher year hit players sox game phillies braves cubs ball baseball \n",
      "---------------------------------------\n",
      "rec.sport.hockey\n",
      "goal montreal fans pittsburgh coach player goalie rangers devils cup season sharks buffalo detroit games penguins players pens playoffs bruins leafs wings play espn playoff ca team game nhl hockey \n",
      "---------------------------------------\n",
      "sci.crypt\n",
      "steve intercon wiretap encrypted na qualcomm privacy netcom tempest eff secret com keys algorithm escrow gtoal code sternlight cryptography tapped government security crypto des nsa chip pgp key encryption clipper \n",
      "---------------------------------------\n",
      "sci.electronics\n",
      "protected used cooling tape 8051 ir babb noise solvent output detector power ground rf radar phone circuits amp ic windows use audio motorola battery tv radio voltage copy electronics circuit \n",
      "---------------------------------------\n",
      "sci.med\n",
      "diet allergic kidney patients water patient information surgery foods banks gordon dyer yeast geb effects skin food medicine krillean pain treatment health med cancer pitt disease photography msg medical doctor \n",
      "---------------------------------------\n",
      "sci.space\n",
      "nicho zoo solar aurora lunar flight planets dietz access astronomy dc hst prb mars gamma mission spacecraft digex sci earth pat alaska launch sky henry shuttle orbit nasa moon space \n",
      "---------------------------------------\n",
      "soc.religion.christian\n",
      "paul gvg47 james distribution jesus heaven bible marriage mary homosexuality geneva book petch verse hell catholic posting host nntp clh 1993 sin christianity christ christian christians athos god rutgers church \n",
      "---------------------------------------\n",
      "talk.politics.guns\n",
      "gas clesun bd weapon nra roby government handheld compound cdt handgun clinton militia texas survivors feustel amendment dividian com stratus burns batf ranch weapons firearms waco atf fbi guns gun \n",
      "---------------------------------------\n",
      "talk.politics.mideast\n",
      "said adam jerusalem zionism angmar cpr iran cosmo freedom serbs mcgill argic jake arabs policy bosnia armenia serdar turkey virginia muslim muslims armenian jewish armenians arab turkish jews israeli israel \n",
      "---------------------------------------\n",
      "talk.politics.misc\n",
      "party drieux study desy horne homosexuals waco isc income broward com garrett ingres children br sexual state hallam people president government clayton health tax drugs kaldis gay optilink clinton cramer \n",
      "---------------------------------------\n",
      "talk.religion.misc\n",
      "thyagi burden moment mormon ch981 hudson malcolm psyrobtw biblical amdahl 2000 arizona mithras order abortion kent buffalo royalroads rosicrucian weiss mormons morality religion objective jesus brian god koresh sandvik christian \n",
      "---------------------------------------\n"
     ]
    }
   ],
   "source": [
    "text=\"\"\n",
    "ct=0\n",
    "\n",
    "for ft in logmodel.coef_:\n",
    "    print ng_labels[logmodel.classes_[ct]]\n",
    "    text=\"\"\n",
    "    for i in np.argsort(np.absolute(ft))[-30:]:\n",
    "        text+=count_vect.get_feature_names()[i]+\" \"\n",
    "    print text\n",
    "    print \"---------------------------------------\"\n",
    "    ct+=1\n",
    "    "
   ]
  },
  {
   "cell_type": "code",
   "execution_count": 5,
   "metadata": {},
   "outputs": [
    {
     "name": "stdout",
     "output_type": "stream",
     "text": [
      "Training accuracy:  0.999929248620348\n",
      "Testing accuracy:  0.6676570458404074\n"
     ]
    }
   ],
   "source": [
    "dtmodel = DecisionTreeClassifier(min_samples_split=2,min_samples_leaf=1)\n",
    "dtmodel.fit(ng_X_train, ng_y_train)\n",
    "\n",
    "print \"Training accuracy: \",dtmodel.score(ng_X_train,ng_y_train)\n",
    "print \"Testing accuracy: \",dtmodel.score(ng_X_test,ng_y_test)"
   ]
  },
  {
   "cell_type": "code",
   "execution_count": 28,
   "metadata": {},
   "outputs": [
    {
     "name": "stdout",
     "output_type": "stream",
     "text": [
      "cramer circuit controller apple motif government doctor nhl encryption article team window atheists fbi turkish bike mac graphics god gun baseball israel rutgers car space hockey windows sale dod clipper \n"
     ]
    }
   ],
   "source": [
    "text=\"\"\n",
    "for i in np.argsort(np.absolute(dtmodel.feature_importances_))[-30:]:\n",
    "    text+=count_vect.get_feature_names()[i]+\" \"\n",
    "print text"
   ]
  },
  {
   "cell_type": "code",
   "execution_count": 6,
   "metadata": {},
   "outputs": [
    {
     "name": "stdout",
     "output_type": "stream",
     "text": [
      "Training accuracy:  0.645464836564313\n",
      "Testing accuracy:  0.5744906621392191\n"
     ]
    }
   ],
   "source": [
    "dtmodel = DecisionTreeClassifier(max_depth=64,min_samples_split=20,min_samples_leaf=10)\n",
    "dtmodel.fit(ng_X_train, ng_y_train)\n",
    "\n",
    "print \"Training accuracy: \",dtmodel.score(ng_X_train,ng_y_train)\n",
    "print \"Testing accuracy: \",dtmodel.score(ng_X_test,ng_y_test)"
   ]
  },
  {
   "cell_type": "code",
   "execution_count": 7,
   "metadata": {},
   "outputs": [
    {
     "name": "stdout",
     "output_type": "stream",
     "text": [
      "Training accuracy:  0.682043299844347\n",
      "Testing accuracy:  0.581918505942275\n"
     ]
    }
   ],
   "source": [
    "dtmodel = DecisionTreeClassifier(max_depth=64,min_samples_split=20,min_samples_leaf=5)\n",
    "dtmodel.fit(ng_X_train, ng_y_train)\n",
    "\n",
    "print \"Training accuracy: \",dtmodel.score(ng_X_train,ng_y_train)\n",
    "print \"Testing accuracy: \",dtmodel.score(ng_X_test,ng_y_test)"
   ]
  },
  {
   "cell_type": "code",
   "execution_count": null,
   "metadata": {
    "collapsed": true
   },
   "outputs": [],
   "source": []
  }
 ],
 "metadata": {
  "kernelspec": {
   "display_name": "Python 2",
   "language": "python",
   "name": "python2"
  },
  "language_info": {
   "codemirror_mode": {
    "name": "ipython",
    "version": 2
   },
   "file_extension": ".py",
   "mimetype": "text/x-python",
   "name": "python",
   "nbconvert_exporter": "python",
   "pygments_lexer": "ipython2",
   "version": "2.7.13"
  }
 },
 "nbformat": 4,
 "nbformat_minor": 2
}
